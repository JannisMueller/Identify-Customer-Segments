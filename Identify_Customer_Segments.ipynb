{
 "cells": [
  {
   "cell_type": "markdown",
   "metadata": {},
   "source": [
    "# Project: Identify Customer Segments\n",
    "\n",
    "In this project, I will apply unsupervised learning techniques to identify segments of the population that form the core customer base for a mail-order sales company in Germany. These segments can then be used to direct marketing campaigns towards audiences that will have the highest expected rate of returns. The data that you will use has been provided by our partners at Bertelsmann Arvato Analytics, and represents a real-life data science task.\n",
    "\n",
    "This notebook will help you complete this task by providing a framework within which you will perform your analysis steps. In each step of the project, you will see some text describing the subtask that you will perform, followed by one or more code cells for you to complete your work. **Feel free to add additional code and markdown cells as you go along so that you can explore everything in precise chunks.** The code cells provided in the base template will outline only the major tasks, and will usually not be enough to cover all of the minor tasks that comprise it.\n",
    "\n",
    "It should be noted that while there will be precise guidelines on how you should handle certain tasks in the project, there will also be places where an exact specification is not provided. **There will be times in the project where you will need to make and justify your own decisions on how to treat the data.** These are places where there may not be only one way to handle the data. In real-life tasks, there may be many valid ways to approach an analysis task. One of the most important things you can do is clearly document your approach so that other scientists can understand the decisions you've made.\n",
    "\n",
    "At the end of most sections, there will be a Markdown cell labeled **Discussion**. In these cells, you will report your findings for the completed section, as well as document the decisions that you made in your approach to each subtask. **Your project will be evaluated not just on the code used to complete the tasks outlined, but also your communication about your observations and conclusions at each stage.**"
   ]
  },
  {
   "cell_type": "code",
   "execution_count": 36,
   "metadata": {},
   "outputs": [],
   "source": [
    "# import libraries here; add more as necessary\n",
    "import numpy as np\n",
    "import pandas as pd\n",
    "import matplotlib.pyplot as plt\n",
    "import seaborn as sns\n",
    "import random\n",
    "from sklearn.preprocessing import OneHotEncoder\n",
    "from sklearn.preprocessing import Imputer\n",
    "from sklearn.preprocessing import StandardScaler\n",
    "from sklearn.decomposition import PCA\n",
    "from sklearn.cluster import KMeans\n",
    "import json\n",
    "\n",
    "# magic word for producing visualizations in notebook\n",
    "%matplotlib inline"
   ]
  },
  {
   "cell_type": "markdown",
   "metadata": {},
   "source": [
    "### Step 0: Load the Data\n",
    "\n",
    "There are four files associated with this project (not including this one):\n",
    "\n",
    "- `Udacity_AZDIAS_Subset.csv`: Demographics data for the general population of Germany; 891211 persons (rows) x 85 features (columns).\n",
    "- `Udacity_CUSTOMERS_Subset.csv`: Demographics data for customers of a mail-order company; 191652 persons (rows) x 85 features (columns).\n",
    "- `Data_Dictionary.md`: Detailed information file about the features in the provided datasets.\n",
    "- `AZDIAS_Feature_Summary.csv`: Summary of feature attributes for demographics data; 85 features (rows) x 4 columns\n",
    "\n",
    "Each row of the demographics files represents a single person, but also includes information outside of individuals, including information about their household, building, and neighborhood. You will use this information to cluster the general population into groups with similar demographic properties. Then, you will see how the people in the customers dataset fit into those created clusters. The hope here is that certain clusters are over-represented in the customers data, as compared to the general population; those over-represented clusters will be assumed to be part of the core userbase. This information can then be used for further applications, such as targeting for a marketing campaign.\n",
    "\n",
    "To start off with, load in the demographics data for the general population into a pandas DataFrame, and do the same for the feature attributes summary. Note for all of the `.csv` data files in this project: they're semicolon (`;`) delimited, so you'll need an additional argument in your [`read_csv()`](https://pandas.pydata.org/pandas-docs/stable/generated/pandas.read_csv.html) call to read in the data properly. Also, considering the size of the main dataset, it may take some time for it to load completely.\n",
    "\n",
    "Once the dataset is loaded, it's recommended that you take a little bit of time just browsing the general structure of the dataset and feature summary file. You'll be getting deep into the innards of the cleaning in the first major step of the project, so gaining some general familiarity can help you get your bearings."
   ]
  },
  {
   "cell_type": "code",
   "execution_count": 417,
   "metadata": {},
   "outputs": [
    {
     "data": {
      "text/html": [
       "<div>\n",
       "<style scoped>\n",
       "    .dataframe tbody tr th:only-of-type {\n",
       "        vertical-align: middle;\n",
       "    }\n",
       "\n",
       "    .dataframe tbody tr th {\n",
       "        vertical-align: top;\n",
       "    }\n",
       "\n",
       "    .dataframe thead th {\n",
       "        text-align: right;\n",
       "    }\n",
       "</style>\n",
       "<table border=\"1\" class=\"dataframe\">\n",
       "  <thead>\n",
       "    <tr style=\"text-align: right;\">\n",
       "      <th></th>\n",
       "      <th>AGER_TYP</th>\n",
       "      <th>ALTERSKATEGORIE_GROB</th>\n",
       "      <th>ANREDE_KZ</th>\n",
       "      <th>CJT_GESAMTTYP</th>\n",
       "      <th>FINANZ_MINIMALIST</th>\n",
       "      <th>FINANZ_SPARER</th>\n",
       "      <th>FINANZ_VORSORGER</th>\n",
       "      <th>FINANZ_ANLEGER</th>\n",
       "      <th>FINANZ_UNAUFFAELLIGER</th>\n",
       "      <th>FINANZ_HAUSBAUER</th>\n",
       "      <th>...</th>\n",
       "      <th>PLZ8_ANTG1</th>\n",
       "      <th>PLZ8_ANTG2</th>\n",
       "      <th>PLZ8_ANTG3</th>\n",
       "      <th>PLZ8_ANTG4</th>\n",
       "      <th>PLZ8_BAUMAX</th>\n",
       "      <th>PLZ8_HHZ</th>\n",
       "      <th>PLZ8_GBZ</th>\n",
       "      <th>ARBEIT</th>\n",
       "      <th>ORTSGR_KLS9</th>\n",
       "      <th>RELAT_AB</th>\n",
       "    </tr>\n",
       "  </thead>\n",
       "  <tbody>\n",
       "    <tr>\n",
       "      <th>0</th>\n",
       "      <td>-1</td>\n",
       "      <td>2</td>\n",
       "      <td>1</td>\n",
       "      <td>2.0</td>\n",
       "      <td>3</td>\n",
       "      <td>4</td>\n",
       "      <td>3</td>\n",
       "      <td>5</td>\n",
       "      <td>5</td>\n",
       "      <td>3</td>\n",
       "      <td>...</td>\n",
       "      <td>NaN</td>\n",
       "      <td>NaN</td>\n",
       "      <td>NaN</td>\n",
       "      <td>NaN</td>\n",
       "      <td>NaN</td>\n",
       "      <td>NaN</td>\n",
       "      <td>NaN</td>\n",
       "      <td>NaN</td>\n",
       "      <td>NaN</td>\n",
       "      <td>NaN</td>\n",
       "    </tr>\n",
       "    <tr>\n",
       "      <th>1</th>\n",
       "      <td>-1</td>\n",
       "      <td>1</td>\n",
       "      <td>2</td>\n",
       "      <td>5.0</td>\n",
       "      <td>1</td>\n",
       "      <td>5</td>\n",
       "      <td>2</td>\n",
       "      <td>5</td>\n",
       "      <td>4</td>\n",
       "      <td>5</td>\n",
       "      <td>...</td>\n",
       "      <td>2.0</td>\n",
       "      <td>3.0</td>\n",
       "      <td>2.0</td>\n",
       "      <td>1.0</td>\n",
       "      <td>1.0</td>\n",
       "      <td>5.0</td>\n",
       "      <td>4.0</td>\n",
       "      <td>3.0</td>\n",
       "      <td>5.0</td>\n",
       "      <td>4.0</td>\n",
       "    </tr>\n",
       "    <tr>\n",
       "      <th>2</th>\n",
       "      <td>-1</td>\n",
       "      <td>3</td>\n",
       "      <td>2</td>\n",
       "      <td>3.0</td>\n",
       "      <td>1</td>\n",
       "      <td>4</td>\n",
       "      <td>1</td>\n",
       "      <td>2</td>\n",
       "      <td>3</td>\n",
       "      <td>5</td>\n",
       "      <td>...</td>\n",
       "      <td>3.0</td>\n",
       "      <td>3.0</td>\n",
       "      <td>1.0</td>\n",
       "      <td>0.0</td>\n",
       "      <td>1.0</td>\n",
       "      <td>4.0</td>\n",
       "      <td>4.0</td>\n",
       "      <td>3.0</td>\n",
       "      <td>5.0</td>\n",
       "      <td>2.0</td>\n",
       "    </tr>\n",
       "    <tr>\n",
       "      <th>3</th>\n",
       "      <td>2</td>\n",
       "      <td>4</td>\n",
       "      <td>2</td>\n",
       "      <td>2.0</td>\n",
       "      <td>4</td>\n",
       "      <td>2</td>\n",
       "      <td>5</td>\n",
       "      <td>2</td>\n",
       "      <td>1</td>\n",
       "      <td>2</td>\n",
       "      <td>...</td>\n",
       "      <td>2.0</td>\n",
       "      <td>2.0</td>\n",
       "      <td>2.0</td>\n",
       "      <td>0.0</td>\n",
       "      <td>1.0</td>\n",
       "      <td>3.0</td>\n",
       "      <td>4.0</td>\n",
       "      <td>2.0</td>\n",
       "      <td>3.0</td>\n",
       "      <td>3.0</td>\n",
       "    </tr>\n",
       "    <tr>\n",
       "      <th>4</th>\n",
       "      <td>-1</td>\n",
       "      <td>3</td>\n",
       "      <td>1</td>\n",
       "      <td>5.0</td>\n",
       "      <td>4</td>\n",
       "      <td>3</td>\n",
       "      <td>4</td>\n",
       "      <td>1</td>\n",
       "      <td>3</td>\n",
       "      <td>2</td>\n",
       "      <td>...</td>\n",
       "      <td>2.0</td>\n",
       "      <td>4.0</td>\n",
       "      <td>2.0</td>\n",
       "      <td>1.0</td>\n",
       "      <td>2.0</td>\n",
       "      <td>3.0</td>\n",
       "      <td>3.0</td>\n",
       "      <td>4.0</td>\n",
       "      <td>6.0</td>\n",
       "      <td>5.0</td>\n",
       "    </tr>\n",
       "    <tr>\n",
       "      <th>5</th>\n",
       "      <td>3</td>\n",
       "      <td>1</td>\n",
       "      <td>2</td>\n",
       "      <td>2.0</td>\n",
       "      <td>3</td>\n",
       "      <td>1</td>\n",
       "      <td>5</td>\n",
       "      <td>2</td>\n",
       "      <td>2</td>\n",
       "      <td>5</td>\n",
       "      <td>...</td>\n",
       "      <td>2.0</td>\n",
       "      <td>3.0</td>\n",
       "      <td>1.0</td>\n",
       "      <td>1.0</td>\n",
       "      <td>1.0</td>\n",
       "      <td>5.0</td>\n",
       "      <td>5.0</td>\n",
       "      <td>2.0</td>\n",
       "      <td>3.0</td>\n",
       "      <td>3.0</td>\n",
       "    </tr>\n",
       "    <tr>\n",
       "      <th>6</th>\n",
       "      <td>-1</td>\n",
       "      <td>2</td>\n",
       "      <td>2</td>\n",
       "      <td>5.0</td>\n",
       "      <td>1</td>\n",
       "      <td>5</td>\n",
       "      <td>1</td>\n",
       "      <td>5</td>\n",
       "      <td>4</td>\n",
       "      <td>3</td>\n",
       "      <td>...</td>\n",
       "      <td>3.0</td>\n",
       "      <td>3.0</td>\n",
       "      <td>1.0</td>\n",
       "      <td>0.0</td>\n",
       "      <td>1.0</td>\n",
       "      <td>5.0</td>\n",
       "      <td>5.0</td>\n",
       "      <td>4.0</td>\n",
       "      <td>6.0</td>\n",
       "      <td>3.0</td>\n",
       "    </tr>\n",
       "    <tr>\n",
       "      <th>7</th>\n",
       "      <td>-1</td>\n",
       "      <td>1</td>\n",
       "      <td>1</td>\n",
       "      <td>3.0</td>\n",
       "      <td>3</td>\n",
       "      <td>3</td>\n",
       "      <td>4</td>\n",
       "      <td>1</td>\n",
       "      <td>3</td>\n",
       "      <td>2</td>\n",
       "      <td>...</td>\n",
       "      <td>3.0</td>\n",
       "      <td>3.0</td>\n",
       "      <td>1.0</td>\n",
       "      <td>0.0</td>\n",
       "      <td>1.0</td>\n",
       "      <td>4.0</td>\n",
       "      <td>4.0</td>\n",
       "      <td>2.0</td>\n",
       "      <td>5.0</td>\n",
       "      <td>2.0</td>\n",
       "    </tr>\n",
       "    <tr>\n",
       "      <th>8</th>\n",
       "      <td>-1</td>\n",
       "      <td>3</td>\n",
       "      <td>1</td>\n",
       "      <td>3.0</td>\n",
       "      <td>4</td>\n",
       "      <td>4</td>\n",
       "      <td>2</td>\n",
       "      <td>4</td>\n",
       "      <td>2</td>\n",
       "      <td>2</td>\n",
       "      <td>...</td>\n",
       "      <td>2.0</td>\n",
       "      <td>3.0</td>\n",
       "      <td>2.0</td>\n",
       "      <td>1.0</td>\n",
       "      <td>1.0</td>\n",
       "      <td>3.0</td>\n",
       "      <td>3.0</td>\n",
       "      <td>2.0</td>\n",
       "      <td>4.0</td>\n",
       "      <td>3.0</td>\n",
       "    </tr>\n",
       "    <tr>\n",
       "      <th>9</th>\n",
       "      <td>-1</td>\n",
       "      <td>3</td>\n",
       "      <td>2</td>\n",
       "      <td>4.0</td>\n",
       "      <td>2</td>\n",
       "      <td>4</td>\n",
       "      <td>2</td>\n",
       "      <td>3</td>\n",
       "      <td>5</td>\n",
       "      <td>4</td>\n",
       "      <td>...</td>\n",
       "      <td>2.0</td>\n",
       "      <td>3.0</td>\n",
       "      <td>2.0</td>\n",
       "      <td>1.0</td>\n",
       "      <td>1.0</td>\n",
       "      <td>3.0</td>\n",
       "      <td>3.0</td>\n",
       "      <td>2.0</td>\n",
       "      <td>3.0</td>\n",
       "      <td>1.0</td>\n",
       "    </tr>\n",
       "  </tbody>\n",
       "</table>\n",
       "<p>10 rows × 85 columns</p>\n",
       "</div>"
      ],
      "text/plain": [
       "   AGER_TYP  ALTERSKATEGORIE_GROB  ANREDE_KZ  CJT_GESAMTTYP  \\\n",
       "0        -1                     2          1            2.0   \n",
       "1        -1                     1          2            5.0   \n",
       "2        -1                     3          2            3.0   \n",
       "3         2                     4          2            2.0   \n",
       "4        -1                     3          1            5.0   \n",
       "5         3                     1          2            2.0   \n",
       "6        -1                     2          2            5.0   \n",
       "7        -1                     1          1            3.0   \n",
       "8        -1                     3          1            3.0   \n",
       "9        -1                     3          2            4.0   \n",
       "\n",
       "   FINANZ_MINIMALIST  FINANZ_SPARER  FINANZ_VORSORGER  FINANZ_ANLEGER  \\\n",
       "0                  3              4                 3               5   \n",
       "1                  1              5                 2               5   \n",
       "2                  1              4                 1               2   \n",
       "3                  4              2                 5               2   \n",
       "4                  4              3                 4               1   \n",
       "5                  3              1                 5               2   \n",
       "6                  1              5                 1               5   \n",
       "7                  3              3                 4               1   \n",
       "8                  4              4                 2               4   \n",
       "9                  2              4                 2               3   \n",
       "\n",
       "   FINANZ_UNAUFFAELLIGER  FINANZ_HAUSBAUER    ...     PLZ8_ANTG1  PLZ8_ANTG2  \\\n",
       "0                      5                 3    ...            NaN         NaN   \n",
       "1                      4                 5    ...            2.0         3.0   \n",
       "2                      3                 5    ...            3.0         3.0   \n",
       "3                      1                 2    ...            2.0         2.0   \n",
       "4                      3                 2    ...            2.0         4.0   \n",
       "5                      2                 5    ...            2.0         3.0   \n",
       "6                      4                 3    ...            3.0         3.0   \n",
       "7                      3                 2    ...            3.0         3.0   \n",
       "8                      2                 2    ...            2.0         3.0   \n",
       "9                      5                 4    ...            2.0         3.0   \n",
       "\n",
       "   PLZ8_ANTG3  PLZ8_ANTG4  PLZ8_BAUMAX  PLZ8_HHZ  PLZ8_GBZ  ARBEIT  \\\n",
       "0         NaN         NaN          NaN       NaN       NaN     NaN   \n",
       "1         2.0         1.0          1.0       5.0       4.0     3.0   \n",
       "2         1.0         0.0          1.0       4.0       4.0     3.0   \n",
       "3         2.0         0.0          1.0       3.0       4.0     2.0   \n",
       "4         2.0         1.0          2.0       3.0       3.0     4.0   \n",
       "5         1.0         1.0          1.0       5.0       5.0     2.0   \n",
       "6         1.0         0.0          1.0       5.0       5.0     4.0   \n",
       "7         1.0         0.0          1.0       4.0       4.0     2.0   \n",
       "8         2.0         1.0          1.0       3.0       3.0     2.0   \n",
       "9         2.0         1.0          1.0       3.0       3.0     2.0   \n",
       "\n",
       "   ORTSGR_KLS9  RELAT_AB  \n",
       "0          NaN       NaN  \n",
       "1          5.0       4.0  \n",
       "2          5.0       2.0  \n",
       "3          3.0       3.0  \n",
       "4          6.0       5.0  \n",
       "5          3.0       3.0  \n",
       "6          6.0       3.0  \n",
       "7          5.0       2.0  \n",
       "8          4.0       3.0  \n",
       "9          3.0       1.0  \n",
       "\n",
       "[10 rows x 85 columns]"
      ]
     },
     "execution_count": 417,
     "metadata": {},
     "output_type": "execute_result"
    }
   ],
   "source": [
    "# Load in the general demographics data.\n",
    "azdias = pd.read_csv('Udacity_AZDIAS_Subset.csv', sep=';')\n",
    "\n",
    "# Load in the feature summary file.\n",
    "feat_info = pd.read_csv('AZDIAS_Feature_Summary.csv', sep=';')\n",
    "azdias.head(10)"
   ]
  },
  {
   "cell_type": "code",
   "execution_count": 38,
   "metadata": {},
   "outputs": [
    {
     "name": "stdout",
     "output_type": "stream",
     "text": [
      "(891221, 85)\n",
      "<class 'pandas.core.frame.DataFrame'>\n",
      "RangeIndex: 891221 entries, 0 to 891220\n",
      "Data columns (total 85 columns):\n",
      "AGER_TYP                 891221 non-null int64\n",
      "ALTERSKATEGORIE_GROB     891221 non-null int64\n",
      "ANREDE_KZ                891221 non-null int64\n",
      "CJT_GESAMTTYP            886367 non-null float64\n",
      "FINANZ_MINIMALIST        891221 non-null int64\n",
      "FINANZ_SPARER            891221 non-null int64\n",
      "FINANZ_VORSORGER         891221 non-null int64\n",
      "FINANZ_ANLEGER           891221 non-null int64\n",
      "FINANZ_UNAUFFAELLIGER    891221 non-null int64\n",
      "FINANZ_HAUSBAUER         891221 non-null int64\n",
      "FINANZTYP                891221 non-null int64\n",
      "GEBURTSJAHR              891221 non-null int64\n",
      "GFK_URLAUBERTYP          886367 non-null float64\n",
      "GREEN_AVANTGARDE         891221 non-null int64\n",
      "HEALTH_TYP               891221 non-null int64\n",
      "LP_LEBENSPHASE_FEIN      886367 non-null float64\n",
      "LP_LEBENSPHASE_GROB      886367 non-null float64\n",
      "LP_FAMILIE_FEIN          886367 non-null float64\n",
      "LP_FAMILIE_GROB          886367 non-null float64\n",
      "LP_STATUS_FEIN           886367 non-null float64\n",
      "LP_STATUS_GROB           886367 non-null float64\n",
      "NATIONALITAET_KZ         891221 non-null int64\n",
      "PRAEGENDE_JUGENDJAHRE    891221 non-null int64\n",
      "RETOURTYP_BK_S           886367 non-null float64\n",
      "SEMIO_SOZ                891221 non-null int64\n",
      "SEMIO_FAM                891221 non-null int64\n",
      "SEMIO_REL                891221 non-null int64\n",
      "SEMIO_MAT                891221 non-null int64\n",
      "SEMIO_VERT               891221 non-null int64\n",
      "SEMIO_LUST               891221 non-null int64\n",
      "SEMIO_ERL                891221 non-null int64\n",
      "SEMIO_KULT               891221 non-null int64\n",
      "SEMIO_RAT                891221 non-null int64\n",
      "SEMIO_KRIT               891221 non-null int64\n",
      "SEMIO_DOM                891221 non-null int64\n",
      "SEMIO_KAEM               891221 non-null int64\n",
      "SEMIO_PFLICHT            891221 non-null int64\n",
      "SEMIO_TRADV              891221 non-null int64\n",
      "SHOPPER_TYP              891221 non-null int64\n",
      "SOHO_KZ                  817722 non-null float64\n",
      "TITEL_KZ                 817722 non-null float64\n",
      "VERS_TYP                 891221 non-null int64\n",
      "ZABEOTYP                 891221 non-null int64\n",
      "ALTER_HH                 817722 non-null float64\n",
      "ANZ_PERSONEN             817722 non-null float64\n",
      "ANZ_TITEL                817722 non-null float64\n",
      "HH_EINKOMMEN_SCORE       872873 non-null float64\n",
      "KK_KUNDENTYP             306609 non-null float64\n",
      "W_KEIT_KIND_HH           783619 non-null float64\n",
      "WOHNDAUER_2008           817722 non-null float64\n",
      "ANZ_HAUSHALTE_AKTIV      798073 non-null float64\n",
      "ANZ_HH_TITEL             794213 non-null float64\n",
      "GEBAEUDETYP              798073 non-null float64\n",
      "KONSUMNAEHE              817252 non-null float64\n",
      "MIN_GEBAEUDEJAHR         798073 non-null float64\n",
      "OST_WEST_KZ              798073 non-null object\n",
      "WOHNLAGE                 798073 non-null float64\n",
      "CAMEO_DEUG_2015          792242 non-null object\n",
      "CAMEO_DEU_2015           792242 non-null object\n",
      "CAMEO_INTL_2015          792242 non-null object\n",
      "KBA05_ANTG1              757897 non-null float64\n",
      "KBA05_ANTG2              757897 non-null float64\n",
      "KBA05_ANTG3              757897 non-null float64\n",
      "KBA05_ANTG4              757897 non-null float64\n",
      "KBA05_BAUMAX             757897 non-null float64\n",
      "KBA05_GBZ                757897 non-null float64\n",
      "BALLRAUM                 797481 non-null float64\n",
      "EWDICHTE                 797481 non-null float64\n",
      "INNENSTADT               797481 non-null float64\n",
      "GEBAEUDETYP_RASTER       798066 non-null float64\n",
      "KKK                      770025 non-null float64\n",
      "MOBI_REGIO               757897 non-null float64\n",
      "ONLINE_AFFINITAET        886367 non-null float64\n",
      "REGIOTYP                 770025 non-null float64\n",
      "KBA13_ANZAHL_PKW         785421 non-null float64\n",
      "PLZ8_ANTG1               774706 non-null float64\n",
      "PLZ8_ANTG2               774706 non-null float64\n",
      "PLZ8_ANTG3               774706 non-null float64\n",
      "PLZ8_ANTG4               774706 non-null float64\n",
      "PLZ8_BAUMAX              774706 non-null float64\n",
      "PLZ8_HHZ                 774706 non-null float64\n",
      "PLZ8_GBZ                 774706 non-null float64\n",
      "ARBEIT                   794005 non-null float64\n",
      "ORTSGR_KLS9              794005 non-null float64\n",
      "RELAT_AB                 794005 non-null float64\n",
      "dtypes: float64(49), int64(32), object(4)\n",
      "memory usage: 578.0+ MB\n",
      "None\n"
     ]
    }
   ],
   "source": [
    "# Check the structure of theazdias data after it's loaded to get a first overview\n",
    "print(azdias.shape)\n",
    "print(azdias.info())"
   ]
  },
  {
   "cell_type": "code",
   "execution_count": 39,
   "metadata": {},
   "outputs": [
    {
     "data": {
      "text/html": [
       "<div>\n",
       "<style scoped>\n",
       "    .dataframe tbody tr th:only-of-type {\n",
       "        vertical-align: middle;\n",
       "    }\n",
       "\n",
       "    .dataframe tbody tr th {\n",
       "        vertical-align: top;\n",
       "    }\n",
       "\n",
       "    .dataframe thead th {\n",
       "        text-align: right;\n",
       "    }\n",
       "</style>\n",
       "<table border=\"1\" class=\"dataframe\">\n",
       "  <thead>\n",
       "    <tr style=\"text-align: right;\">\n",
       "      <th></th>\n",
       "      <th>attribute</th>\n",
       "      <th>information_level</th>\n",
       "      <th>type</th>\n",
       "      <th>missing_or_unknown</th>\n",
       "    </tr>\n",
       "  </thead>\n",
       "  <tbody>\n",
       "    <tr>\n",
       "      <th>0</th>\n",
       "      <td>AGER_TYP</td>\n",
       "      <td>person</td>\n",
       "      <td>categorical</td>\n",
       "      <td>[-1,0]</td>\n",
       "    </tr>\n",
       "    <tr>\n",
       "      <th>1</th>\n",
       "      <td>ALTERSKATEGORIE_GROB</td>\n",
       "      <td>person</td>\n",
       "      <td>ordinal</td>\n",
       "      <td>[-1,0,9]</td>\n",
       "    </tr>\n",
       "    <tr>\n",
       "      <th>2</th>\n",
       "      <td>ANREDE_KZ</td>\n",
       "      <td>person</td>\n",
       "      <td>categorical</td>\n",
       "      <td>[-1,0]</td>\n",
       "    </tr>\n",
       "    <tr>\n",
       "      <th>3</th>\n",
       "      <td>CJT_GESAMTTYP</td>\n",
       "      <td>person</td>\n",
       "      <td>categorical</td>\n",
       "      <td>[0]</td>\n",
       "    </tr>\n",
       "    <tr>\n",
       "      <th>4</th>\n",
       "      <td>FINANZ_MINIMALIST</td>\n",
       "      <td>person</td>\n",
       "      <td>ordinal</td>\n",
       "      <td>[-1]</td>\n",
       "    </tr>\n",
       "  </tbody>\n",
       "</table>\n",
       "</div>"
      ],
      "text/plain": [
       "              attribute information_level         type missing_or_unknown\n",
       "0              AGER_TYP            person  categorical             [-1,0]\n",
       "1  ALTERSKATEGORIE_GROB            person      ordinal           [-1,0,9]\n",
       "2             ANREDE_KZ            person  categorical             [-1,0]\n",
       "3         CJT_GESAMTTYP            person  categorical                [0]\n",
       "4     FINANZ_MINIMALIST            person      ordinal               [-1]"
      ]
     },
     "execution_count": 39,
     "metadata": {},
     "output_type": "execute_result"
    }
   ],
   "source": [
    "# getting first overview of the features\n",
    "feat_info.head()"
   ]
  },
  {
   "cell_type": "code",
   "execution_count": 40,
   "metadata": {},
   "outputs": [
    {
     "name": "stdout",
     "output_type": "stream",
     "text": [
      "(85, 4)\n",
      "<class 'pandas.core.frame.DataFrame'>\n",
      "RangeIndex: 85 entries, 0 to 84\n",
      "Data columns (total 4 columns):\n",
      "attribute             85 non-null object\n",
      "information_level     85 non-null object\n",
      "type                  85 non-null object\n",
      "missing_or_unknown    85 non-null object\n",
      "dtypes: object(4)\n",
      "memory usage: 2.7+ KB\n",
      "None\n"
     ]
    }
   ],
   "source": [
    "# Check the structure of the feature summary file data after it's loaded to get a first overview\n",
    "print(feat_info.shape)\n",
    "print(feat_info.info())"
   ]
  },
  {
   "cell_type": "markdown",
   "metadata": {},
   "source": [
    "\n",
    "## Step 1: Preprocessing\n",
    "\n",
    "### Step 1.1: Assess Missing Data\n",
    "\n",
    "The feature summary file contains a summary of properties for each demographics data column. You will use this file to help you make cleaning decisions during this stage of the project. First of all, you should assess the demographics data in terms of missing data. Pay attention to the following points as you perform your analysis, and take notes on what you observe. Make sure that you fill in the **Discussion** cell with your findings and decisions at the end of each step that has one!\n",
    "\n",
    "#### Step 1.1.1: Convert Missing Value Codes to NaNs\n",
    "The fourth column of the feature attributes summary (loaded in above as `feat_info`) documents the codes from the data dictionary that indicate missing or unknown data. While the file encodes this as a list (e.g. `[-1,0]`), this will get read in as a string object. You'll need to do a little bit of parsing to make use of it to identify and clean the data. Convert data that matches a 'missing' or 'unknown' value code into a numpy NaN value. You might want to see how much data takes on a 'missing' or 'unknown' code, and how much data is naturally missing, as a point of interest.\n",
    "\n",
    "**As one more reminder, you are encouraged to add additional cells to break up your analysis into manageable chunks.**"
   ]
  },
  {
   "cell_type": "code",
   "execution_count": 41,
   "metadata": {},
   "outputs": [
    {
     "name": "stdout",
     "output_type": "stream",
     "text": [
      "Total number of missing or unknown data before converting to NaN: 4896838\n"
     ]
    }
   ],
   "source": [
    "# Identify missing or unknown data values and convert them to NaNs.\n",
    "print('Total number of missing or unknown data before converting to NaN: {}'.format(azdias.isnull().sum().sum()))"
   ]
  },
  {
   "cell_type": "code",
   "execution_count": 42,
   "metadata": {},
   "outputs": [
    {
     "data": {
      "text/html": [
       "<div>\n",
       "<style scoped>\n",
       "    .dataframe tbody tr th:only-of-type {\n",
       "        vertical-align: middle;\n",
       "    }\n",
       "\n",
       "    .dataframe tbody tr th {\n",
       "        vertical-align: top;\n",
       "    }\n",
       "\n",
       "    .dataframe thead th {\n",
       "        text-align: right;\n",
       "    }\n",
       "</style>\n",
       "<table border=\"1\" class=\"dataframe\">\n",
       "  <thead>\n",
       "    <tr style=\"text-align: right;\">\n",
       "      <th></th>\n",
       "      <th>AGER_TYP</th>\n",
       "      <th>ALTERSKATEGORIE_GROB</th>\n",
       "      <th>ANREDE_KZ</th>\n",
       "      <th>CJT_GESAMTTYP</th>\n",
       "      <th>FINANZ_MINIMALIST</th>\n",
       "      <th>FINANZ_SPARER</th>\n",
       "      <th>FINANZ_VORSORGER</th>\n",
       "      <th>FINANZ_ANLEGER</th>\n",
       "      <th>FINANZ_UNAUFFAELLIGER</th>\n",
       "      <th>FINANZ_HAUSBAUER</th>\n",
       "      <th>...</th>\n",
       "      <th>PLZ8_ANTG1</th>\n",
       "      <th>PLZ8_ANTG2</th>\n",
       "      <th>PLZ8_ANTG3</th>\n",
       "      <th>PLZ8_ANTG4</th>\n",
       "      <th>PLZ8_BAUMAX</th>\n",
       "      <th>PLZ8_HHZ</th>\n",
       "      <th>PLZ8_GBZ</th>\n",
       "      <th>ARBEIT</th>\n",
       "      <th>ORTSGR_KLS9</th>\n",
       "      <th>RELAT_AB</th>\n",
       "    </tr>\n",
       "  </thead>\n",
       "  <tbody>\n",
       "    <tr>\n",
       "      <th>513546</th>\n",
       "      <td>-1</td>\n",
       "      <td>4</td>\n",
       "      <td>2</td>\n",
       "      <td>4.0</td>\n",
       "      <td>4</td>\n",
       "      <td>1</td>\n",
       "      <td>5</td>\n",
       "      <td>1</td>\n",
       "      <td>1</td>\n",
       "      <td>5</td>\n",
       "      <td>...</td>\n",
       "      <td>1.0</td>\n",
       "      <td>3.0</td>\n",
       "      <td>3.0</td>\n",
       "      <td>2.0</td>\n",
       "      <td>4.0</td>\n",
       "      <td>4.0</td>\n",
       "      <td>2.0</td>\n",
       "      <td>4.0</td>\n",
       "      <td>7.0</td>\n",
       "      <td>3.0</td>\n",
       "    </tr>\n",
       "  </tbody>\n",
       "</table>\n",
       "<p>1 rows × 85 columns</p>\n",
       "</div>"
      ],
      "text/plain": [
       "        AGER_TYP  ALTERSKATEGORIE_GROB  ANREDE_KZ  CJT_GESAMTTYP  \\\n",
       "513546        -1                     4          2            4.0   \n",
       "\n",
       "        FINANZ_MINIMALIST  FINANZ_SPARER  FINANZ_VORSORGER  FINANZ_ANLEGER  \\\n",
       "513546                  4              1                 5               1   \n",
       "\n",
       "        FINANZ_UNAUFFAELLIGER  FINANZ_HAUSBAUER    ...     PLZ8_ANTG1  \\\n",
       "513546                      1                 5    ...            1.0   \n",
       "\n",
       "        PLZ8_ANTG2  PLZ8_ANTG3  PLZ8_ANTG4  PLZ8_BAUMAX  PLZ8_HHZ  PLZ8_GBZ  \\\n",
       "513546         3.0         3.0         2.0          4.0       4.0       2.0   \n",
       "\n",
       "        ARBEIT  ORTSGR_KLS9  RELAT_AB  \n",
       "513546     4.0          7.0       3.0  \n",
       "\n",
       "[1 rows x 85 columns]"
      ]
     },
     "execution_count": 42,
     "metadata": {},
     "output_type": "execute_result"
    }
   ],
   "source": [
    "# choosing a value in order to perfom sanity checks later\n",
    "azdias[azdias['CAMEO_DEU_2015']== 'XX'].sample(1)"
   ]
  },
  {
   "cell_type": "code",
   "execution_count": 419,
   "metadata": {},
   "outputs": [
    {
     "data": {
      "text/plain": [
       "'X'"
      ]
     },
     "execution_count": 419,
     "metadata": {},
     "output_type": "execute_result"
    }
   ],
   "source": [
    "azdias['CAMEO_DEUG_2015'][430014]"
   ]
  },
  {
   "cell_type": "code",
   "execution_count": 44,
   "metadata": {},
   "outputs": [],
   "source": [
    "# function for parsing and replacing the identified values with nan in the df azdidas\n",
    "for index in range(len(feat_info)):\n",
    "    nan_values = feat_info.iloc[index]['missing_or_unknown']\n",
    "    nan_values = nan_values.strip('[]').split(',')\n",
    "    nan_values = [int(value) if (value!='X' and value!='XX' and value!='') else value for value in nan_values]\n",
    "    if nan_values != ['']:\n",
    "        azdias = azdias.replace({feat_info.iloc[index]['attribute']: nan_values}, np.nan)\n",
    "        \n",
    "#(source inspiration: https://github.com/swang13/identify-customer-segments/blob/master/Identify_Customer_Segments.ipynb)"
   ]
  },
  {
   "cell_type": "code",
   "execution_count": 50,
   "metadata": {},
   "outputs": [
    {
     "data": {
      "text/plain": [
       "nan"
      ]
     },
     "execution_count": 50,
     "metadata": {},
     "output_type": "execute_result"
    }
   ],
   "source": [
    "#sanity check\n",
    "azdias['CAMEO_DEUG_2015'][430014]"
   ]
  },
  {
   "cell_type": "code",
   "execution_count": 51,
   "metadata": {},
   "outputs": [
    {
     "name": "stdout",
     "output_type": "stream",
     "text": [
      "Total number of missing or unknown data after converting missing/unknown values to NaN: 5035304\n"
     ]
    }
   ],
   "source": [
    "print('Total number of missing or unknown data after converting missing/unknown values to NaN: {}'.format(azdias.isnull().sum().sum()))"
   ]
  },
  {
   "cell_type": "markdown",
   "metadata": {},
   "source": [
    "The total amount of missing data has of coursed increased after converting all missing data into nan. In the next step I while have a closer look at the missing data and its distribution"
   ]
  },
  {
   "cell_type": "markdown",
   "metadata": {},
   "source": [
    "#### Step 1.1.2: Assess Missing Data in Each Column\n",
    "\n",
    "How much missing data is present in each column? There are a few columns that are outliers in terms of the proportion of values that are missing. You will want to use matplotlib's [`hist()`](https://matplotlib.org/api/_as_gen/matplotlib.pyplot.hist.html) function to visualize the distribution of missing value counts to find these columns. Identify and document these columns. While some of these columns might have justifications for keeping or re-encoding the data, for this project you should just remove them from the dataframe. (Feel free to make remarks about these outlier columns in the discussion, however!)\n",
    "\n",
    "For the remaining features, are there any patterns in which columns have, or share, missing data?"
   ]
  },
  {
   "cell_type": "code",
   "execution_count": 52,
   "metadata": {},
   "outputs": [
    {
     "name": "stdout",
     "output_type": "stream",
     "text": [
      "KKK               17.735668\n",
      "REGIOTYP          17.735668\n",
      "W_KEIT_KIND_HH    16.605084\n",
      "MOBI_REGIO        14.959701\n",
      "KBA05_ANTG4       14.959701\n",
      "KBA05_ANTG3       14.959701\n",
      "KBA05_ANTG2       14.959701\n",
      "KBA05_ANTG1       14.959701\n",
      "KBA05_GBZ         14.959701\n",
      "PLZ8_ANTG2        13.073637\n",
      "dtype: float64\n"
     ]
    },
    {
     "data": {
      "image/png": "[encoded data removed]",
      "text/plain": [
       "<matplotlib.figure.Figure at 0x7fa7947c07f0>"
      ]
     },
     "metadata": {
      "needs_background": "light"
     },
     "output_type": "display_data"
    }
   ],
   "source": [
    "# Perform an assessment of how much missing data there is in each column of the\n",
    "# dataset by displaying the percentag of the missing values in each colum\n",
    "\n",
    "percent_missing_column = (azdias.isnull().sum())/(azdias.shape[0])*100\n",
    "print(percent_missing_column.sort_values(ascending=False).head(10))\n",
    "\n",
    "#Plotting the missing data\n",
    "plt.hist(percent_missing_column, bins=100)\n",
    "plt.title('Percentage of missing data in every column')\n",
    "plt.xlabel('Percentage of missing data')\n",
    "plt.ylabel('Number of Column');"
   ]
  },
  {
   "cell_type": "code",
   "execution_count": 53,
   "metadata": {},
   "outputs": [
    {
     "name": "stdout",
     "output_type": "stream",
     "text": [
      "       missing_data\n",
      "count     79.000000\n",
      "mean       7.151764\n",
      "std        6.087588\n",
      "min        0.000000\n",
      "25%        0.000000\n",
      "50%       10.451729\n",
      "75%       12.145080\n",
      "max       17.735668\n",
      "Percentage of columns with missing data: 0.6962025316455697\n",
      "Percentage of columns with no missing data: 0.30379746835443033\n"
     ]
    }
   ],
   "source": [
    "# Investigate patterns in the amount of missing data in each column.\n",
    "# converting the series into a df for further investigation\n",
    "percent_missing_column = pd.DataFrame(percent_missing_column, columns=['missing_data'])\n",
    "print(percent_missing_column.describe())\n",
    "print('Percentage of columns with missing data: {}'.format(percent_missing_column[percent_missing_column['missing_data']!= 0].shape[0]/percent_missing_column.shape[0]))\n",
    "print('Percentage of columns with no missing data: {}'.format(1-percent_missing_column[percent_missing_column['missing_data']!= 0].shape[0]/percent_missing_column.shape[0]))\n"
   ]
  },
  {
   "cell_type": "markdown",
   "metadata": {},
   "source": [
    "The analyis shows that just 28% of the columns have no missing data, but \"just\" six of the 85 columns have missing data over 30%\n",
    "The columns with the highest percentage of missing data (>30%) are\n",
    "- TITEL_KZ          \n",
    "- AGER_TYP          \n",
    "- KK_KUNDENTYP      \n",
    "- KBA05_BAUMAX      \n",
    "- GEBURTSJAHR       \n",
    "- ALTER_HH\n",
    "\n",
    "The decision which columns need to be dropped isnt easy and really depends on what you would like to achieve with the data. But it seems unreasonable in this case to keep columns that over 30% missing data.\n"
   ]
  },
  {
   "cell_type": "code",
   "execution_count": 420,
   "metadata": {},
   "outputs": [
    {
     "data": {
      "text/plain": [
       "(891221, 79)"
      ]
     },
     "execution_count": 420,
     "metadata": {},
     "output_type": "execute_result"
    }
   ],
   "source": [
    "# Remove the outlier columns from the dataset. (You'll perform other data\n",
    "# engineering tasks such as re-encoding and imputation later.)\n",
    "azdias = azdias.drop(['TITEL_KZ','AGER_TYP','KK_KUNDENTYP', 'KBA05_BAUMAX','GEBURTSJAHR', 'ALTER_HH'], axis=1)\n",
    "#double check operation\n",
    "azdias.shape"
   ]
  },
  {
   "cell_type": "markdown",
   "metadata": {},
   "source": [
    "#### Discussion 1.1.2: Assess Missing Data in Each Column\n",
    "\n",
    "The total number of missing or unknown data in the azdias data set (after converting missing/unknown values to NaN) is 8373929 which is around 11% of the total oberservations: (891211 persons (rows) * 85 columns). \n",
    "\n",
    "The furthter analyis of the missing data for each column showed that just 28% of the columns have no missing data (24 columns), but \"just\" six of the 85 columns have missing data over 30%\n",
    "In total, 61 of the 85 columns have missing data (72% of all columns)\n",
    "\n",
    "The columns with the highest percentage of missing data (> 30%) are:\n",
    "\n",
    "- TITEL_KZ          \n",
    "- AGER_TYP          \n",
    "- KK_KUNDENTYP      \n",
    "- KBA05_BAUMAX      \n",
    "- GEBURTSJAHR       \n",
    "- ALTER_HH\n",
    " \n",
    "\n",
    "#### The decision which columns need to be dropped isnt easy and really depends on what you would like to achieve with the data. But it seems unreasonable in this case to keep columns that have over 30% missing data."
   ]
  },
  {
   "cell_type": "markdown",
   "metadata": {},
   "source": [
    "#### Step 1.1.3: Assess Missing Data in Each Row\n",
    "\n",
    "Now, you'll perform a similar assessment for the rows of the dataset. How much data is missing in each row? As with the columns, you should see some groups of points that have a very different numbers of missing values. Divide the data into two subsets: one for data points that are above some threshold for missing values, and a second subset for points below that threshold.\n",
    "\n",
    "In order to know what to do with the outlier rows, we should see if the distribution of data values on columns that are not missing data (or are missing very little data) are similar or different between the two groups. Select at least five of these columns and compare the distribution of values.\n",
    "- You can use seaborn's [`countplot()`](https://seaborn.pydata.org/generated/seaborn.countplot.html) function to create a bar chart of code frequencies and matplotlib's [`subplot()`](https://matplotlib.org/api/_as_gen/matplotlib.pyplot.subplot.html) function to put bar charts for the two subplots side by side.\n",
    "- To reduce repeated code, you might want to write a function that can perform this comparison, taking as one of its arguments a column to be compared.\n",
    "\n",
    "Depending on what you observe in your comparison, this will have implications on how you approach your conclusions later in the analysis. If the distributions of non-missing features look similar between the data with many missing values and the data with few or no missing values, then we could argue that simply dropping those points from the analysis won't present a major issue. On the other hand, if the data with many missing values looks very different from the data with few or no missing values, then we should make a note on those data as special. We'll revisit these data later on. **Either way, you should continue your analysis for now using just the subset of the data with few or no missing values.**"
   ]
  },
  {
   "cell_type": "code",
   "execution_count": 55,
   "metadata": {},
   "outputs": [],
   "source": [
    "# inspecting how much data is missing in each row of the\n",
    "# function for calculating the percentage of missing data for each row\n",
    "\n",
    "def missing_values_row(row):\n",
    "    return (row.isnull().sum()/azdias.shape[1])*100\n",
    "    \n",
    "azdias['missing_values_rows'] = azdias.apply(missing_values_row, axis=1)\n"
   ]
  },
  {
   "cell_type": "code",
   "execution_count": 56,
   "metadata": {},
   "outputs": [
    {
     "name": "stdout",
     "output_type": "stream",
     "text": [
      "(891221, 80)\n"
     ]
    },
    {
     "data": {
      "text/plain": [
       "643174    62.025316\n",
       "732775    62.025316\n",
       "472919    60.759494\n",
       "183108    59.493671\n",
       "139316    59.493671\n",
       "Name: missing_values_rows, dtype: float64"
      ]
     },
     "execution_count": 56,
     "metadata": {},
     "output_type": "execute_result"
    }
   ],
   "source": [
    "# displaying row with the missing value for each row\n",
    "print(azdias.shape)\n",
    "azdias['missing_values_rows'].sort_values(ascending=False).head()"
   ]
  },
  {
   "cell_type": "code",
   "execution_count": 57,
   "metadata": {},
   "outputs": [
    {
     "data": {
      "text/plain": [
       "62.025316455696199"
      ]
     },
     "execution_count": 57,
     "metadata": {},
     "output_type": "execute_result"
    }
   ],
   "source": [
    "#sanity check\n",
    "sanity_check = azdias.loc[643174]\n",
    "sanity_check.isnull().sum()/79 * 100"
   ]
  },
  {
   "cell_type": "code",
   "execution_count": 58,
   "metadata": {},
   "outputs": [
    {
     "data": {
      "text/plain": [
       "count    891221.000000\n",
       "mean          7.151764\n",
       "std          16.752768\n",
       "min           0.000000\n",
       "25%           0.000000\n",
       "50%           0.000000\n",
       "75%           3.797468\n",
       "max          62.025316\n",
       "Name: missing_values_rows, dtype: float64"
      ]
     },
     "execution_count": 58,
     "metadata": {},
     "output_type": "execute_result"
    }
   ],
   "source": [
    "azdias['missing_values_rows'].describe()"
   ]
  },
  {
   "cell_type": "code",
   "execution_count": 59,
   "metadata": {},
   "outputs": [
    {
     "name": "stdout",
     "output_type": "stream",
     "text": [
      "Percentage of rows with missing data over mean: 19.25414683899953\n",
      "Percetage of rows with no missing data: 69.9275488346886\n"
     ]
    }
   ],
   "source": [
    "#calculatig the percentage of rows that have missing data over the mean and that have no missing data\n",
    "missing_over_mean = (azdias[azdias['missing_values_rows'] > azdias['missing_values_rows'].mean()]).shape[0] / azdias.shape[0] * 100\n",
    "missing_under_mean = (azdias[azdias['missing_values_rows'] == 0.00]).shape[0] / azdias.shape[0] * 100\n",
    "\n",
    "#printing out the results\n",
    "print('Percentage of rows with missing data over mean: {}'.format(missing_over_mean))\n",
    "print('Percetage of rows with no missing data: {}'.format(missing_under_mean))"
   ]
  },
  {
   "cell_type": "markdown",
   "metadata": {},
   "source": [
    "#### The are several rows that have quite high number of missing rows, whereby the majority has no missing data: around 70%.\n",
    "\n",
    "#### I will devide the data into two subsets by the mean (7.06%): one subset with rows that has missing data under the mean and one that has missing data over the mean (which is around 20% of the rows)"
   ]
  },
  {
   "cell_type": "code",
   "execution_count": 60,
   "metadata": {},
   "outputs": [],
   "source": [
    "# Writing code to divide the data into two subsets based on the number of missing\n",
    "# values in each row.\n",
    "#azdias_over_mean - subset with rows that has missing data over mean\n",
    "#azdias_under_mean - subset with rows that has missing data under mean\n",
    "\n",
    "azdias_over_mean = azdias.loc[azdias['missing_values_rows'] > azdias['missing_values_rows'].mean()]\n",
    "azdias_under_mean = azdias.loc[azdias['missing_values_rows'] < azdias['missing_values_rows'].mean()]\n"
   ]
  },
  {
   "cell_type": "code",
   "execution_count": 61,
   "metadata": {},
   "outputs": [
    {
     "name": "stdout",
     "output_type": "stream",
     "text": [
      "True\n",
      "True\n"
     ]
    }
   ],
   "source": [
    "#sanity check\n",
    "print((azdias_over_mean['missing_values_rows'] > 7.06).all())\n",
    "print((azdias_under_mean['missing_values_rows'] < 7.06).all())"
   ]
  },
  {
   "cell_type": "code",
   "execution_count": 62,
   "metadata": {},
   "outputs": [],
   "source": [
    "# function for comparing the distribution of the two subsets\n",
    "base_color = sns.color_palette()[0]\n",
    "\n",
    "def comparsion_distr (column_1, column_2):\n",
    "    #setting up the subplots\n",
    "    fig = plt.subplots(nrows=1, ncols=1, figsize=(20,5))\n",
    "    \n",
    "    \n",
    "    plt.subplot(1, 2, 1)\n",
    "    sns.countplot(x=column_1, data=azdias_over_mean, color=base_color)\n",
    "    plt.title('Data with many missing values')\n",
    "\n",
    "    plt.subplot(1, 2, 2)\n",
    "    sns.countplot(x=column_2, data=azdias_under_mean, color=base_color)\n",
    "    plt.title('Data with few or no missing values')\n",
    "\n",
    "    plt.show()"
   ]
  },
  {
   "cell_type": "code",
   "execution_count": 63,
   "metadata": {},
   "outputs": [
    {
     "data": {
      "text/plain": [
       "['ANREDE_KZ',\n",
       " 'FINANZ_HAUSBAUER',\n",
       " 'GFK_URLAUBERTYP',\n",
       " 'ANZ_HH_TITEL',\n",
       " 'CAMEO_DEUG_2015']"
      ]
     },
     "execution_count": 63,
     "metadata": {},
     "output_type": "execute_result"
    }
   ],
   "source": [
    "#randomly choosing 5 columns from the subset with many missing values for the comparsion\n",
    "random.sample(list(azdias_over_mean.columns),5)"
   ]
  },
  {
   "cell_type": "code",
   "execution_count": 64,
   "metadata": {},
   "outputs": [
    {
     "data": {
      "image/png": "[encoded data removed]",
      "text/plain": [
       "<matplotlib.figure.Figure at 0x7fa794762828>"
      ]
     },
     "metadata": {
      "needs_background": "light"
     },
     "output_type": "display_data"
    }
   ],
   "source": [
    "#comparing the subsets for the column 'ANZ_TITEL'\n",
    "comparsion_distr(azdias_over_mean.ANZ_TITEL, azdias_under_mean.ANZ_TITEL)"
   ]
  },
  {
   "cell_type": "code",
   "execution_count": 65,
   "metadata": {},
   "outputs": [
    {
     "data": {
      "image/png": "[encoded data removed]",
      "text/plain": [
       "<matplotlib.figure.Figure at 0x7fa6f86b4f60>"
      ]
     },
     "metadata": {
      "needs_background": "light"
     },
     "output_type": "display_data"
    }
   ],
   "source": [
    "#comparing the subsets for the column 'SEMIO_ERL'\n",
    "comparsion_distr(azdias_over_mean.SEMIO_ERL, azdias_under_mean.SEMIO_ERL)"
   ]
  },
  {
   "cell_type": "code",
   "execution_count": 66,
   "metadata": {},
   "outputs": [
    {
     "data": {
      "image/png": "[encoded data removed]",
      "text/plain": [
       "<matplotlib.figure.Figure at 0x7fa7a28e25f8>"
      ]
     },
     "metadata": {
      "needs_background": "light"
     },
     "output_type": "display_data"
    }
   ],
   "source": [
    "#comparing the subsets for the column 'GEBAEUDETYP'\n",
    "comparsion_distr(azdias_over_mean.GEBAEUDETYP, azdias_under_mean.GEBAEUDETYP)"
   ]
  },
  {
   "cell_type": "code",
   "execution_count": 67,
   "metadata": {},
   "outputs": [
    {
     "data": {
      "image/png": "[encoded data removed]",
      "text/plain": [
       "<matplotlib.figure.Figure at 0x7fa794723588>"
      ]
     },
     "metadata": {
      "needs_background": "light"
     },
     "output_type": "display_data"
    }
   ],
   "source": [
    "#comparing the subsets for the column 'SSEMIO_PFLICHT'\n",
    "comparsion_distr(azdias_over_mean.SEMIO_PFLICHT, azdias_under_mean.SEMIO_PFLICHT)"
   ]
  },
  {
   "cell_type": "code",
   "execution_count": 68,
   "metadata": {},
   "outputs": [
    {
     "data": {
      "image/png": "[encoded data removed]",
      "text/plain": [
       "<matplotlib.figure.Figure at 0x7fa6a4dabac8>"
      ]
     },
     "metadata": {
      "needs_background": "light"
     },
     "output_type": "display_data"
    }
   ],
   "source": [
    "#comparing the subsets for the column 'FINANZ_ANLEGER'\n",
    "comparsion_distr(azdias_over_mean.FINANZ_ANLEGER, azdias_under_mean.FINANZ_ANLEGER)"
   ]
  },
  {
   "cell_type": "markdown",
   "metadata": {},
   "source": [
    "#### The comparsion of the 5 randomly chosen columns gives me mixed results. While the first three columns ('ANZ_TITEL', 'SEMIO_ERL', 'GEBAEUDETYP') doesnt show much difference in the distribution, shows the analysis of 'SEMIO_PFLICHT', 'FINANZ_ANLEGER' that there is a huge difference in the distribution based on the subset. Therefore I will continue with the subset with few or no missing data"
   ]
  },
  {
   "cell_type": "markdown",
   "metadata": {},
   "source": [
    "### Step 1.2: Select and Re-Encode Features\n",
    "\n",
    "Checking for missing data isn't the only way in which you can prepare a dataset for analysis. Since the unsupervised learning techniques to be used will only work on data that is encoded numerically, you need to make a few encoding changes or additional assumptions to be able to make progress. In addition, while almost all of the values in the dataset are encoded using numbers, not all of them represent numeric values. Check the third column of the feature summary (`feat_info`) for a summary of types of measurement.\n",
    "- For numeric and interval data, these features can be kept without changes.\n",
    "- Most of the variables in the dataset are ordinal in nature. While ordinal values may technically be non-linear in spacing, make the simplifying assumption that the ordinal variables can be treated as being interval in nature (that is, kept without any changes).\n",
    "- Special handling may be necessary for the remaining two variable types: categorical, and 'mixed'.\n",
    "\n",
    "In the first two parts of this sub-step, you will perform an investigation of the categorical and mixed-type features and make a decision on each of them, whether you will keep, drop, or re-encode each. Then, in the last part, you will create a new data frame with only the selected and engineered columns.\n",
    "\n",
    "Data wrangling is often the trickiest part of the data analysis process, and there's a lot of it to be done here. But stick with it: once you're done with this step, you'll be ready to get to the machine learning parts of the project!"
   ]
  },
  {
   "cell_type": "code",
   "execution_count": 69,
   "metadata": {},
   "outputs": [
    {
     "data": {
      "text/plain": [
       "ordinal        49\n",
       "categorical    21\n",
       "mixed           7\n",
       "numeric         7\n",
       "interval        1\n",
       "Name: type, dtype: int64"
      ]
     },
     "execution_count": 69,
     "metadata": {},
     "output_type": "execute_result"
    }
   ],
   "source": [
    "# How many features are there of each data type?\n",
    "feat_info.type.value_counts()"
   ]
  },
  {
   "cell_type": "markdown",
   "metadata": {},
   "source": [
    "#### Step 1.2.1: Re-Encode Categorical Features\n",
    "\n",
    "For categorical data, you would ordinarily need to encode the levels as dummy variables. Depending on the number of categories, perform one of the following:\n",
    "- For binary (two-level) categoricals that take numeric values, you can keep them without needing to do anything.\n",
    "- There is one binary variable that takes on non-numeric values. For this one, you need to re-encode the values as numbers or create a dummy variable.\n",
    "- For multi-level categoricals (three or more values), you can choose to encode the values using multiple dummy variables (e.g. via [OneHotEncoder](http://scikit-learn.org/stable/modules/generated/sklearn.preprocessing.OneHotEncoder.html)), or (to keep things straightforward) just drop them from the analysis. As always, document your choices in the Discussion section."
   ]
  },
  {
   "cell_type": "markdown",
   "metadata": {},
   "source": [
    "#### In total, the data has 21 categorical variables and 7 mixed variables"
   ]
  },
  {
   "cell_type": "code",
   "execution_count": 70,
   "metadata": {},
   "outputs": [
    {
     "data": {
      "text/html": [
       "<div>\n",
       "<style scoped>\n",
       "    .dataframe tbody tr th:only-of-type {\n",
       "        vertical-align: middle;\n",
       "    }\n",
       "\n",
       "    .dataframe tbody tr th {\n",
       "        vertical-align: top;\n",
       "    }\n",
       "\n",
       "    .dataframe thead th {\n",
       "        text-align: right;\n",
       "    }\n",
       "</style>\n",
       "<table border=\"1\" class=\"dataframe\">\n",
       "  <thead>\n",
       "    <tr style=\"text-align: right;\">\n",
       "      <th></th>\n",
       "      <th>ALTERSKATEGORIE_GROB</th>\n",
       "      <th>ANREDE_KZ</th>\n",
       "      <th>CJT_GESAMTTYP</th>\n",
       "      <th>FINANZ_MINIMALIST</th>\n",
       "      <th>FINANZ_SPARER</th>\n",
       "      <th>FINANZ_VORSORGER</th>\n",
       "      <th>FINANZ_ANLEGER</th>\n",
       "      <th>FINANZ_UNAUFFAELLIGER</th>\n",
       "      <th>FINANZ_HAUSBAUER</th>\n",
       "      <th>FINANZTYP</th>\n",
       "      <th>...</th>\n",
       "      <th>PLZ8_ANTG2</th>\n",
       "      <th>PLZ8_ANTG3</th>\n",
       "      <th>PLZ8_ANTG4</th>\n",
       "      <th>PLZ8_BAUMAX</th>\n",
       "      <th>PLZ8_HHZ</th>\n",
       "      <th>PLZ8_GBZ</th>\n",
       "      <th>ARBEIT</th>\n",
       "      <th>ORTSGR_KLS9</th>\n",
       "      <th>RELAT_AB</th>\n",
       "      <th>missing_values_rows</th>\n",
       "    </tr>\n",
       "  </thead>\n",
       "  <tbody>\n",
       "    <tr>\n",
       "      <th>1</th>\n",
       "      <td>1.0</td>\n",
       "      <td>2</td>\n",
       "      <td>5.0</td>\n",
       "      <td>1</td>\n",
       "      <td>5</td>\n",
       "      <td>2</td>\n",
       "      <td>5</td>\n",
       "      <td>4</td>\n",
       "      <td>5</td>\n",
       "      <td>1</td>\n",
       "      <td>...</td>\n",
       "      <td>3.0</td>\n",
       "      <td>2.0</td>\n",
       "      <td>1.0</td>\n",
       "      <td>1.0</td>\n",
       "      <td>5.0</td>\n",
       "      <td>4.0</td>\n",
       "      <td>3.0</td>\n",
       "      <td>5.0</td>\n",
       "      <td>4.0</td>\n",
       "      <td>0.0</td>\n",
       "    </tr>\n",
       "  </tbody>\n",
       "</table>\n",
       "<p>1 rows × 80 columns</p>\n",
       "</div>"
      ],
      "text/plain": [
       "   ALTERSKATEGORIE_GROB  ANREDE_KZ  CJT_GESAMTTYP  FINANZ_MINIMALIST  \\\n",
       "1                   1.0          2            5.0                  1   \n",
       "\n",
       "   FINANZ_SPARER  FINANZ_VORSORGER  FINANZ_ANLEGER  FINANZ_UNAUFFAELLIGER  \\\n",
       "1              5                 2               5                      4   \n",
       "\n",
       "   FINANZ_HAUSBAUER  FINANZTYP         ...           PLZ8_ANTG2  PLZ8_ANTG3  \\\n",
       "1                 5          1         ...                  3.0         2.0   \n",
       "\n",
       "   PLZ8_ANTG4  PLZ8_BAUMAX  PLZ8_HHZ  PLZ8_GBZ  ARBEIT  ORTSGR_KLS9  RELAT_AB  \\\n",
       "1         1.0          1.0       5.0       4.0     3.0          5.0       4.0   \n",
       "\n",
       "   missing_values_rows  \n",
       "1                  0.0  \n",
       "\n",
       "[1 rows x 80 columns]"
      ]
     },
     "execution_count": 70,
     "metadata": {},
     "output_type": "execute_result"
    }
   ],
   "source": [
    "azdias_under_mean.head(1)"
   ]
  },
  {
   "cell_type": "code",
   "execution_count": 71,
   "metadata": {},
   "outputs": [],
   "source": [
    "#getting all features of azdias_under_mean as a list\n",
    "features_list = list(azdias_under_mean.columns)"
   ]
  },
  {
   "cell_type": "code",
   "execution_count": 72,
   "metadata": {},
   "outputs": [],
   "source": [
    "# in the first step I need to get rid of all attributes in feat_info that are not in the subset\n",
    "\n",
    "#getting all features of azdias_under_mean as a list\n",
    "features_list = list(azdias_under_mean.columns)\n",
    "\n",
    "#getting all features of featurw_info that are also in our chosen subset (azdias_under_mean)\n",
    "cat_variables = feat_info.loc[feat_info['type'].isin(['categorical'])]\n",
    "cat_variables_names = cat_variables[cat_variables['attribute'].isin(features_list)]\n",
    "cat_variables_names = cat_variables_names['attribute']"
   ]
  },
  {
   "cell_type": "code",
   "execution_count": 73,
   "metadata": {},
   "outputs": [
    {
     "name": "stdout",
     "output_type": "stream",
     "text": [
      "features that are binary ['ANREDE_KZ', 'GREEN_AVANTGARDE', 'SOHO_KZ', 'OST_WEST_KZ']\n",
      "\n",
      "\n",
      "features that are mulit_level ['CJT_GESAMTTYP', 'FINANZTYP', 'GFK_URLAUBERTYP', 'LP_FAMILIE_FEIN', 'LP_FAMILIE_GROB', 'LP_STATUS_FEIN', 'LP_STATUS_GROB', 'NATIONALITAET_KZ', 'SHOPPER_TYP', 'VERS_TYP', 'ZABEOTYP', 'GEBAEUDETYP', 'CAMEO_DEUG_2015', 'CAMEO_DEU_2015']\n"
     ]
    }
   ],
   "source": [
    "#checking which of the features are binary and which are mulit-level\n",
    "binary = []\n",
    "multi_level = []\n",
    "for attribute in cat_variables_names:\n",
    "    if (len(azdias_under_mean[attribute].unique()) == 2):\n",
    "        binary.append(attribute)\n",
    "    elif (len(azdias_under_mean[attribute].unique()) > 2):\n",
    "        multi_level.append(attribute)\n",
    "\n",
    "print('features that are binary {}'.format(binary))\n",
    "print('\\n')\n",
    "print('features that are mulit_level {}'.format(multi_level))"
   ]
  },
  {
   "cell_type": "code",
   "execution_count": 74,
   "metadata": {},
   "outputs": [
    {
     "name": "stdout",
     "output_type": "stream",
     "text": [
      "        ANREDE_KZ  GREEN_AVANTGARDE  SOHO_KZ OST_WEST_KZ\n",
      "259676          2                 0      0.0           O\n"
     ]
    }
   ],
   "source": [
    "# having a closer look at the binary features to identify the one which is not binary\n",
    "print(azdias_under_mean[['ANREDE_KZ', 'GREEN_AVANTGARDE', 'SOHO_KZ', 'OST_WEST_KZ']].sample(1))"
   ]
  },
  {
   "cell_type": "markdown",
   "metadata": {},
   "source": [
    "'OST_WEST_KZ' is a binary variable that takes on non-numeric values:\n",
    "-  O: East (GDR)\n",
    "-  W: West (FRG)\n",
    "\n",
    "I will in the next step re-encode the values as numbers as follows:\n",
    "- O = 0\n",
    "- W = 1"
   ]
  },
  {
   "cell_type": "code",
   "execution_count": 75,
   "metadata": {},
   "outputs": [
    {
     "name": "stderr",
     "output_type": "stream",
     "text": [
      "/opt/conda/lib/python3.6/site-packages/ipykernel_launcher.py:2: SettingWithCopyWarning: \n",
      "A value is trying to be set on a copy of a slice from a DataFrame.\n",
      "Try using .loc[row_indexer,col_indexer] = value instead\n",
      "\n",
      "See the caveats in the documentation: http://pandas.pydata.org/pandas-docs/stable/indexing.html#indexing-view-versus-copy\n",
      "  \n"
     ]
    },
    {
     "data": {
      "text/plain": [
       "array([1, 1, 1, ..., 1, 1, 1])"
      ]
     },
     "execution_count": 75,
     "metadata": {},
     "output_type": "execute_result"
    }
   ],
   "source": [
    "#re_encoding_values = {'O':0, 'W':1}\n",
    "azdias_under_mean['OST_WEST_KZ'] = azdias_under_mean['OST_WEST_KZ'].replace({'O': 0, 'W': 1})\n",
    "#sanity check\n",
    "azdias_under_mean['OST_WEST_KZ'].values\n"
   ]
  },
  {
   "cell_type": "code",
   "execution_count": 76,
   "metadata": {},
   "outputs": [
    {
     "name": "stdout",
     "output_type": "stream",
     "text": [
      "\n",
      "\n",
      "4.0    181923\n",
      "3.0    135165\n",
      "2.0    133034\n",
      "5.0     93944\n",
      "6.0     89399\n",
      "1.0     86159\n",
      "Name: CJT_GESAMTTYP, dtype: int64\n",
      "\n",
      "\n",
      "6    277311\n",
      "1    168290\n",
      "5     99698\n",
      "2     93959\n",
      "4     51158\n",
      "3     29208\n",
      "Name: FINANZTYP, dtype: int64\n",
      "\n",
      "\n",
      "12.0    113937\n",
      "10.0     94543\n",
      "8.0      77583\n",
      "11.0     69363\n",
      "5.0      66421\n",
      "4.0      57721\n",
      "9.0      50166\n",
      "3.0      49639\n",
      "1.0      46444\n",
      "7.0      37156\n",
      "2.0      32790\n",
      "6.0      23861\n",
      "Name: GFK_URLAUBERTYP, dtype: int64\n",
      "\n",
      "\n",
      "1.0     367815\n",
      "10.0    119556\n",
      "2.0      89540\n",
      "11.0     45700\n",
      "8.0      19518\n",
      "7.0      16286\n",
      "4.0      10469\n",
      "5.0      10317\n",
      "9.0       9797\n",
      "6.0       6940\n",
      "3.0       4111\n",
      "Name: LP_FAMILIE_FEIN, dtype: int64\n",
      "\n",
      "\n",
      "1.0    367815\n",
      "5.0    175053\n",
      "2.0     89540\n",
      "4.0     42744\n",
      "3.0     24897\n",
      "Name: LP_FAMILIE_GROB, dtype: int64\n",
      "\n",
      "\n",
      "1.0     199190\n",
      "9.0     117022\n",
      "10.0    103339\n",
      "2.0      94397\n",
      "4.0      69138\n",
      "3.0      66260\n",
      "6.0      26334\n",
      "5.0      22061\n",
      "8.0      13495\n",
      "7.0       8388\n",
      "Name: LP_STATUS_FEIN, dtype: int64\n",
      "\n",
      "\n",
      "1.0    293587\n",
      "2.0    157459\n",
      "4.0    130517\n",
      "5.0    103339\n",
      "3.0     34722\n",
      "Name: LP_STATUS_GROB, dtype: int64\n",
      "\n",
      "\n",
      "1.0    616992\n",
      "2.0     59531\n",
      "3.0     29822\n",
      "Name: NATIONALITAET_KZ, dtype: int64\n",
      "\n",
      "\n",
      "1.0    225248\n",
      "2.0    196651\n",
      "3.0    160467\n",
      "0.0    122448\n",
      "Name: SHOPPER_TYP, dtype: int64\n",
      "\n",
      "\n",
      "2.0    373057\n",
      "1.0    331757\n",
      "Name: VERS_TYP, dtype: int64\n",
      "\n",
      "\n",
      "3    254215\n",
      "4    187644\n",
      "1    110555\n",
      "5     76068\n",
      "6     65248\n",
      "2     25894\n",
      "Name: ZABEOTYP, dtype: int64\n",
      "\n",
      "\n",
      "1.0    411558\n",
      "3.0    162771\n",
      "8.0    142649\n",
      "2.0      1903\n",
      "4.0       428\n",
      "6.0       314\n",
      "5.0         1\n",
      "Name: GEBAEUDETYP, dtype: int64\n",
      "\n",
      "\n",
      "8    125963\n",
      "9     99793\n",
      "6     97604\n",
      "4     92286\n",
      "2     74119\n",
      "3     73996\n",
      "7     71400\n",
      "5     48232\n",
      "1     33174\n",
      "Name: CAMEO_DEUG_2015, dtype: int64\n",
      "\n",
      "\n",
      "6B    52027\n",
      "8A    49120\n",
      "4C    42615\n",
      "2D    31824\n",
      "3C    31521\n",
      "7A    31477\n",
      "3D    31279\n",
      "8B    30785\n",
      "8C    29340\n",
      "4A    29027\n",
      "9D    26459\n",
      "9B    25957\n",
      "9C    23035\n",
      "7B    22447\n",
      "9A    19044\n",
      "2C    17215\n",
      "8D    16718\n",
      "6E    15231\n",
      "2B    13641\n",
      "5D    13629\n",
      "6C    13604\n",
      "2A    11439\n",
      "1D    11107\n",
      "1A     9847\n",
      "5A     9348\n",
      "5B     9344\n",
      "5C     8694\n",
      "7C     8350\n",
      "4B     7951\n",
      "4D     7834\n",
      "6A     6150\n",
      "3A     5668\n",
      "6D     5625\n",
      "3B     5528\n",
      "9E     5298\n",
      "6F     4967\n",
      "4E     4859\n",
      "7D     4832\n",
      "1E     4636\n",
      "7E     4294\n",
      "5F     3933\n",
      "1C     3898\n",
      "1B     3686\n",
      "5E     3284\n",
      "Name: CAMEO_DEU_2015, dtype: int64\n"
     ]
    }
   ],
   "source": [
    "# getting a overview over the multi-level categoricals\n",
    "for i in multi_level:\n",
    "    print('\\n')\n",
    "    print(azdias_under_mean[i].value_counts(sort=True))"
   ]
  },
  {
   "cell_type": "markdown",
   "metadata": {},
   "source": [
    "#### I dont want to drop variables for convience, so I will keep most of the variables for now. There are some variables that measure the same but in different depth (detailed scale and rough scale). It seems reasonable to just keep the ones with the rough scale since we would like to cluster the data and dont need detailed scale variables. I will drop therefore the following features:\n",
    "\n",
    " - LP_LEBENSPHASE_FEIN\n",
    " - LP_FAMILIE_FEIN\n",
    " - LP_STATUS_FEIN\n",
    " - CAMEO_DEU_2015\n",
    " \n"
   ]
  },
  {
   "cell_type": "code",
   "execution_count": 77,
   "metadata": {},
   "outputs": [],
   "source": [
    "# dropping detailed scaled features from the sub set\n",
    "azdias_under_mean = azdias_under_mean.drop(['LP_LEBENSPHASE_FEIN', 'LP_FAMILIE_FEIN', 'LP_STATUS_FEIN', 'CAMEO_DEU_2015'], axis=1)"
   ]
  },
  {
   "cell_type": "code",
   "execution_count": 78,
   "metadata": {},
   "outputs": [
    {
     "data": {
      "text/plain": [
       "(719624, 76)"
      ]
     },
     "execution_count": 78,
     "metadata": {},
     "output_type": "execute_result"
    }
   ],
   "source": [
    "#sanity check\n",
    "azdias_under_mean.shape"
   ]
  },
  {
   "cell_type": "code",
   "execution_count": 79,
   "metadata": {},
   "outputs": [],
   "source": [
    "# re-encoding the remaining multi-level categoricals\n",
    "# creating new df with the multi-level categorials \n",
    "categorical_features = azdias_under_mean[['CJT_GESAMTTYP', 'FINANZTYP', 'GFK_URLAUBERTYP', 'LP_FAMILIE_GROB','LP_STATUS_GROB', 'NATIONALITAET_KZ', 'SHOPPER_TYP', 'VERS_TYP', 'ZABEOTYP', 'GEBAEUDETYP', 'CAMEO_DEUG_2015']]\n",
    "# converting to list\n",
    "categorical_features_list = categorical_features.columns.tolist()"
   ]
  },
  {
   "cell_type": "markdown",
   "metadata": {},
   "source": [
    "#### Since the dataframe includes nan values which can not be handled by the onehotencoder, I decided to use the the pd.get_dummies function instead"
   ]
  },
  {
   "cell_type": "code",
   "execution_count": 80,
   "metadata": {},
   "outputs": [],
   "source": [
    "azdias_under_mean = pd.get_dummies(azdias_under_mean, columns=categorical_features_list)"
   ]
  },
  {
   "cell_type": "code",
   "execution_count": 81,
   "metadata": {},
   "outputs": [
    {
     "data": {
      "text/html": [
       "<div>\n",
       "<style scoped>\n",
       "    .dataframe tbody tr th:only-of-type {\n",
       "        vertical-align: middle;\n",
       "    }\n",
       "\n",
       "    .dataframe tbody tr th {\n",
       "        vertical-align: top;\n",
       "    }\n",
       "\n",
       "    .dataframe thead th {\n",
       "        text-align: right;\n",
       "    }\n",
       "</style>\n",
       "<table border=\"1\" class=\"dataframe\">\n",
       "  <thead>\n",
       "    <tr style=\"text-align: right;\">\n",
       "      <th></th>\n",
       "      <th>ALTERSKATEGORIE_GROB</th>\n",
       "      <th>ANREDE_KZ</th>\n",
       "      <th>FINANZ_MINIMALIST</th>\n",
       "      <th>FINANZ_SPARER</th>\n",
       "      <th>FINANZ_VORSORGER</th>\n",
       "      <th>FINANZ_ANLEGER</th>\n",
       "      <th>FINANZ_UNAUFFAELLIGER</th>\n",
       "      <th>FINANZ_HAUSBAUER</th>\n",
       "      <th>GREEN_AVANTGARDE</th>\n",
       "      <th>HEALTH_TYP</th>\n",
       "      <th>...</th>\n",
       "      <th>GEBAEUDETYP_8.0</th>\n",
       "      <th>CAMEO_DEUG_2015_1</th>\n",
       "      <th>CAMEO_DEUG_2015_2</th>\n",
       "      <th>CAMEO_DEUG_2015_3</th>\n",
       "      <th>CAMEO_DEUG_2015_4</th>\n",
       "      <th>CAMEO_DEUG_2015_5</th>\n",
       "      <th>CAMEO_DEUG_2015_6</th>\n",
       "      <th>CAMEO_DEUG_2015_7</th>\n",
       "      <th>CAMEO_DEUG_2015_8</th>\n",
       "      <th>CAMEO_DEUG_2015_9</th>\n",
       "    </tr>\n",
       "  </thead>\n",
       "  <tbody>\n",
       "    <tr>\n",
       "      <th>741062</th>\n",
       "      <td>1.0</td>\n",
       "      <td>1</td>\n",
       "      <td>2</td>\n",
       "      <td>5</td>\n",
       "      <td>2</td>\n",
       "      <td>4</td>\n",
       "      <td>3</td>\n",
       "      <td>3</td>\n",
       "      <td>0</td>\n",
       "      <td>1.0</td>\n",
       "      <td>...</td>\n",
       "      <td>0</td>\n",
       "      <td>0</td>\n",
       "      <td>0</td>\n",
       "      <td>0</td>\n",
       "      <td>0</td>\n",
       "      <td>0</td>\n",
       "      <td>0</td>\n",
       "      <td>0</td>\n",
       "      <td>0</td>\n",
       "      <td>1</td>\n",
       "    </tr>\n",
       "    <tr>\n",
       "      <th>136229</th>\n",
       "      <td>3.0</td>\n",
       "      <td>1</td>\n",
       "      <td>4</td>\n",
       "      <td>2</td>\n",
       "      <td>4</td>\n",
       "      <td>2</td>\n",
       "      <td>2</td>\n",
       "      <td>2</td>\n",
       "      <td>0</td>\n",
       "      <td>3.0</td>\n",
       "      <td>...</td>\n",
       "      <td>0</td>\n",
       "      <td>0</td>\n",
       "      <td>1</td>\n",
       "      <td>0</td>\n",
       "      <td>0</td>\n",
       "      <td>0</td>\n",
       "      <td>0</td>\n",
       "      <td>0</td>\n",
       "      <td>0</td>\n",
       "      <td>0</td>\n",
       "    </tr>\n",
       "    <tr>\n",
       "      <th>620659</th>\n",
       "      <td>1.0</td>\n",
       "      <td>2</td>\n",
       "      <td>1</td>\n",
       "      <td>5</td>\n",
       "      <td>1</td>\n",
       "      <td>3</td>\n",
       "      <td>4</td>\n",
       "      <td>3</td>\n",
       "      <td>0</td>\n",
       "      <td>1.0</td>\n",
       "      <td>...</td>\n",
       "      <td>1</td>\n",
       "      <td>0</td>\n",
       "      <td>0</td>\n",
       "      <td>0</td>\n",
       "      <td>0</td>\n",
       "      <td>0</td>\n",
       "      <td>0</td>\n",
       "      <td>0</td>\n",
       "      <td>0</td>\n",
       "      <td>1</td>\n",
       "    </tr>\n",
       "    <tr>\n",
       "      <th>405568</th>\n",
       "      <td>4.0</td>\n",
       "      <td>1</td>\n",
       "      <td>2</td>\n",
       "      <td>4</td>\n",
       "      <td>2</td>\n",
       "      <td>2</td>\n",
       "      <td>4</td>\n",
       "      <td>2</td>\n",
       "      <td>0</td>\n",
       "      <td>2.0</td>\n",
       "      <td>...</td>\n",
       "      <td>0</td>\n",
       "      <td>0</td>\n",
       "      <td>0</td>\n",
       "      <td>0</td>\n",
       "      <td>0</td>\n",
       "      <td>0</td>\n",
       "      <td>0</td>\n",
       "      <td>0</td>\n",
       "      <td>1</td>\n",
       "      <td>0</td>\n",
       "    </tr>\n",
       "    <tr>\n",
       "      <th>261360</th>\n",
       "      <td>2.0</td>\n",
       "      <td>1</td>\n",
       "      <td>5</td>\n",
       "      <td>2</td>\n",
       "      <td>4</td>\n",
       "      <td>2</td>\n",
       "      <td>3</td>\n",
       "      <td>1</td>\n",
       "      <td>1</td>\n",
       "      <td>3.0</td>\n",
       "      <td>...</td>\n",
       "      <td>0</td>\n",
       "      <td>0</td>\n",
       "      <td>0</td>\n",
       "      <td>1</td>\n",
       "      <td>0</td>\n",
       "      <td>0</td>\n",
       "      <td>0</td>\n",
       "      <td>0</td>\n",
       "      <td>0</td>\n",
       "      <td>0</td>\n",
       "    </tr>\n",
       "  </tbody>\n",
       "</table>\n",
       "<p>5 rows × 130 columns</p>\n",
       "</div>"
      ],
      "text/plain": [
       "        ALTERSKATEGORIE_GROB  ANREDE_KZ  FINANZ_MINIMALIST  FINANZ_SPARER  \\\n",
       "741062                   1.0          1                  2              5   \n",
       "136229                   3.0          1                  4              2   \n",
       "620659                   1.0          2                  1              5   \n",
       "405568                   4.0          1                  2              4   \n",
       "261360                   2.0          1                  5              2   \n",
       "\n",
       "        FINANZ_VORSORGER  FINANZ_ANLEGER  FINANZ_UNAUFFAELLIGER  \\\n",
       "741062                 2               4                      3   \n",
       "136229                 4               2                      2   \n",
       "620659                 1               3                      4   \n",
       "405568                 2               2                      4   \n",
       "261360                 4               2                      3   \n",
       "\n",
       "        FINANZ_HAUSBAUER  GREEN_AVANTGARDE  HEALTH_TYP        ...          \\\n",
       "741062                 3                 0         1.0        ...           \n",
       "136229                 2                 0         3.0        ...           \n",
       "620659                 3                 0         1.0        ...           \n",
       "405568                 2                 0         2.0        ...           \n",
       "261360                 1                 1         3.0        ...           \n",
       "\n",
       "        GEBAEUDETYP_8.0  CAMEO_DEUG_2015_1  CAMEO_DEUG_2015_2  \\\n",
       "741062                0                  0                  0   \n",
       "136229                0                  0                  1   \n",
       "620659                1                  0                  0   \n",
       "405568                0                  0                  0   \n",
       "261360                0                  0                  0   \n",
       "\n",
       "        CAMEO_DEUG_2015_3  CAMEO_DEUG_2015_4  CAMEO_DEUG_2015_5  \\\n",
       "741062                  0                  0                  0   \n",
       "136229                  0                  0                  0   \n",
       "620659                  0                  0                  0   \n",
       "405568                  0                  0                  0   \n",
       "261360                  1                  0                  0   \n",
       "\n",
       "        CAMEO_DEUG_2015_6  CAMEO_DEUG_2015_7  CAMEO_DEUG_2015_8  \\\n",
       "741062                  0                  0                  0   \n",
       "136229                  0                  0                  0   \n",
       "620659                  0                  0                  0   \n",
       "405568                  0                  0                  1   \n",
       "261360                  0                  0                  0   \n",
       "\n",
       "        CAMEO_DEUG_2015_9  \n",
       "741062                  1  \n",
       "136229                  0  \n",
       "620659                  1  \n",
       "405568                  0  \n",
       "261360                  0  \n",
       "\n",
       "[5 rows x 130 columns]"
      ]
     },
     "execution_count": 81,
     "metadata": {},
     "output_type": "execute_result"
    }
   ],
   "source": [
    "# checking if operation was succesfull\n",
    "azdias_under_mean.sample(5)"
   ]
  },
  {
   "cell_type": "markdown",
   "metadata": {},
   "source": [
    "#### Discussion 1.2.1: Re-Encode Categorical Features\n",
    "\n",
    " - I re-encoded the the binary variable that where not numerical\n",
    " - I dropped the fine scaled features and kept just the rough scaled features since its fits the clustering approach better\n",
    " - I re-encoded the remaining multi-level categoricals with pd.get_dummies"
   ]
  },
  {
   "cell_type": "markdown",
   "metadata": {},
   "source": [
    "#### Step 1.2.2: Engineer Mixed-Type Features\n",
    "\n",
    "There are a handful of features that are marked as \"mixed\" in the feature summary that require special treatment in order to be included in the analysis. There are two in particular that deserve attention; the handling of the rest are up to your own choices:\n",
    "- \"PRAEGENDE_JUGENDJAHRE\" combines information on three dimensions: generation by decade, movement (mainstream vs. avantgarde), and nation (east vs. west). While there aren't enough levels to disentangle east from west, you should create two new variables to capture the other two dimensions: an interval-type variable for decade, and a binary variable for movement.\n",
    "- \"CAMEO_INTL_2015\" combines information on two axes: wealth and life stage. Break up the two-digit codes by their 'tens'-place and 'ones'-place digits into two new ordinal variables (which, for the purposes of this project, is equivalent to just treating them as their raw numeric values).\n",
    "- If you decide to keep or engineer new features around the other mixed-type features, make sure you note your steps in the Discussion section.\n",
    "\n",
    "Be sure to check `Data_Dictionary.md` for the details needed to finish these tasks."
   ]
  },
  {
   "cell_type": "code",
   "execution_count": 82,
   "metadata": {},
   "outputs": [
    {
     "data": {
      "text/html": [
       "<div>\n",
       "<style scoped>\n",
       "    .dataframe tbody tr th:only-of-type {\n",
       "        vertical-align: middle;\n",
       "    }\n",
       "\n",
       "    .dataframe tbody tr th {\n",
       "        vertical-align: top;\n",
       "    }\n",
       "\n",
       "    .dataframe thead th {\n",
       "        text-align: right;\n",
       "    }\n",
       "</style>\n",
       "<table border=\"1\" class=\"dataframe\">\n",
       "  <thead>\n",
       "    <tr style=\"text-align: right;\">\n",
       "      <th></th>\n",
       "      <th>attribute</th>\n",
       "      <th>information_level</th>\n",
       "      <th>type</th>\n",
       "      <th>missing_or_unknown</th>\n",
       "    </tr>\n",
       "  </thead>\n",
       "  <tbody>\n",
       "    <tr>\n",
       "      <th>15</th>\n",
       "      <td>LP_LEBENSPHASE_FEIN</td>\n",
       "      <td>person</td>\n",
       "      <td>mixed</td>\n",
       "      <td>[0]</td>\n",
       "    </tr>\n",
       "    <tr>\n",
       "      <th>16</th>\n",
       "      <td>LP_LEBENSPHASE_GROB</td>\n",
       "      <td>person</td>\n",
       "      <td>mixed</td>\n",
       "      <td>[0]</td>\n",
       "    </tr>\n",
       "    <tr>\n",
       "      <th>22</th>\n",
       "      <td>PRAEGENDE_JUGENDJAHRE</td>\n",
       "      <td>person</td>\n",
       "      <td>mixed</td>\n",
       "      <td>[-1,0]</td>\n",
       "    </tr>\n",
       "    <tr>\n",
       "      <th>56</th>\n",
       "      <td>WOHNLAGE</td>\n",
       "      <td>building</td>\n",
       "      <td>mixed</td>\n",
       "      <td>[-1]</td>\n",
       "    </tr>\n",
       "    <tr>\n",
       "      <th>59</th>\n",
       "      <td>CAMEO_INTL_2015</td>\n",
       "      <td>microcell_rr4</td>\n",
       "      <td>mixed</td>\n",
       "      <td>[-1,XX]</td>\n",
       "    </tr>\n",
       "    <tr>\n",
       "      <th>64</th>\n",
       "      <td>KBA05_BAUMAX</td>\n",
       "      <td>microcell_rr3</td>\n",
       "      <td>mixed</td>\n",
       "      <td>[-1,0]</td>\n",
       "    </tr>\n",
       "    <tr>\n",
       "      <th>79</th>\n",
       "      <td>PLZ8_BAUMAX</td>\n",
       "      <td>macrocell_plz8</td>\n",
       "      <td>mixed</td>\n",
       "      <td>[-1,0]</td>\n",
       "    </tr>\n",
       "  </tbody>\n",
       "</table>\n",
       "</div>"
      ],
      "text/plain": [
       "                attribute information_level   type missing_or_unknown\n",
       "15    LP_LEBENSPHASE_FEIN            person  mixed                [0]\n",
       "16    LP_LEBENSPHASE_GROB            person  mixed                [0]\n",
       "22  PRAEGENDE_JUGENDJAHRE            person  mixed             [-1,0]\n",
       "56               WOHNLAGE          building  mixed               [-1]\n",
       "59        CAMEO_INTL_2015     microcell_rr4  mixed            [-1,XX]\n",
       "64           KBA05_BAUMAX     microcell_rr3  mixed             [-1,0]\n",
       "79            PLZ8_BAUMAX    macrocell_plz8  mixed             [-1,0]"
      ]
     },
     "execution_count": 82,
     "metadata": {},
     "output_type": "execute_result"
    }
   ],
   "source": [
    "#Getting a first over -view over the mixed features\n",
    "mixed_variables = feat_info.loc[feat_info['type'].isin(['mixed'])]\n",
    "mixed_variables_names = mixed_variables[mixed_variables['attribute'].isin(features_list)]\n",
    "mixed_variables_names = mixed_variables_names['attribute']\n",
    "mixed_variables_names\n",
    "mixed_variables"
   ]
  },
  {
   "cell_type": "markdown",
   "metadata": {},
   "source": [
    "LP_LEBENSPHASE_GROB, PRAEGENDE_JUGENDJAHRE and CAMEO_INTL_2015 needs to be engineered since they combine several dimensions"
   ]
  },
  {
   "cell_type": "code",
   "execution_count": 83,
   "metadata": {},
   "outputs": [
    {
     "data": {
      "text/plain": [
       "2.0     144805\n",
       "1.0     126190\n",
       "3.0      96820\n",
       "12.0     65514\n",
       "4.0      47222\n",
       "9.0      43857\n",
       "5.0      42318\n",
       "10.0     37200\n",
       "11.0     28481\n",
       "6.0      24897\n",
       "8.0      23006\n",
       "7.0      19738\n",
       "Name: LP_LEBENSPHASE_GROB, dtype: int64"
      ]
     },
     "execution_count": 83,
     "metadata": {},
     "output_type": "execute_result"
    }
   ],
   "source": [
    "# Investigate \"LP_LEBENSPHASE_GROB\"\n",
    "azdias_under_mean.LP_LEBENSPHASE_GROB.value_counts()\n"
   ]
  },
  {
   "cell_type": "markdown",
   "metadata": {},
   "source": [
    "the variable \"LP_LEBENSPHASE_GROB\" is hard to re-engineer since not all values contain information about all the dimensions: for example \"6: single parents\" do not include information about the income and \n",
    "Furthermore, the information is already included in several other features, so I will drop the column from the df"
   ]
  },
  {
   "cell_type": "code",
   "execution_count": 84,
   "metadata": {},
   "outputs": [],
   "source": [
    "# dropping LP_LEBENSPHASE_GROB from the data frame\n",
    "azdias_under_mean = azdias_under_mean.drop('LP_LEBENSPHASE_GROB', axis=1)"
   ]
  },
  {
   "cell_type": "code",
   "execution_count": 85,
   "metadata": {},
   "outputs": [
    {
     "data": {
      "text/plain": [
       "51    124571\n",
       "41     84709\n",
       "24     81970\n",
       "14     56623\n",
       "43     52027\n",
       "54     42522\n",
       "25     36138\n",
       "22     29027\n",
       "45     24492\n",
       "13     23488\n",
       "55     22016\n",
       "23     19147\n",
       "52     19044\n",
       "34     16913\n",
       "15     15743\n",
       "31     15498\n",
       "44     13604\n",
       "12     11439\n",
       "35      9558\n",
       "32      9344\n",
       "33      8694\n",
       "Name: CAMEO_INTL_2015, dtype: int64"
      ]
     },
     "execution_count": 85,
     "metadata": {},
     "output_type": "execute_result"
    }
   ],
   "source": [
    "# Investigate \"CAMEO_INTL_2015\" and engineer two new variables.\n",
    "azdias_under_mean.CAMEO_INTL_2015.value_counts()\n"
   ]
  },
  {
   "cell_type": "code",
   "execution_count": 86,
   "metadata": {},
   "outputs": [
    {
     "name": "stdout",
     "output_type": "stream",
     "text": [
      "dict Status {\"11\": 1, \"21\": 1, \"31\": 1, \"41\": 1, \"51\": 1, \"12\": 2, \"22\": 2, \"32\": 2, \"42\": 2, \"52\": 2, \"13\": 3, \"23\": 3, \"33\": 3, \"43\": 3, \"53\": 3, \"14\": 4, \"24\": 4, \"34\": 4, \"44\": 4, \"54\": 4, \"15\": 5, \"25\": 5, \"35\": 5, \"45\": 5, \"55\": 5}\n",
      "\n",
      "\n",
      "dict Household {\"11\": 1, \"12\": 1, \"13\": 1, \"14\": 1, \"15\": 1, \"21\": 2, \"22\": 2, \"23\": 2, \"24\": 2, \"25\": 2, \"31\": 3, \"32\": 3, \"33\": 3, \"34\": 3, \"35\": 3, \"41\": 4, \"42\": 4, \"43\": 4, \"44\": 4, \"45\": 4, \"51\": 5, \"52\": 5, \"53\": 5, \"54\": 5, \"55\": 5}\n"
     ]
    }
   ],
   "source": [
    "#creating variabels for decade\n",
    "wealthy = list(range(11,16))\n",
    "prosperous = list(range(21,26))\n",
    "comfortable = list(range(31,36))\n",
    "less_affluent = list(range(41,46))\n",
    "poorer = list(range(51,56))\n",
    "\n",
    "dict_household =  {1 : wealthy,\n",
    "                   2 : prosperous,\n",
    "                   3 : comfortable,\n",
    "                   4 : less_affluent,\n",
    "                   5 : poorer\n",
    "                  }\n",
    "\n",
    "item_dict_household =  {w: k for k, v in dict_household.items() for w in v}\n",
    "item_dict_household =  json.dumps(item_dict_household)\n",
    "\n",
    "#creating binary variable for movement\n",
    "pre_family_single_couples = list(range(11, 56, 10))\n",
    "young_couples_children = list(range(12, 56, 10))\n",
    "families_school_age_children = list(range(13, 56, 10))\n",
    "older_families_couples = list(range(14, 56, 10))\n",
    "retirement = list(range(15, 56, 10))\n",
    "\n",
    "dict_status =  {1 : pre_family_single_couples,\n",
    "                2 : young_couples_children,\n",
    "                3 : families_school_age_children,\n",
    "                4 : older_families_couples,\n",
    "                5 : retirement\n",
    "                  }\n",
    "\n",
    "item_dict_status ={w: k for k, v in dict_status.items() for w in v}\n",
    "item_dict_status =  json.dumps(item_dict_status)\n",
    "\n",
    "print('dict Status {}'.format(item_dict_status))\n",
    "print('\\n')\n",
    "print('dict Household {}'.format(item_dict_household))\n"
   ]
  },
  {
   "cell_type": "code",
   "execution_count": 87,
   "metadata": {},
   "outputs": [
    {
     "name": "stdout",
     "output_type": "stream",
     "text": [
      "1.0    224778\n",
      "4.0    211632\n",
      "5.0    107947\n",
      "3.0    103356\n",
      "2.0     68854\n",
      "Name: CAMEO_INTL_2015_household, dtype: int64\n"
     ]
    },
    {
     "data": {
      "text/plain": [
       "1.0    224778\n",
       "4.0    211632\n",
       "5.0    107947\n",
       "3.0    103356\n",
       "2.0     68854\n",
       "Name: CAMEO_INTL_2015_status, dtype: int64"
      ]
     },
     "execution_count": 87,
     "metadata": {},
     "output_type": "execute_result"
    }
   ],
   "source": [
    "item_dict_household = {\"11\": 1, \"21\": 1, \"31\": 1, \"41\": 1, \"51\": 1, \"12\": 2, \"22\": 2, \"32\": 2, \"42\": 2, \"52\": 2, \"13\": 3, \"23\": 3, \"33\": 3, \"43\": 3, \"53\": 3, \"14\": 4, \"24\": 4, \"34\": 4, \"44\": 4, \"54\": 4, \"15\": 5, \"25\": 5, \"35\": 5, \"45\": 5, \"55\": 5}\n",
    "item_dict_status = {\"11\": 1, \"21\": 1, \"31\": 1, \"41\": 1, \"51\": 1, \"12\": 2, \"22\": 2, \"32\": 2, \"42\": 2, \"52\": 2, \"13\": 3, \"23\": 3, \"33\": 3, \"43\": 3, \"53\": 3, \"14\": 4, \"24\": 4, \"34\": 4, \"44\": 4, \"54\": 4, \"15\": 5, \"25\": 5, \"35\": 5, \"45\": 5, \"55\": 5}\n",
    "\n",
    "# replacing the values with the keys of the dicts\n",
    "azdias_under_mean['CAMEO_INTL_2015_household'] = azdias_under_mean['CAMEO_INTL_2015']\n",
    "azdias_under_mean['CAMEO_INTL_2015_status'] = azdias_under_mean['CAMEO_INTL_2015']\n",
    "\n",
    "azdias_under_mean['CAMEO_INTL_2015_household'] = azdias_under_mean['CAMEO_INTL_2015_household'].replace(item_dict_household)\n",
    "azdias_under_mean['CAMEO_INTL_2015_status'] = azdias_under_mean['CAMEO_INTL_2015_status'].replace(item_dict_status)\n",
    "# sanity check\n",
    "print(azdias_under_mean['CAMEO_INTL_2015_household'].value_counts())\n",
    "azdias_under_mean['CAMEO_INTL_2015_status'].value_counts()\n"
   ]
  },
  {
   "cell_type": "code",
   "execution_count": 88,
   "metadata": {},
   "outputs": [],
   "source": [
    "# dropping azdias_under_mean['CAMEO_INTL_2015'] from the df\n",
    "azdias_under_mean = azdias_under_mean.drop('CAMEO_INTL_2015', axis=1)"
   ]
  },
  {
   "cell_type": "code",
   "execution_count": 89,
   "metadata": {},
   "outputs": [
    {
     "data": {
      "text/html": [
       "<div>\n",
       "<style scoped>\n",
       "    .dataframe tbody tr th:only-of-type {\n",
       "        vertical-align: middle;\n",
       "    }\n",
       "\n",
       "    .dataframe tbody tr th {\n",
       "        vertical-align: top;\n",
       "    }\n",
       "\n",
       "    .dataframe thead th {\n",
       "        text-align: right;\n",
       "    }\n",
       "</style>\n",
       "<table border=\"1\" class=\"dataframe\">\n",
       "  <thead>\n",
       "    <tr style=\"text-align: right;\">\n",
       "      <th></th>\n",
       "      <th>ALTERSKATEGORIE_GROB</th>\n",
       "      <th>ANREDE_KZ</th>\n",
       "      <th>FINANZ_MINIMALIST</th>\n",
       "      <th>FINANZ_SPARER</th>\n",
       "      <th>FINANZ_VORSORGER</th>\n",
       "      <th>FINANZ_ANLEGER</th>\n",
       "      <th>FINANZ_UNAUFFAELLIGER</th>\n",
       "      <th>FINANZ_HAUSBAUER</th>\n",
       "      <th>GREEN_AVANTGARDE</th>\n",
       "      <th>HEALTH_TYP</th>\n",
       "      <th>...</th>\n",
       "      <th>CAMEO_DEUG_2015_2</th>\n",
       "      <th>CAMEO_DEUG_2015_3</th>\n",
       "      <th>CAMEO_DEUG_2015_4</th>\n",
       "      <th>CAMEO_DEUG_2015_5</th>\n",
       "      <th>CAMEO_DEUG_2015_6</th>\n",
       "      <th>CAMEO_DEUG_2015_7</th>\n",
       "      <th>CAMEO_DEUG_2015_8</th>\n",
       "      <th>CAMEO_DEUG_2015_9</th>\n",
       "      <th>CAMEO_INTL_2015_household</th>\n",
       "      <th>CAMEO_INTL_2015_status</th>\n",
       "    </tr>\n",
       "  </thead>\n",
       "  <tbody>\n",
       "    <tr>\n",
       "      <th>410219</th>\n",
       "      <td>3.0</td>\n",
       "      <td>1</td>\n",
       "      <td>3</td>\n",
       "      <td>2</td>\n",
       "      <td>5</td>\n",
       "      <td>3</td>\n",
       "      <td>1</td>\n",
       "      <td>5</td>\n",
       "      <td>0</td>\n",
       "      <td>3.0</td>\n",
       "      <td>...</td>\n",
       "      <td>0</td>\n",
       "      <td>0</td>\n",
       "      <td>0</td>\n",
       "      <td>0</td>\n",
       "      <td>0</td>\n",
       "      <td>0</td>\n",
       "      <td>1</td>\n",
       "      <td>0</td>\n",
       "      <td>4.0</td>\n",
       "      <td>4.0</td>\n",
       "    </tr>\n",
       "    <tr>\n",
       "      <th>10974</th>\n",
       "      <td>2.0</td>\n",
       "      <td>2</td>\n",
       "      <td>2</td>\n",
       "      <td>3</td>\n",
       "      <td>4</td>\n",
       "      <td>2</td>\n",
       "      <td>2</td>\n",
       "      <td>4</td>\n",
       "      <td>0</td>\n",
       "      <td>2.0</td>\n",
       "      <td>...</td>\n",
       "      <td>0</td>\n",
       "      <td>0</td>\n",
       "      <td>0</td>\n",
       "      <td>0</td>\n",
       "      <td>0</td>\n",
       "      <td>0</td>\n",
       "      <td>0</td>\n",
       "      <td>1</td>\n",
       "      <td>1.0</td>\n",
       "      <td>1.0</td>\n",
       "    </tr>\n",
       "  </tbody>\n",
       "</table>\n",
       "<p>2 rows × 130 columns</p>\n",
       "</div>"
      ],
      "text/plain": [
       "        ALTERSKATEGORIE_GROB  ANREDE_KZ  FINANZ_MINIMALIST  FINANZ_SPARER  \\\n",
       "410219                   3.0          1                  3              2   \n",
       "10974                    2.0          2                  2              3   \n",
       "\n",
       "        FINANZ_VORSORGER  FINANZ_ANLEGER  FINANZ_UNAUFFAELLIGER  \\\n",
       "410219                 5               3                      1   \n",
       "10974                  4               2                      2   \n",
       "\n",
       "        FINANZ_HAUSBAUER  GREEN_AVANTGARDE  HEALTH_TYP  \\\n",
       "410219                 5                 0         3.0   \n",
       "10974                  4                 0         2.0   \n",
       "\n",
       "                 ...            CAMEO_DEUG_2015_2  CAMEO_DEUG_2015_3  \\\n",
       "410219           ...                            0                  0   \n",
       "10974            ...                            0                  0   \n",
       "\n",
       "        CAMEO_DEUG_2015_4  CAMEO_DEUG_2015_5  CAMEO_DEUG_2015_6  \\\n",
       "410219                  0                  0                  0   \n",
       "10974                   0                  0                  0   \n",
       "\n",
       "        CAMEO_DEUG_2015_7  CAMEO_DEUG_2015_8  CAMEO_DEUG_2015_9  \\\n",
       "410219                  0                  1                  0   \n",
       "10974                   0                  0                  1   \n",
       "\n",
       "        CAMEO_INTL_2015_household  CAMEO_INTL_2015_status  \n",
       "410219                        4.0                     4.0  \n",
       "10974                         1.0                     1.0  \n",
       "\n",
       "[2 rows x 130 columns]"
      ]
     },
     "execution_count": 89,
     "metadata": {},
     "output_type": "execute_result"
    }
   ],
   "source": [
    "azdias_under_mean.sample(2)"
   ]
  },
  {
   "cell_type": "code",
   "execution_count": 90,
   "metadata": {},
   "outputs": [
    {
     "data": {
      "text/plain": [
       "14.0    168815\n",
       "8.0     130339\n",
       "5.0      80064\n",
       "10.0     78492\n",
       "3.0      50728\n",
       "15.0     38221\n",
       "11.0     31951\n",
       "9.0      31607\n",
       "6.0      24650\n",
       "12.0     22855\n",
       "4.0      19715\n",
       "1.0      18924\n",
       "2.0       7044\n",
       "13.0      5050\n",
       "7.0       3805\n",
       "Name: PRAEGENDE_JUGENDJAHRE, dtype: int64"
      ]
     },
     "execution_count": 90,
     "metadata": {},
     "output_type": "execute_result"
    }
   ],
   "source": [
    "# Investigate \"PRAEGENDE_JUGENDJAHRE\" and engineer two new variables.\n",
    "azdias_under_mean.PRAEGENDE_JUGENDJAHRE.value_counts()"
   ]
  },
  {
   "cell_type": "code",
   "execution_count": 91,
   "metadata": {},
   "outputs": [
    {
     "name": "stdout",
     "output_type": "stream",
     "text": [
      "dict Movement{1: 0, 3: 0, 5: 0, 8: 0, 10: 0, 12: 0, 14: 0, 2: 1, 4: 1, 6: 1, 7: 1, 9: 1, 11: 1, 13: 1, 15: 1}\n",
      "\n",
      "\n",
      "dict decade {1: 1, 2: 1, 3: 2, 4: 2, 5: 3, 6: 3, 7: 3, 8: 4, 9: 4, 10: 5, 11: 5, 12: 5, 13: 5, 14: 6, 15: 6}\n"
     ]
    }
   ],
   "source": [
    "#creating variabels for decade\n",
    "# 40s(=1),...,90s(=6)\n",
    "decade_dict = {1: [1, 2], 2: [3, 4], 3: [5, 6, 7], 4: [8, 9], 5: [10, 11, 12, 13], 6:[14, 15]}\n",
    "\n",
    "item_decade_dict =  {w: k for k, v in decade_dict.items() for w in v}\n",
    "\n",
    "#creating binary variable for movement\n",
    "#avantgarde(=0), mainstream(=1)\n",
    "\n",
    "dict_movement = {0: [1, 3, 5, 8, 10, 12, 14], 1: [2, 4, 6, 7, 9, 11, 13, 15]}\n",
    "\n",
    "item_dict_movement ={w: k for k, v in dict_movement.items() for w in v}\n",
    "\n",
    "print('dict Movement{}'.format(item_dict_movement))\n",
    "print('\\n')\n",
    "print('dict decade {}'.format(item_decade_dict))\n"
   ]
  },
  {
   "cell_type": "code",
   "execution_count": 92,
   "metadata": {},
   "outputs": [
    {
     "name": "stdout",
     "output_type": "stream",
     "text": [
      "6.0    207036\n",
      "4.0    161946\n",
      "5.0    138348\n",
      "3.0    108519\n",
      "2.0     70443\n",
      "1.0     25968\n",
      "Name: PRAEGENDE_JUGENDJAHRE_decade, dtype: int64\n"
     ]
    },
    {
     "data": {
      "text/plain": [
       "0.0    550217\n",
       "1.0    162043\n",
       "Name: PRAEGENDE_JUGENDJAHRE_movement, dtype: int64"
      ]
     },
     "execution_count": 92,
     "metadata": {},
     "output_type": "execute_result"
    }
   ],
   "source": [
    "# replacing the values with the keys of the dicts\n",
    "azdias_under_mean['PRAEGENDE_JUGENDJAHRE_decade'] = azdias_under_mean['PRAEGENDE_JUGENDJAHRE']\n",
    "azdias_under_mean['PRAEGENDE_JUGENDJAHRE_movement'] = azdias_under_mean['PRAEGENDE_JUGENDJAHRE']\n",
    "\n",
    "azdias_under_mean['PRAEGENDE_JUGENDJAHRE_decade'] = azdias_under_mean['PRAEGENDE_JUGENDJAHRE_decade'].replace(item_decade_dict)\n",
    "azdias_under_mean['PRAEGENDE_JUGENDJAHRE_movement'] = azdias_under_mean['PRAEGENDE_JUGENDJAHRE_movement'].replace(item_dict_movement)\n",
    "# sanity check\n",
    "print(azdias_under_mean['PRAEGENDE_JUGENDJAHRE_decade'].value_counts())\n",
    "azdias_under_mean['PRAEGENDE_JUGENDJAHRE_movement'].value_counts()"
   ]
  },
  {
   "cell_type": "code",
   "execution_count": 93,
   "metadata": {},
   "outputs": [],
   "source": [
    "# dropping azdias_under_mean['PRAEGENDE_JUGENDJAHRE'] from the df\n",
    "azdias_clean = azdias_under_mean.drop('PRAEGENDE_JUGENDJAHRE', axis=1)"
   ]
  },
  {
   "cell_type": "markdown",
   "metadata": {},
   "source": [
    "#### Discussion 1.2.2: Engineer Mixed-Type Features\n",
    "I re-engineered the variables PRAEGENDE_JUGENDJAHRE and CAMEO_INTL_2015 by spliting the information of each variable into two new variables. Then I dropped the original columns from the data frame.\n",
    "\n",
    "The variable \"LP_LEBENSPHASE_GROB\" is hard to re-engineer since not all values contain information about all the dimensions: for example \"6: single parents\" do not include information about the income. \n",
    "Furthermore, the information is already included in several other features, so I dropped the column from the df"
   ]
  },
  {
   "cell_type": "markdown",
   "metadata": {},
   "source": [
    "#### Step 1.2.3: Complete Feature Selection\n",
    "\n",
    "In order to finish this step up, you need to make sure that your data frame now only has the columns that you want to keep. To summarize, the dataframe should consist of the following:\n",
    "- All numeric, interval, and ordinal type columns from the original dataset.\n",
    "- Binary categorical features (all numerically-encoded).\n",
    "- Engineered features from other multi-level categorical features and mixed features.\n",
    "\n",
    "Make sure that for any new columns that you have engineered, that you've excluded the original columns from the final dataset. Otherwise, their values will interfere with the analysis later on the project. For example, you should not keep \"PRAEGENDE_JUGENDJAHRE\", since its values won't be useful for the algorithm: only the values derived from it in the engineered features you created should be retained. As a reminder, your data should only be from **the subset with few or no missing values**."
   ]
  },
  {
   "cell_type": "code",
   "execution_count": 94,
   "metadata": {},
   "outputs": [
    {
     "name": "stdout",
     "output_type": "stream",
     "text": [
      "(719624, 131)\n",
      "<class 'pandas.core.frame.DataFrame'>\n",
      "Int64Index: 719624 entries, 1 to 891220\n",
      "Columns: 131 entries, ALTERSKATEGORIE_GROB to PRAEGENDE_JUGENDJAHRE_movement\n",
      "dtypes: float64(43), int64(23), uint8(65)\n",
      "memory usage: 432.5 MB\n",
      "None\n"
     ]
    },
    {
     "data": {
      "text/plain": [
       "['ALTERSKATEGORIE_GROB',\n",
       " 'ANREDE_KZ',\n",
       " 'FINANZ_MINIMALIST',\n",
       " 'FINANZ_SPARER',\n",
       " 'FINANZ_VORSORGER',\n",
       " 'FINANZ_ANLEGER',\n",
       " 'FINANZ_UNAUFFAELLIGER',\n",
       " 'FINANZ_HAUSBAUER',\n",
       " 'GREEN_AVANTGARDE',\n",
       " 'HEALTH_TYP',\n",
       " 'RETOURTYP_BK_S',\n",
       " 'SEMIO_SOZ',\n",
       " 'SEMIO_FAM',\n",
       " 'SEMIO_REL',\n",
       " 'SEMIO_MAT',\n",
       " 'SEMIO_VERT',\n",
       " 'SEMIO_LUST',\n",
       " 'SEMIO_ERL',\n",
       " 'SEMIO_KULT',\n",
       " 'SEMIO_RAT',\n",
       " 'SEMIO_KRIT',\n",
       " 'SEMIO_DOM',\n",
       " 'SEMIO_KAEM',\n",
       " 'SEMIO_PFLICHT',\n",
       " 'SEMIO_TRADV',\n",
       " 'SOHO_KZ',\n",
       " 'ANZ_PERSONEN',\n",
       " 'ANZ_TITEL',\n",
       " 'HH_EINKOMMEN_SCORE',\n",
       " 'W_KEIT_KIND_HH',\n",
       " 'WOHNDAUER_2008',\n",
       " 'ANZ_HAUSHALTE_AKTIV',\n",
       " 'ANZ_HH_TITEL',\n",
       " 'KONSUMNAEHE',\n",
       " 'MIN_GEBAEUDEJAHR',\n",
       " 'OST_WEST_KZ',\n",
       " 'WOHNLAGE',\n",
       " 'KBA05_ANTG1',\n",
       " 'KBA05_ANTG2',\n",
       " 'KBA05_ANTG3',\n",
       " 'KBA05_ANTG4',\n",
       " 'KBA05_GBZ',\n",
       " 'BALLRAUM',\n",
       " 'EWDICHTE',\n",
       " 'INNENSTADT',\n",
       " 'GEBAEUDETYP_RASTER',\n",
       " 'KKK',\n",
       " 'MOBI_REGIO',\n",
       " 'ONLINE_AFFINITAET',\n",
       " 'REGIOTYP',\n",
       " 'KBA13_ANZAHL_PKW',\n",
       " 'PLZ8_ANTG1',\n",
       " 'PLZ8_ANTG2',\n",
       " 'PLZ8_ANTG3',\n",
       " 'PLZ8_ANTG4',\n",
       " 'PLZ8_BAUMAX',\n",
       " 'PLZ8_HHZ',\n",
       " 'PLZ8_GBZ',\n",
       " 'ARBEIT',\n",
       " 'ORTSGR_KLS9',\n",
       " 'RELAT_AB',\n",
       " 'missing_values_rows',\n",
       " 'CJT_GESAMTTYP_1.0',\n",
       " 'CJT_GESAMTTYP_2.0',\n",
       " 'CJT_GESAMTTYP_3.0',\n",
       " 'CJT_GESAMTTYP_4.0',\n",
       " 'CJT_GESAMTTYP_5.0',\n",
       " 'CJT_GESAMTTYP_6.0',\n",
       " 'FINANZTYP_1',\n",
       " 'FINANZTYP_2',\n",
       " 'FINANZTYP_3',\n",
       " 'FINANZTYP_4',\n",
       " 'FINANZTYP_5',\n",
       " 'FINANZTYP_6',\n",
       " 'GFK_URLAUBERTYP_1.0',\n",
       " 'GFK_URLAUBERTYP_2.0',\n",
       " 'GFK_URLAUBERTYP_3.0',\n",
       " 'GFK_URLAUBERTYP_4.0',\n",
       " 'GFK_URLAUBERTYP_5.0',\n",
       " 'GFK_URLAUBERTYP_6.0',\n",
       " 'GFK_URLAUBERTYP_7.0',\n",
       " 'GFK_URLAUBERTYP_8.0',\n",
       " 'GFK_URLAUBERTYP_9.0',\n",
       " 'GFK_URLAUBERTYP_10.0',\n",
       " 'GFK_URLAUBERTYP_11.0',\n",
       " 'GFK_URLAUBERTYP_12.0',\n",
       " 'LP_FAMILIE_GROB_1.0',\n",
       " 'LP_FAMILIE_GROB_2.0',\n",
       " 'LP_FAMILIE_GROB_3.0',\n",
       " 'LP_FAMILIE_GROB_4.0',\n",
       " 'LP_FAMILIE_GROB_5.0',\n",
       " 'LP_STATUS_GROB_1.0',\n",
       " 'LP_STATUS_GROB_2.0',\n",
       " 'LP_STATUS_GROB_3.0',\n",
       " 'LP_STATUS_GROB_4.0',\n",
       " 'LP_STATUS_GROB_5.0',\n",
       " 'NATIONALITAET_KZ_1.0',\n",
       " 'NATIONALITAET_KZ_2.0',\n",
       " 'NATIONALITAET_KZ_3.0',\n",
       " 'SHOPPER_TYP_0.0',\n",
       " 'SHOPPER_TYP_1.0',\n",
       " 'SHOPPER_TYP_2.0',\n",
       " 'SHOPPER_TYP_3.0',\n",
       " 'VERS_TYP_1.0',\n",
       " 'VERS_TYP_2.0',\n",
       " 'ZABEOTYP_1',\n",
       " 'ZABEOTYP_2',\n",
       " 'ZABEOTYP_3',\n",
       " 'ZABEOTYP_4',\n",
       " 'ZABEOTYP_5',\n",
       " 'ZABEOTYP_6',\n",
       " 'GEBAEUDETYP_1.0',\n",
       " 'GEBAEUDETYP_2.0',\n",
       " 'GEBAEUDETYP_3.0',\n",
       " 'GEBAEUDETYP_4.0',\n",
       " 'GEBAEUDETYP_5.0',\n",
       " 'GEBAEUDETYP_6.0',\n",
       " 'GEBAEUDETYP_8.0',\n",
       " 'CAMEO_DEUG_2015_1',\n",
       " 'CAMEO_DEUG_2015_2',\n",
       " 'CAMEO_DEUG_2015_3',\n",
       " 'CAMEO_DEUG_2015_4',\n",
       " 'CAMEO_DEUG_2015_5',\n",
       " 'CAMEO_DEUG_2015_6',\n",
       " 'CAMEO_DEUG_2015_7',\n",
       " 'CAMEO_DEUG_2015_8',\n",
       " 'CAMEO_DEUG_2015_9',\n",
       " 'CAMEO_INTL_2015_household',\n",
       " 'CAMEO_INTL_2015_status',\n",
       " 'PRAEGENDE_JUGENDJAHRE_decade',\n",
       " 'PRAEGENDE_JUGENDJAHRE_movement']"
      ]
     },
     "execution_count": 94,
     "metadata": {},
     "output_type": "execute_result"
    }
   ],
   "source": [
    "# checking if the data frame now only has the columns that I want to keep for the analysis later\n",
    "print(azdias_clean.shape)\n",
    "print(azdias_clean.info())\n",
    "list(azdias_clean.columns.values)"
   ]
  },
  {
   "cell_type": "code",
   "execution_count": 95,
   "metadata": {},
   "outputs": [],
   "source": [
    "#droppping the column missing_values_rows from the data frame\n",
    "azdias_clean = azdias_clean.drop('missing_values_rows', axis=1)"
   ]
  },
  {
   "cell_type": "markdown",
   "metadata": {},
   "source": [
    "### Step 1.3: Create a Cleaning Function\n",
    "\n",
    "Even though you've finished cleaning up the general population demographics data, it's important to look ahead to the future and realize that you'll need to perform the same cleaning steps on the customer demographics data. In this substep, complete the function below to execute the main feature selection, encoding, and re-engineering steps you performed above. Then, when it comes to looking at the customer data in Step 3, you can just run this function on that DataFrame to get the trimmed dataset in a single step."
   ]
  },
  {
   "cell_type": "code",
   "execution_count": 132,
   "metadata": {},
   "outputs": [],
   "source": [
    "def clean_data(df):\n",
    "    \n",
    "    \"\"\"\n",
    "    Perform feature trimming, re-encoding, and engineering for demographics\n",
    "    data\n",
    "    \n",
    "    INPUT: Demographics DataFrame\n",
    "    OUTPUT: Trimmed and cleaned demographics DataFrame\n",
    "    \"\"\"\n",
    "    \n",
    "    # Put in code here to execute all main cleaning steps:\n",
    "    # convert missing value codes into NaNs, ...\n",
    "    #function for parsing and replacing the identified values with nan in the df azdidas\n",
    "    for index in range(len(feat_info)):\n",
    "        nan_values = feat_info.iloc[index]['missing_or_unknown']\n",
    "        nan_values = nan_values.strip('[]').split(',')\n",
    "        nan_values = [int(value) if (value!='X' and value!='XX' and value!='') else value for value in nan_values]\n",
    "        if nan_values != ['']:\n",
    "            df = df.replace({feat_info.iloc[index]['attribute']: nan_values}, np.nan)\n",
    "    \n",
    "    # remove selected columns and rows, ...\n",
    "    df = df.drop(['TITEL_KZ','AGER_TYP','KK_KUNDENTYP', 'KBA05_BAUMAX','GEBURTSJAHR', 'ALTER_HH'], axis=1)\n",
    "    \n",
    "    # splitting the df into two subsets (one with no or few missing variables, one with a lot of missing data)\n",
    "    # function for calculating the percentage of missing data for each row\n",
    "    #def missing_values_row(row):\n",
    "        #return (row.isnull().sum()/df.shape[1])*100\n",
    "    \n",
    "    df['missing_values_rows'] = df.apply(missing_values_row, axis=1)\n",
    "    df_over_mean = df.loc[df['missing_values_rows'] > df['missing_values_rows'].mean()]\n",
    "    df_under_mean = df.loc[df['missing_values_rows'] < df['missing_values_rows'].mean()]\n",
    "    \n",
    "    # select, re-encode, and engineer column values.\n",
    "    # re-encode OST_WEST_KZ as numerical binary variable\n",
    "    #re_encoding_values = {'O':0, 'W':1}\n",
    "    df_under_mean['OST_WEST_KZ'] = df_under_mean['OST_WEST_KZ'].replace({'O': 0, 'W': 1})\n",
    "    \n",
    "    # dropping detailed scaled features from the sub set\n",
    "    df_under_mean = df_under_mean.drop(['LP_LEBENSPHASE_FEIN', 'LP_FAMILIE_FEIN', 'LP_STATUS_FEIN', 'CAMEO_DEU_2015'], axis=1)\n",
    "    \n",
    "    # re-encoding the remaining multi-level categoricals\n",
    "    # creating new df with the multi-level categorials \n",
    "    categorical_features = df_under_mean[['CJT_GESAMTTYP', 'FINANZTYP', 'GFK_URLAUBERTYP', 'LP_FAMILIE_GROB','LP_STATUS_GROB', 'NATIONALITAET_KZ', 'SHOPPER_TYP', 'VERS_TYP', 'ZABEOTYP', 'GEBAEUDETYP', 'CAMEO_DEUG_2015']]\n",
    "    # converting to list\n",
    "    categorical_features_list = categorical_features.columns.tolist()\n",
    "    df_under_mean = pd.get_dummies(df_under_mean, columns=categorical_features_list)\n",
    "    \n",
    "    # dropping LP_LEBENSPHASE_GROB from the data frame\n",
    "    df_under_mean = df_under_mean.drop('LP_LEBENSPHASE_GROB', axis=1)\n",
    "    \n",
    "    # re-engeering AMEO_INTL_2015 into two new variables and dropping the orignal colum from the data frame\n",
    "    item_dict_household = {\"11\": 1, \"21\": 1, \"31\": 1, \"41\": 1, \"51\": 1, \"12\": 2, \"22\": 2, \"32\": 2, \"42\": 2, \"52\": 2, \"13\": 3, \"23\": 3, \"33\": 3, \"43\": 3, \"53\": 3, \"14\": 4, \"24\": 4, \"34\": 4, \"44\": 4, \"54\": 4, \"15\": 5, \"25\": 5, \"35\": 5, \"45\": 5, \"55\": 5}\n",
    "    item_dict_status = {\"11\": 1, \"21\": 1, \"31\": 1, \"41\": 1, \"51\": 1, \"12\": 2, \"22\": 2, \"32\": 2, \"42\": 2, \"52\": 2, \"13\": 3, \"23\": 3, \"33\": 3, \"43\": 3, \"53\": 3, \"14\": 4, \"24\": 4, \"34\": 4, \"44\": 4, \"54\": 4, \"15\": 5, \"25\": 5, \"35\": 5, \"45\": 5, \"55\": 5}\n",
    "    df_under_mean['CAMEO_INTL_2015_household'] = df_under_mean['CAMEO_INTL_2015']\n",
    "    df_under_mean['CAMEO_INTL_2015_status'] = df_under_mean['CAMEO_INTL_2015']\n",
    "    df_under_mean['CAMEO_INTL_2015_household'] = df_under_mean['CAMEO_INTL_2015_household'].replace(item_dict_household)\n",
    "    df_under_mean['CAMEO_INTL_2015_status'] = df_under_mean['CAMEO_INTL_2015_status'].replace(item_dict_status)\n",
    "    df_under_mean = df_under_mean.drop('CAMEO_INTL_2015', axis=1)\n",
    "    \n",
    "    # re-engeering AMEO_INTL_2015 into two new variables and dropping the orignal colum from the data frame\n",
    "    #creating variabels for decade\n",
    "    # 40s(=1),...,90s(=6)\n",
    "    decade_dict = {1: [1, 2], 2: [3, 4], 3: [5, 6, 7], 4: [8, 9], 5: [10, 11, 12, 13], 6:[14, 15]}\n",
    "    item_decade_dict =  {w: k for k, v in decade_dict.items() for w in v}\n",
    "\n",
    "    #creating binary variable for movement\n",
    "    #avantgarde(=0), mainstream(=1)\n",
    "    dict_movement = {0: [1, 3, 5, 8, 10, 12, 14], 1: [2, 4, 6, 7, 9, 11, 13, 15]}\n",
    "    item_dict_movement ={w: k for k, v in dict_movement.items() for w in v}\n",
    "    \n",
    "    df_under_mean['PRAEGENDE_JUGENDJAHRE_decade'] = df_under_mean['PRAEGENDE_JUGENDJAHRE']\n",
    "    df_under_mean['PRAEGENDE_JUGENDJAHRE_movement'] = df_under_mean['PRAEGENDE_JUGENDJAHRE']\n",
    "    df_under_mean['PRAEGENDE_JUGENDJAHRE_decade'] = df_under_mean['PRAEGENDE_JUGENDJAHRE_decade'].replace(item_decade_dict)\n",
    "    df_under_mean['PRAEGENDE_JUGENDJAHRE_movement'] = df_under_mean['PRAEGENDE_JUGENDJAHRE_movement'].replace(item_dict_movement)\n",
    "    df_clean = df_under_mean.drop('PRAEGENDE_JUGENDJAHRE', axis=1)\n",
    "    # Return the cleaned dataframe.\n",
    "    return df_clean, df_over_mean\n",
    "    "
   ]
  },
  {
   "cell_type": "markdown",
   "metadata": {},
   "source": [
    "## Step 2: Feature Transformation\n",
    "\n",
    "### Step 2.1: Apply Feature Scaling\n",
    "\n",
    "Before we apply dimensionality reduction techniques to the data, we need to perform feature scaling so that the principal component vectors are not influenced by the natural differences in scale for features. Starting from this part of the project, you'll want to keep an eye on the [API reference page for sklearn](http://scikit-learn.org/stable/modules/classes.html) to help you navigate to all of the classes and functions that you'll need. In this substep, you'll need to check the following:\n",
    "\n",
    "- sklearn requires that data not have missing values in order for its estimators to work properly. So, before applying the scaler to your data, make sure that you've cleaned the DataFrame of the remaining missing values. This can be as simple as just removing all data points with missing data, or applying an [Imputer](http://scikit-learn.org/stable/modules/generated/sklearn.preprocessing.Imputer.html) to replace all missing values. You might also try a more complicated procedure where you temporarily remove missing values in order to compute the scaling parameters before re-introducing those missing values and applying imputation. Think about how much missing data you have and what possible effects each approach might have on your analysis, and justify your decision in the discussion section below.\n",
    "- For the actual scaling function, a [StandardScaler](http://scikit-learn.org/stable/modules/generated/sklearn.preprocessing.StandardScaler.html) instance is suggested, scaling each feature to mean 0 and standard deviation 1.\n",
    "- For these classes, you can make use of the `.fit_transform()` method to both fit a procedure to the data as well as apply the transformation to the data at the same time. Don't forget to keep the fit sklearn objects handy, since you'll be applying them to the customer demographics data towards the end of the project."
   ]
  },
  {
   "cell_type": "code",
   "execution_count": 97,
   "metadata": {},
   "outputs": [
    {
     "name": "stdout",
     "output_type": "stream",
     "text": [
      "Missing values in data frame: 170459\n",
      "Total amount of values in data frame: 719624\n"
     ]
    }
   ],
   "source": [
    "# If you've not yet cleaned the dataset of all NaN values, then investigate and\n",
    "# do that now.\n",
    "print('Missing values in data frame: {}'.format(azdias_clean.isnull().sum().sum()))\n",
    "print('Total amount of values in data frame: {}'.format(azdias_clean.shape[0]))"
   ]
  },
  {
   "cell_type": "markdown",
   "metadata": {},
   "source": [
    "by dropping all missing values would mean that I would lose around 26% of the values which seems pretty high.\n",
    "So I will not simple drop the missing values from the data frame but applying an imputer to replace all missing values"
   ]
  },
  {
   "cell_type": "code",
   "execution_count": 98,
   "metadata": {},
   "outputs": [],
   "source": [
    "# applying imputation on the missing values (strategy='mean')\n",
    "\n",
    "imputer_mean = Imputer(missing_values=np.nan, strategy='mean', axis=0)\n",
    "azdias_clean_imputed = pd.DataFrame(imputer_mean.fit_transform(azdias_clean))\n",
    "# restoring the data frame\n",
    "azdias_clean_imputed.columns = azdias_clean.columns\n",
    "azdias_clean_imputed.index = azdias_clean.index\n",
    "\n",
    "#(source: https://stackoverflow.com/questions/33660836/impute-entire-dataframe-all-columns-using-scikit-learn-sklearn-without-itera)"
   ]
  },
  {
   "cell_type": "code",
   "execution_count": 99,
   "metadata": {},
   "outputs": [
    {
     "name": "stdout",
     "output_type": "stream",
     "text": [
      "Missing values in the imputed data frame: 0\n"
     ]
    }
   ],
   "source": [
    "#sanity check\n",
    "print('Missing values in the imputed data frame: {}'.format(azdias_clean_imputed.isnull().sum().sum()))"
   ]
  },
  {
   "cell_type": "code",
   "execution_count": 100,
   "metadata": {},
   "outputs": [
    {
     "data": {
      "text/plain": [
       "(719624, 130)"
      ]
     },
     "execution_count": 100,
     "metadata": {},
     "output_type": "execute_result"
    }
   ],
   "source": [
    "# Apply feature scaling to the general population demographics data.\n",
    "\n",
    "scaler = StandardScaler()\n",
    "azdias_clean_imputed_scaled = pd.DataFrame(scaler.fit_transform(azdias_clean_imputed))\n",
    "# restoring the data frame\n",
    "azdias_clean_imputed_scaled.columns = azdias_clean.columns\n",
    "azdias_clean_imputed_scaled.index = azdias_clean.index\n",
    "azdias_clean_imputed_scaled.shape"
   ]
  },
  {
   "cell_type": "markdown",
   "metadata": {},
   "source": [
    "### Discussion 2.1: Apply Feature Scaling\n",
    "\n",
    "In the first step, I applyied an imputer to replace all missing values with the mean.\n",
    "In the second step I scaled all features with a standard scaler, scaling each feature to mean 0 and standard deviation 1"
   ]
  },
  {
   "cell_type": "markdown",
   "metadata": {},
   "source": [
    "### Step 2.2: Perform Dimensionality Reduction\n",
    "\n",
    "On your scaled data, you are now ready to apply dimensionality reduction techniques.\n",
    "\n",
    "- Use sklearn's [PCA](http://scikit-learn.org/stable/modules/generated/sklearn.decomposition.PCA.html) class to apply principal component analysis on the data, thus finding the vectors of maximal variance in the data. To start, you should not set any parameters (so all components are computed) or set a number of components that is at least half the number of features (so there's enough features to see the general trend in variability).\n",
    "- Check out the ratio of variance explained by each principal component as well as the cumulative variance explained. Try plotting the cumulative or sequential values using matplotlib's [`plot()`](https://matplotlib.org/api/_as_gen/matplotlib.pyplot.plot.html) function. Based on what you find, select a value for the number of transformed features you'll retain for the clustering part of the project.\n",
    "- Once you've made a choice for the number of components to keep, make sure you re-fit a PCA instance to perform the decided-on transformation."
   ]
  },
  {
   "cell_type": "code",
   "execution_count": 101,
   "metadata": {},
   "outputs": [],
   "source": [
    "# Apply PCA to the data with the help of the do_pca function from the class room\n",
    "\n",
    "def do_pca (n_components, data):\n",
    "    \n",
    "    pca = PCA(n_components)\n",
    "    data_pca = pca.fit_transform(data)\n",
    "    return pca, data_pca"
   ]
  },
  {
   "cell_type": "code",
   "execution_count": 103,
   "metadata": {},
   "outputs": [],
   "source": [
    "# apply PCA for the 130 features in the data set for then Investigating the variance accounted for by each principal component\n",
    "pca, azdias_clean_imputed_scaled_pca = do_pca (130, azdias_clean_imputed_scaled)"
   ]
  },
  {
   "cell_type": "code",
   "execution_count": 421,
   "metadata": {},
   "outputs": [
    {
     "data": {
      "text/plain": [
       "(719624, 61)"
      ]
     },
     "execution_count": 421,
     "metadata": {},
     "output_type": "execute_result"
    }
   ],
   "source": [
    "# looking at the features (sanity check)\n",
    "azdias_clean_imputed_scaled_pca.shape"
   ]
  },
  {
   "cell_type": "code",
   "execution_count": 104,
   "metadata": {},
   "outputs": [
    {
     "data": {
      "image/png": "[encoded data removed]",
      "text/plain": [
       "<matplotlib.figure.Figure at 0x7fa79454b208>"
      ]
     },
     "metadata": {
      "needs_background": "light"
     },
     "output_type": "display_data"
    }
   ],
   "source": [
    "# Investigate the variance accounted for by each principal component.\n",
    "# plotting the explained variance \n",
    "#setting up the subplots\n",
    "fig = plt.subplots(nrows=1, ncols=1, figsize=(25,10))\n",
    "\n",
    "plt.subplot(1, 2, 1)\n",
    "plt.plot(pca.explained_variance_ratio_)\n",
    "plt.title('Variance accounted for by each principal component')\n",
    "plt.xlabel('Number of components')\n",
    "plt.xticks(range(1,132,5))\n",
    "plt.ylabel('explained variance');\n",
    "\n",
    "\n",
    "plt.subplot(1, 2, 2)\n",
    "plt.plot(pca.explained_variance_ratio_.cumsum())\n",
    "plt.title('Cumulative explained variance')\n",
    "plt.xlabel('Number of components')\n",
    "plt.xticks(range(1,132,5))\n",
    "plt.ylabel('cumulative explained variance');"
   ]
  },
  {
   "cell_type": "code",
   "execution_count": 105,
   "metadata": {},
   "outputs": [
    {
     "data": {
      "text/plain": [
       "array([ 0.11,  0.08,  0.05,  0.04,  0.02,  0.02,  0.02,  0.02,  0.02,\n",
       "        0.02,  0.01,  0.01,  0.01,  0.01,  0.01,  0.01,  0.01,  0.01,\n",
       "        0.01,  0.01,  0.01,  0.01,  0.01,  0.01,  0.01,  0.01,  0.01,\n",
       "        0.01,  0.01,  0.01,  0.01,  0.01,  0.01,  0.01,  0.01,  0.01,\n",
       "        0.01,  0.01,  0.01,  0.01,  0.01,  0.01,  0.01,  0.01,  0.01,\n",
       "        0.01,  0.01,  0.01,  0.01,  0.01,  0.01,  0.01,  0.01,  0.01,\n",
       "        0.01,  0.01,  0.01,  0.01,  0.01,  0.01,  0.01,  0.01,  0.01,\n",
       "        0.01,  0.01,  0.01,  0.01,  0.01,  0.01,  0.01,  0.  ,  0.  ,\n",
       "        0.  ,  0.  ,  0.  ,  0.  ,  0.  ,  0.  ,  0.  ,  0.  ,  0.  ,\n",
       "        0.  ,  0.  ,  0.  ,  0.  ,  0.  ,  0.  ,  0.  ,  0.  ,  0.  ,\n",
       "        0.  ,  0.  ,  0.  ,  0.  ,  0.  ,  0.  ,  0.  ,  0.  ,  0.  ,\n",
       "        0.  ,  0.  ,  0.  ,  0.  ,  0.  ,  0.  ,  0.  ,  0.  ,  0.  ,\n",
       "        0.  ,  0.  ,  0.  ,  0.  ,  0.  ,  0.  ,  0.  ,  0.  ,  0.  ,\n",
       "        0.  ,  0.  ,  0.  ,  0.  ,  0.  ,  0.  ,  0.  ,  0.  ,  0.  ,\n",
       "        0.  ,  0.  ,  0.  ,  0.  ])"
      ]
     },
     "execution_count": 105,
     "metadata": {},
     "output_type": "execute_result"
    }
   ],
   "source": [
    "# how much information (variance) can be attributed to each of the principal component.\n",
    "pca.explained_variance_ratio_.round(2)"
   ]
  },
  {
   "cell_type": "markdown",
   "metadata": {},
   "source": [
    "The plot on the left shows how much information (variance) can be attributed to each of the principal component.\n",
    "As one can see, the first component contains 11% of the information, the second 0.08 % etc. \n",
    "You can also see that the information each component holds decrease pretty fast. The first 10 components hold 39% of the information (variance). This is display by the \"elbow\" in the plot."
   ]
  },
  {
   "cell_type": "code",
   "execution_count": 106,
   "metadata": {},
   "outputs": [
    {
     "data": {
      "text/plain": [
       "array([ 0.10798908,  0.19094279,  0.24263609,  0.27780989,  0.30141501,\n",
       "        0.32111181,  0.33980115,  0.35804016,  0.37490114,  0.39056978,\n",
       "        0.40550865,  0.41991797,  0.43323433,  0.44581509,  0.45789442,\n",
       "        0.4694591 ,  0.48066162,  0.49148054,  0.50210512,  0.51224563,\n",
       "        0.52234046,  0.53219672,  0.54199208,  0.55166362,  0.56109787,\n",
       "        0.57040688,  0.57960682,  0.58864385,  0.59749287,  0.60622609,\n",
       "        0.61491217,  0.62355986,  0.63218631,  0.64076508,  0.64923628,\n",
       "        0.65762177,  0.66589202,  0.67413222,  0.68228937,  0.69041859,\n",
       "        0.69847466,  0.70649902,  0.7144943 ,  0.72237695,  0.73025479,\n",
       "        0.73802288,  0.7457334 ,  0.75343455,  0.76112532,  0.76880381,\n",
       "        0.77644198,  0.78396509,  0.79138753,  0.79877725,  0.80608664,\n",
       "        0.81327886,  0.82034454,  0.82729886,  0.83418634,  0.84077804,\n",
       "        0.84721385,  0.85352867,  0.85981557,  0.8659715 ,  0.87203822,\n",
       "        0.87782879,  0.88329411,  0.88863754,  0.8937618 ,  0.89887047,\n",
       "        0.90374998,  0.90832532,  0.91271694,  0.91703696,  0.92111836,\n",
       "        0.92483819,  0.92842434,  0.93179551,  0.93509379,  0.93833202,\n",
       "        0.94142439,  0.94441126,  0.94731947,  0.95005437,  0.95270619,\n",
       "        0.95516332,  0.95748414,  0.95971064,  0.96189219,  0.96399465,\n",
       "        0.96604326,  0.96804798,  0.96996784,  0.97187154,  0.97367859,\n",
       "        0.97547256,  0.97721598,  0.97886807,  0.98042773,  0.98196023,\n",
       "        0.9834437 ,  0.98485098,  0.98618639,  0.98749456,  0.98878225,\n",
       "        0.98997716,  0.99112354,  0.99221526,  0.99325477,  0.99426908,\n",
       "        0.99518718,  0.996051  ,  0.99684517,  0.99753874,  0.99816005,\n",
       "        0.99876117,  0.99932561,  0.99967958,  0.9999246 ,  0.99996157,\n",
       "        0.99998991,  1.        ,  1.        ,  1.        ,  1.        ,\n",
       "        1.        ,  1.        ,  1.        ,  1.        ,  1.        ])"
      ]
     },
     "execution_count": 106,
     "metadata": {},
     "output_type": "execute_result"
    }
   ],
   "source": [
    "# culmutive variance \n",
    "pca.explained_variance_ratio_.cumsum()"
   ]
  },
  {
   "cell_type": "code",
   "execution_count": 107,
   "metadata": {},
   "outputs": [
    {
     "name": "stdout",
     "output_type": "stream",
     "text": [
      "61 components need to be kept to explain 85% of the variability\n"
     ]
    }
   ],
   "source": [
    "#how many components need to be kept to explain 85% of the variability in the original dataset?\n",
    "explained_over_85 = pca.explained_variance_ratio_.cumsum() <= 0.85\n",
    "print('{} components need to be kept to explain 85% of the variability'.format(explained_over_85.sum()))"
   ]
  },
  {
   "cell_type": "markdown",
   "metadata": {},
   "source": [
    "The plot on the left shows the total information (variance) hold by the number of components. The graph is pretty steep in the beginng and flattens after 10 components. \n",
    "61 components are needed to explain 85% of the variability of the data set bzw. the first 62 components holding 85% of the information."
   ]
  },
  {
   "cell_type": "code",
   "execution_count": 108,
   "metadata": {},
   "outputs": [],
   "source": [
    "# Re-apply PCA to the data with only 61 components\n",
    "pca, azdias_clean_imputed_scaled_pca = do_pca (61, azdias_clean_imputed_scaled)"
   ]
  },
  {
   "cell_type": "code",
   "execution_count": 109,
   "metadata": {},
   "outputs": [
    {
     "name": "stdout",
     "output_type": "stream",
     "text": [
      "(719624, 61)\n"
     ]
    },
    {
     "data": {
      "text/plain": [
       "array([ 0.10798908,  0.19094279,  0.24263609,  0.27780989,  0.30141501,\n",
       "        0.32111179,  0.33980108,  0.35804004,  0.37490091,  0.39056952,\n",
       "        0.40550779,  0.41991641,  0.43323206,  0.445812  ,  0.45789035,\n",
       "        0.46945268,  0.48065138,  0.49146956,  0.50209198,  0.51222441,\n",
       "        0.52231449,  0.53216178,  0.54194738,  0.55161515,  0.56103974,\n",
       "        0.57034433,  0.57953913,  0.58856292,  0.59741067,  0.60613345,\n",
       "        0.6148089 ,  0.62344939,  0.6320726 ,  0.64062966,  0.64909428,\n",
       "        0.65744488,  0.66570231,  0.67391367,  0.68206107,  0.69018168,\n",
       "        0.69822442,  0.706235  ,  0.71419743,  0.72206239,  0.72989711,\n",
       "        0.73764894,  0.74534756,  0.75302352,  0.76068553,  0.76832002,\n",
       "        0.77587686,  0.78338621,  0.7907721 ,  0.79813799,  0.80539   ,\n",
       "        0.81255668,  0.81961968,  0.82649438,  0.83327276,  0.83982024,\n",
       "        0.84618604])"
      ]
     },
     "execution_count": 109,
     "metadata": {},
     "output_type": "execute_result"
    }
   ],
   "source": [
    "#sanity check\n",
    "print(azdias_clean_imputed_scaled_pca.shape)\n",
    "pca.explained_variance_ratio_.cumsum()"
   ]
  },
  {
   "cell_type": "markdown",
   "metadata": {},
   "source": [
    "### Discussion 2.2: Perform Dimensionality Reduction\n",
    "The investigation of the components showed that the first two component contain 19% of the information and The first 10 components hold 39% of the information (variance). This is displayed by the \"elbow\" in the plot.\n",
    "You can also see that the information each component holds decrease pretty fast after that\n",
    "\n",
    "62 components are needed to explain 85% of the variability of the data set bzw. the first 62 components holding 85% of the information.\n",
    "\n",
    "Based on these findings i re-applied the PCA with 61 components.\n"
   ]
  },
  {
   "cell_type": "markdown",
   "metadata": {},
   "source": [
    "### Step 2.3: Interpret Principal Components\n",
    "\n",
    "Now that we have our transformed principal components, it's a nice idea to check out the weight of each variable on the first few components to see if they can be interpreted in some fashion.\n",
    "\n",
    "As a reminder, each principal component is a unit vector that points in the direction of highest variance (after accounting for the variance captured by earlier principal components). The further a weight is from zero, the more the principal component is in the direction of the corresponding feature. If two features have large weights of the same sign (both positive or both negative), then increases in one tend expect to be associated with increases in the other. To contrast, features with different signs can be expected to show a negative correlation: increases in one variable should result in a decrease in the other.\n",
    "\n",
    "- To investigate the features, you should map each weight to their corresponding feature name, then sort the features according to weight. The most interesting features for each principal component, then, will be those at the beginning and end of the sorted list. Use the data dictionary document to help you understand these most prominent features, their relationships, and what a positive or negative value on the principal component might indicate.\n",
    "- You should investigate and interpret feature associations from the first three principal components in this substep. To help facilitate this, you should write a function that you can call at any time to print the sorted list of feature weights, for the *i*-th principal component. This might come in handy in the next step of the project, when you interpret the tendencies of the discovered clusters."
   ]
  },
  {
   "cell_type": "code",
   "execution_count": 108,
   "metadata": {},
   "outputs": [
    {
     "name": "stdout",
     "output_type": "stream",
     "text": [
      "MOBI_REGIO                       -0.208568\n",
      "FINANZ_MINIMALIST                -0.203202\n",
      "KBA05_ANTG1                      -0.194476\n",
      "PLZ8_ANTG1                       -0.189746\n",
      "KBA05_GBZ                        -0.185387\n",
      "KONSUMNAEHE                      -0.141004\n",
      "PLZ8_GBZ                         -0.140240\n",
      "INNENSTADT                       -0.135413\n",
      "CAMEO_INTL_2015_status           -0.118809\n",
      "CAMEO_INTL_2015_household        -0.118809\n",
      "ALTERSKATEGORIE_GROB             -0.117637\n",
      "LP_STATUS_GROB_5.0               -0.115034\n",
      "FINANZ_VORSORGER                 -0.112581\n",
      "LP_STATUS_GROB_4.0               -0.112572\n",
      "BALLRAUM                         -0.103438\n",
      "GEBAEUDETYP_RASTER               -0.101932\n",
      "GREEN_AVANTGARDE                 -0.101545\n",
      "PRAEGENDE_JUGENDJAHRE_movement   -0.101402\n",
      "GEBAEUDETYP_1.0                  -0.092984\n",
      "FINANZTYP_2                      -0.092466\n",
      "ZABEOTYP_1                       -0.091959\n",
      "CAMEO_DEUG_2015_2                -0.083670\n",
      "SEMIO_LUST                       -0.081082\n",
      "SEMIO_ERL                        -0.076580\n",
      "ANZ_PERSONEN                     -0.075725\n",
      "NATIONALITAET_KZ_1.0             -0.071091\n",
      "CAMEO_DEUG_2015_4                -0.070077\n",
      "WOHNLAGE                         -0.067030\n",
      "CAMEO_DEUG_2015_3                -0.064910\n",
      "KBA13_ANZAHL_PKW                 -0.064705\n",
      "                                    ...   \n",
      "GEBAEUDETYP_3.0                   0.069430\n",
      "SEMIO_FAM                         0.071000\n",
      "FINANZ_ANLEGER                    0.071211\n",
      "LP_FAMILIE_GROB_1.0               0.074050\n",
      "SEMIO_MAT                         0.075702\n",
      "FINANZ_UNAUFFAELLIGER             0.079873\n",
      "CAMEO_DEUG_2015_8                 0.087718\n",
      "ZABEOTYP_5                        0.090714\n",
      "SEMIO_TRADV                       0.091014\n",
      "SEMIO_RAT                         0.091847\n",
      "SEMIO_REL                         0.103499\n",
      "PRAEGENDE_JUGENDJAHRE_decade      0.106592\n",
      "SEMIO_PFLICHT                     0.107867\n",
      "RELAT_AB                          0.109075\n",
      "CAMEO_DEUG_2015_9                 0.113468\n",
      "ARBEIT                            0.116012\n",
      "ANZ_HAUSHALTE_AKTIV               0.116564\n",
      "KBA05_ANTG3                       0.116687\n",
      "FINANZTYP_1                       0.126096\n",
      "PLZ8_ANTG2                        0.127030\n",
      "KBA05_ANTG4                       0.130593\n",
      "FINANZ_HAUSBAUER                  0.137239\n",
      "FINANZ_SPARER                     0.142012\n",
      "EWDICHTE                          0.161197\n",
      "ORTSGR_KLS9                       0.163457\n",
      "HH_EINKOMMEN_SCORE                0.180465\n",
      "PLZ8_BAUMAX                       0.181361\n",
      "PLZ8_ANTG4                        0.184755\n",
      "PLZ8_ANTG3                        0.188923\n",
      "LP_STATUS_GROB_1.0                0.195294\n",
      "Name: 0, Length: 130, dtype: float64\n"
     ]
    }
   ],
   "source": [
    "# Map weights for the first principal component to corresponding feature names\n",
    "# and then print the linked values, sorted by weight.\n",
    "# HINT: Try defining a function here or in a new cell that you can reuse in the\n",
    "# other cells.\n",
    "\n",
    "# function to print the sorted list of feature weights, for the i-th principal component\n",
    "def map_weights(i):\n",
    "    \n",
    "    weights = pd.DataFrame(pca.components_,columns=azdias_clean_imputed_scaled.columns)\n",
    "    return weights.iloc[i].sort_values()\n",
    "\n",
    "# print the sorted list of feature weights, for the first principal component\n",
    "print(map_weights(0))\n"
   ]
  },
  {
   "cell_type": "markdown",
   "metadata": {},
   "source": [
    "the first componet is most aligned with MOBI_REGIO (Movement patterns) since it has the highest absolute value.\n",
    "\n",
    "Since the two features **MOBI_REGIO** and **FINANZ_MINIMALIST** (low financial interest) and the two factors **LP_STATUS_GROB_1.0** (Social status) and **PLZ8_ANTG3** (Number of 6-10 family houses in the PLZ8 region) have large weights of the same sign (both positive or both negative), then increases in one tend expect to be associated with increases in the other. \n",
    "This would acutally sense because: the lower interest in finance (represented through a higher value),the lower the movement (represented through a higher value). one might think that people are interested in making money are more likely to move for ex. for a better paid job.\n",
    "the same is true for the other two variables: The higher the social status, the higher the number of family houses in the area.\n",
    "\n",
    "To contrast, features with different signs can be expected to show a negative correlation: for example, the increase in MOBI_REGIO (=the lower the movement; represented through a higher value) decreases the social status(LP_STATUS_GROB_1.0)"
   ]
  },
  {
   "cell_type": "code",
   "execution_count": 109,
   "metadata": {},
   "outputs": [
    {
     "name": "stdout",
     "output_type": "stream",
     "text": [
      "PRAEGENDE_JUGENDJAHRE_decade   -0.226038\n",
      "SEMIO_REL                      -0.215640\n",
      "FINANZ_SPARER                  -0.211475\n",
      "FINANZ_UNAUFFAELLIGER          -0.206988\n",
      "SEMIO_TRADV                    -0.203185\n",
      "SEMIO_PFLICHT                  -0.200687\n",
      "FINANZ_ANLEGER                 -0.193727\n",
      "SEMIO_KULT                     -0.174224\n",
      "ONLINE_AFFINITAET              -0.165169\n",
      "SEMIO_RAT                      -0.155391\n",
      "SEMIO_FAM                      -0.138012\n",
      "SEMIO_MAT                      -0.127150\n",
      "FINANZTYP_1                    -0.114877\n",
      "ZABEOTYP_4                     -0.099936\n",
      "MOBI_REGIO                     -0.097584\n",
      "PLZ8_ANTG1                     -0.096667\n",
      "KBA05_GBZ                      -0.094469\n",
      "FINANZTYP_4                    -0.092985\n",
      "KBA05_ANTG1                    -0.087637\n",
      "ZABEOTYP_5                     -0.083366\n",
      "FINANZTYP_3                    -0.080996\n",
      "ZABEOTYP_1                     -0.077000\n",
      "PLZ8_GBZ                       -0.075260\n",
      "INNENSTADT                     -0.075095\n",
      "KONSUMNAEHE                    -0.072700\n",
      "SEMIO_SOZ                      -0.071428\n",
      "GFK_URLAUBERTYP_9.0            -0.070493\n",
      "ANZ_PERSONEN                   -0.070479\n",
      "LP_FAMILIE_GROB_4.0            -0.064422\n",
      "SHOPPER_TYP_0.0                -0.060954\n",
      "                                  ...   \n",
      "NATIONALITAET_KZ_1.0            0.056472\n",
      "HH_EINKOMMEN_SCORE              0.059253\n",
      "FINANZTYP_6                     0.059953\n",
      "GFK_URLAUBERTYP_4.0             0.060514\n",
      "LP_FAMILIE_GROB_1.0             0.062556\n",
      "RELAT_AB                        0.063999\n",
      "ANZ_HAUSHALTE_AKTIV             0.064193\n",
      "PLZ8_ANTG2                      0.066195\n",
      "CJT_GESAMTTYP_1.0               0.067563\n",
      "ARBEIT                          0.068102\n",
      "KBA05_ANTG4                     0.072667\n",
      "SEMIO_KAEM                      0.077591\n",
      "SHOPPER_TYP_3.0                 0.077611\n",
      "FINANZTYP_2                     0.078143\n",
      "PLZ8_BAUMAX                     0.089983\n",
      "SEMIO_KRIT                      0.090529\n",
      "ORTSGR_KLS9                     0.092398\n",
      "EWDICHTE                        0.092693\n",
      "PLZ8_ANTG4                      0.094497\n",
      "FINANZTYP_5                     0.095515\n",
      "PLZ8_ANTG3                      0.098029\n",
      "CJT_GESAMTTYP_2.0               0.101525\n",
      "FINANZ_HAUSBAUER                0.112692\n",
      "W_KEIT_KIND_HH                  0.123337\n",
      "RETOURTYP_BK_S                  0.156663\n",
      "SEMIO_LUST                      0.158096\n",
      "SEMIO_ERL                       0.186354\n",
      "ZABEOTYP_3                      0.201927\n",
      "FINANZ_VORSORGER                0.207328\n",
      "ALTERSKATEGORIE_GROB            0.222982\n",
      "Name: 1, Length: 130, dtype: float64\n"
     ]
    }
   ],
   "source": [
    "# Map weights for the second principal component to corresponding feature names\n",
    "# and then print the linked values, sorted by weight.\n",
    "\n",
    "# print the sorted list of feature weights, for the first principal component\n",
    "print(map_weights(1))\n"
   ]
  },
  {
   "cell_type": "markdown",
   "metadata": {},
   "source": [
    "The second componet is most aligned with PRAEGENDE_JUGENDJAHRE_decade (the decade of the youth, 40s-90s) since it has the highest absolute value\n",
    "\n",
    "Since the two features **PRAEGENDE_JUGENDJAHRE_decade** and **SEMIO_REL** (religious, higher value represent low interest in religion) and the two factors **FINANZ_VORSORGER** (be prepared, higher value represent low interest) and **ALTERSKATEGORIE_GROB** (Estimated age based on given name analysis, < 30 years old - > 60 years old) have large weights of the same sign (both positive or both negative), then increases in one tend expect to be associated with increases in the other. \n",
    "This would acutally sense because: the lower interest in being prepared financially (represented through a higher value), the older the person is. Older people dont need to save money for childrens education, buying a house..\n",
    "\n",
    "the same is true for the other two variables: The younger (higher) the decade you grew up in, the less religous this person is (higher value represent low interest in religion\n",
    "\n",
    "To contrast, features with different signs can be expected to show a negative correlation: for example, the increase in age (ALTERSKATEGORIE_GROB), decreases the decade you grew up in (the decade of the youth, 40s-90s)\n"
   ]
  },
  {
   "cell_type": "code",
   "execution_count": 110,
   "metadata": {},
   "outputs": [
    {
     "name": "stdout",
     "output_type": "stream",
     "text": [
      "ANREDE_KZ                        -0.350711\n",
      "SEMIO_KAEM                       -0.322449\n",
      "SEMIO_DOM                        -0.291430\n",
      "SEMIO_KRIT                       -0.263587\n",
      "SEMIO_ERL                        -0.194757\n",
      "SEMIO_RAT                        -0.172087\n",
      "FINANZ_ANLEGER                   -0.161280\n",
      "FINANZTYP_1                      -0.107655\n",
      "SHOPPER_TYP_2.0                  -0.104734\n",
      "ZABEOTYP_4                       -0.070261\n",
      "PRAEGENDE_JUGENDJAHRE_decade     -0.070164\n",
      "FINANZ_SPARER                    -0.068516\n",
      "FINANZ_UNAUFFAELLIGER            -0.058270\n",
      "FINANZ_HAUSBAUER                 -0.055094\n",
      "LP_FAMILIE_GROB_3.0              -0.051883\n",
      "INNENSTADT                       -0.051012\n",
      "SHOPPER_TYP_3.0                  -0.045541\n",
      "PLZ8_ANTG1                       -0.045402\n",
      "KONSUMNAEHE                      -0.044991\n",
      "BALLRAUM                         -0.044605\n",
      "SEMIO_TRADV                      -0.040409\n",
      "SEMIO_PFLICHT                    -0.039295\n",
      "GEBAEUDETYP_RASTER               -0.038243\n",
      "HH_EINKOMMEN_SCORE               -0.035643\n",
      "ZABEOTYP_5                       -0.035487\n",
      "PLZ8_GBZ                         -0.034791\n",
      "NATIONALITAET_KZ_3.0             -0.034711\n",
      "WOHNLAGE                         -0.034198\n",
      "KKK                              -0.033651\n",
      "ONLINE_AFFINITAET                -0.033290\n",
      "                                    ...   \n",
      "GEBAEUDETYP_3.0                   0.028777\n",
      "ARBEIT                            0.030649\n",
      "RELAT_AB                          0.031494\n",
      "GFK_URLAUBERTYP_4.0               0.032501\n",
      "PLZ8_ANTG2                        0.032915\n",
      "ALTERSKATEGORIE_GROB              0.037344\n",
      "SEMIO_LUST                        0.040824\n",
      "SHOPPER_TYP_1.0                   0.043469\n",
      "LP_STATUS_GROB_5.0                0.045072\n",
      "PLZ8_ANTG3                        0.046530\n",
      "PLZ8_ANTG4                        0.047584\n",
      "PLZ8_BAUMAX                       0.050511\n",
      "ZABEOTYP_6                        0.050589\n",
      "ORTSGR_KLS9                       0.056573\n",
      "EWDICHTE                          0.056810\n",
      "FINANZ_VORSORGER                  0.064304\n",
      "GREEN_AVANTGARDE                  0.065577\n",
      "PRAEGENDE_JUGENDJAHRE_movement    0.065826\n",
      "SEMIO_MAT                         0.075802\n",
      "W_KEIT_KIND_HH                    0.077114\n",
      "RETOURTYP_BK_S                    0.092189\n",
      "SEMIO_REL                         0.106890\n",
      "ZABEOTYP_1                        0.113484\n",
      "SHOPPER_TYP_0.0                   0.126905\n",
      "FINANZ_MINIMALIST                 0.137848\n",
      "FINANZTYP_5                       0.140736\n",
      "SEMIO_KULT                        0.241551\n",
      "SEMIO_FAM                         0.256666\n",
      "SEMIO_SOZ                         0.258087\n",
      "SEMIO_VERT                        0.327119\n",
      "Name: 2, Length: 130, dtype: float64\n"
     ]
    }
   ],
   "source": [
    "# Map weights for the third principal component to corresponding feature names\n",
    "# and then print the linked values, sorted by weight.\n",
    "\n",
    "# print the sorted list of feature weights, for the first principal component\n",
    "print(map_weights(2))\n"
   ]
  },
  {
   "cell_type": "markdown",
   "metadata": {},
   "source": [
    "the third componet is most aligned with ANREDE_KZ (Gender) since it has the highest absolute value\n",
    "\n",
    "Since the two features **SEMIO_SOZ** (SOZ: socially-minded) and **SEMIO_VERT** (family-minded) and the two factors **ANREDE_KZ** (gender, 1: male; 2: female) and **SEMIO_KAEM** (combative attitude) have large weights of the same sign (both positive or both negative), then increases in one tend expect to be associated with increases in the other. \n",
    "This would acutally sense because: the lower the affinity to being socially-minded (represented through a higher value), the lower the affinity to in being family-minded (represented through a higher value)\n",
    "\n",
    "the same is true for the other two variables: the higher the number (female), the less combative this person is (higher value represent low affinity). Women tend to be less combative then men. \n",
    "\n",
    "To contrast, features with different signs can be expected to show a negative correlation: for example, the increase in being combative (SEMIO_KEAM, the higher the value, the less combative ), decreases the feature SEMIO_SOZ (which means your affinity for being socially minded increases)"
   ]
  },
  {
   "cell_type": "markdown",
   "metadata": {},
   "source": [
    "### Discussion 2.3: Interpret Principal Components\n",
    "\n",
    "we can see from the values with features the components are most aligned with:\n",
    "the first component is most aligned with MOBI_REGIO (Movement patterns), the second component is most aligned with PRAEGENDE_JUGENDJAHRE_decade (the decade of the youth) and the third with ANREDE_KZ (Gender) since they have the highest absolute value.\n",
    "\n",
    "Furthermore, we cansee correct correlations when look at the values of the componetns. \n",
    "A more detailed analysis (see above under each list) showed that the correlation makes sense. "
   ]
  },
  {
   "cell_type": "markdown",
   "metadata": {},
   "source": [
    "## Step 3: Clustering\n",
    "\n",
    "### Step 3.1: Apply Clustering to General Population\n",
    "\n",
    "You've assessed and cleaned the demographics data, then scaled and transformed them. Now, it's time to see how the data clusters in the principal components space. In this substep, you will apply k-means clustering to the dataset and use the average within-cluster distances from each point to their assigned cluster's centroid to decide on a number of clusters to keep.\n",
    "\n",
    "- Use sklearn's [KMeans](http://scikit-learn.org/stable/modules/generated/sklearn.cluster.KMeans.html#sklearn.cluster.KMeans) class to perform k-means clustering on the PCA-transformed data.\n",
    "- Then, compute the average difference from each point to its assigned cluster's center. **Hint**: The KMeans object's `.score()` method might be useful here, but note that in sklearn, scores tend to be defined so that larger is better. Try applying it to a small, toy dataset, or use an internet search to help your understanding.\n",
    "- Perform the above two steps for a number of different cluster counts. You can then see how the average distance decreases with an increasing number of clusters. However, each additional cluster provides a smaller net benefit. Use this fact to select a final number of clusters in which to group the data. **Warning**: because of the large size of the dataset, it can take a long time for the algorithm to resolve. The more clusters to fit, the longer the algorithm will take. You should test for cluster counts through at least 10 clusters to get the full picture, but you shouldn't need to test for a number of clusters above about 30.\n",
    "- Once you've selected a final number of clusters to use, re-fit a KMeans instance to perform the clustering operation. Make sure that you also obtain the cluster assignments for the general demographics data, since you'll be using them in the final Step 3.3."
   ]
  },
  {
   "cell_type": "code",
   "execution_count": 111,
   "metadata": {},
   "outputs": [],
   "source": [
    "# Over a number of different cluster counts...\n",
    "def k_means(cluster):\n",
    "    k_means = KMeans(n_clusters=cluster) \n",
    "\n",
    "    # run k-means clustering on the data and...\n",
    "    model = k_means.fit(azdias_clean_imputed_scaled_pca)\n",
    "    \n",
    "    # compute the average within-cluster distances.\n",
    "    avg_distance =  np.abs(model.score(azdias_clean_imputed_scaled_pca))\n",
    "    \n",
    "    return avg_distance \n",
    "    "
   ]
  },
  {
   "cell_type": "code",
   "execution_count": 112,
   "metadata": {},
   "outputs": [],
   "source": [
    "# Investigate the change in within-cluster distance across 20 clusters.\n",
    "\n",
    "avg_distance = []\n",
    "cluster = range(1,21,1)\n",
    "for i in cluster:\n",
    "    avg_distance.append(k_means(i))"
   ]
  },
  {
   "cell_type": "code",
   "execution_count": 113,
   "metadata": {},
   "outputs": [
    {
     "data": {
      "image/png": "[encoded data removed]",
      "text/plain": [
       "<matplotlib.figure.Figure at 0x7f9e70170748>"
      ]
     },
     "metadata": {
      "needs_background": "light"
     },
     "output_type": "display_data"
    }
   ],
   "source": [
    "# plotting a scree plot (Elbow Method\n",
    "#at some point, adding new clusters will no longer create a substantial decrease in the average distance\n",
    "\n",
    "plt.plot(cluster, avg_distance, linestyle='--', marker='o', color='b');\n",
    "plt.title('Scree plot')\n",
    "plt.xlabel('Cluster')\n",
    "plt.xticks(cluster)\n",
    "plt.ylabel('avg. Distance (Score)');"
   ]
  },
  {
   "cell_type": "markdown",
   "metadata": {},
   "source": [
    "At cluster 17, adding new clusters will no longer create a substantial decrease in the average distance."
   ]
  },
  {
   "cell_type": "code",
   "execution_count": 110,
   "metadata": {},
   "outputs": [],
   "source": [
    "# Re-fit the k-means model with 17 clusters and obtain\n",
    "# clusteaar predictions for the general population demographics data.\n",
    "\n",
    "#instiate the model\n",
    "k_means = KMeans(n_clusters=17) \n",
    "# fit the model and predict cluster labels\n",
    "predict_labels_azdias = k_means.fit_predict(azdias_clean_imputed_scaled_pca)"
   ]
  },
  {
   "cell_type": "markdown",
   "metadata": {},
   "source": [
    "### Discussion 3.1: Apply Clustering to General Population\n",
    "\n",
    "(Double-click this cell and replace this text with your own text, reporting your findings and decisions regarding clustering. Into how many clusters have you decided to segment the population?)"
   ]
  },
  {
   "cell_type": "markdown",
   "metadata": {},
   "source": [
    "### Step 3.2: Apply All Steps to the Customer Data\n",
    "\n",
    "Now that you have clusters and cluster centers for the general population, it's time to see how the customer data maps on to those clusters. Take care to not confuse this for re-fitting all of the models to the customer data. Instead, you're going to use the fits from the general population to clean, transform, and cluster the customer data. In the last step of the project, you will interpret how the general population fits apply to the customer data.\n",
    "\n",
    "- Don't forget when loading in the customers data, that it is semicolon (`;`) delimited.\n",
    "- Apply the same feature wrangling, selection, and engineering steps to the customer demographics using the `clean_data()` function you created earlier. (You can assume that the customer demographics data has similar meaning behind missing data patterns as the general demographics data.)\n",
    "- Use the sklearn objects from the general demographics data, and apply their transformations to the customers data. That is, you should not be using a `.fit()` or `.fit_transform()` method to re-fit the old objects, nor should you be creating new sklearn objects! Carry the data through the feature scaling, PCA, and clustering steps, obtaining cluster assignments for all of the data in the customer demographics data."
   ]
  },
  {
   "cell_type": "code",
   "execution_count": 111,
   "metadata": {},
   "outputs": [
    {
     "data": {
      "text/html": [
       "<div>\n",
       "<style scoped>\n",
       "    .dataframe tbody tr th:only-of-type {\n",
       "        vertical-align: middle;\n",
       "    }\n",
       "\n",
       "    .dataframe tbody tr th {\n",
       "        vertical-align: top;\n",
       "    }\n",
       "\n",
       "    .dataframe thead th {\n",
       "        text-align: right;\n",
       "    }\n",
       "</style>\n",
       "<table border=\"1\" class=\"dataframe\">\n",
       "  <thead>\n",
       "    <tr style=\"text-align: right;\">\n",
       "      <th></th>\n",
       "      <th>AGER_TYP</th>\n",
       "      <th>ALTERSKATEGORIE_GROB</th>\n",
       "      <th>ANREDE_KZ</th>\n",
       "      <th>CJT_GESAMTTYP</th>\n",
       "      <th>FINANZ_MINIMALIST</th>\n",
       "      <th>FINANZ_SPARER</th>\n",
       "      <th>FINANZ_VORSORGER</th>\n",
       "      <th>FINANZ_ANLEGER</th>\n",
       "      <th>FINANZ_UNAUFFAELLIGER</th>\n",
       "      <th>FINANZ_HAUSBAUER</th>\n",
       "      <th>...</th>\n",
       "      <th>PLZ8_ANTG1</th>\n",
       "      <th>PLZ8_ANTG2</th>\n",
       "      <th>PLZ8_ANTG3</th>\n",
       "      <th>PLZ8_ANTG4</th>\n",
       "      <th>PLZ8_BAUMAX</th>\n",
       "      <th>PLZ8_HHZ</th>\n",
       "      <th>PLZ8_GBZ</th>\n",
       "      <th>ARBEIT</th>\n",
       "      <th>ORTSGR_KLS9</th>\n",
       "      <th>RELAT_AB</th>\n",
       "    </tr>\n",
       "  </thead>\n",
       "  <tbody>\n",
       "    <tr>\n",
       "      <th>0</th>\n",
       "      <td>2</td>\n",
       "      <td>4</td>\n",
       "      <td>1</td>\n",
       "      <td>5.0</td>\n",
       "      <td>5</td>\n",
       "      <td>1</td>\n",
       "      <td>5</td>\n",
       "      <td>1</td>\n",
       "      <td>2</td>\n",
       "      <td>2</td>\n",
       "      <td>...</td>\n",
       "      <td>3.0</td>\n",
       "      <td>3.0</td>\n",
       "      <td>1.0</td>\n",
       "      <td>0.0</td>\n",
       "      <td>1.0</td>\n",
       "      <td>5.0</td>\n",
       "      <td>5.0</td>\n",
       "      <td>1.0</td>\n",
       "      <td>2.0</td>\n",
       "      <td>1.0</td>\n",
       "    </tr>\n",
       "    <tr>\n",
       "      <th>1</th>\n",
       "      <td>-1</td>\n",
       "      <td>4</td>\n",
       "      <td>1</td>\n",
       "      <td>NaN</td>\n",
       "      <td>5</td>\n",
       "      <td>1</td>\n",
       "      <td>5</td>\n",
       "      <td>1</td>\n",
       "      <td>3</td>\n",
       "      <td>2</td>\n",
       "      <td>...</td>\n",
       "      <td>NaN</td>\n",
       "      <td>NaN</td>\n",
       "      <td>NaN</td>\n",
       "      <td>NaN</td>\n",
       "      <td>NaN</td>\n",
       "      <td>NaN</td>\n",
       "      <td>NaN</td>\n",
       "      <td>NaN</td>\n",
       "      <td>NaN</td>\n",
       "      <td>NaN</td>\n",
       "    </tr>\n",
       "    <tr>\n",
       "      <th>2</th>\n",
       "      <td>-1</td>\n",
       "      <td>4</td>\n",
       "      <td>2</td>\n",
       "      <td>2.0</td>\n",
       "      <td>5</td>\n",
       "      <td>1</td>\n",
       "      <td>5</td>\n",
       "      <td>1</td>\n",
       "      <td>4</td>\n",
       "      <td>4</td>\n",
       "      <td>...</td>\n",
       "      <td>2.0</td>\n",
       "      <td>3.0</td>\n",
       "      <td>3.0</td>\n",
       "      <td>1.0</td>\n",
       "      <td>3.0</td>\n",
       "      <td>3.0</td>\n",
       "      <td>2.0</td>\n",
       "      <td>3.0</td>\n",
       "      <td>5.0</td>\n",
       "      <td>3.0</td>\n",
       "    </tr>\n",
       "    <tr>\n",
       "      <th>3</th>\n",
       "      <td>1</td>\n",
       "      <td>4</td>\n",
       "      <td>1</td>\n",
       "      <td>2.0</td>\n",
       "      <td>5</td>\n",
       "      <td>1</td>\n",
       "      <td>5</td>\n",
       "      <td>2</td>\n",
       "      <td>1</td>\n",
       "      <td>2</td>\n",
       "      <td>...</td>\n",
       "      <td>3.0</td>\n",
       "      <td>2.0</td>\n",
       "      <td>1.0</td>\n",
       "      <td>0.0</td>\n",
       "      <td>1.0</td>\n",
       "      <td>3.0</td>\n",
       "      <td>4.0</td>\n",
       "      <td>1.0</td>\n",
       "      <td>3.0</td>\n",
       "      <td>1.0</td>\n",
       "    </tr>\n",
       "    <tr>\n",
       "      <th>4</th>\n",
       "      <td>-1</td>\n",
       "      <td>3</td>\n",
       "      <td>1</td>\n",
       "      <td>6.0</td>\n",
       "      <td>3</td>\n",
       "      <td>1</td>\n",
       "      <td>4</td>\n",
       "      <td>4</td>\n",
       "      <td>5</td>\n",
       "      <td>2</td>\n",
       "      <td>...</td>\n",
       "      <td>2.0</td>\n",
       "      <td>4.0</td>\n",
       "      <td>2.0</td>\n",
       "      <td>1.0</td>\n",
       "      <td>2.0</td>\n",
       "      <td>3.0</td>\n",
       "      <td>3.0</td>\n",
       "      <td>3.0</td>\n",
       "      <td>5.0</td>\n",
       "      <td>1.0</td>\n",
       "    </tr>\n",
       "  </tbody>\n",
       "</table>\n",
       "<p>5 rows × 85 columns</p>\n",
       "</div>"
      ],
      "text/plain": [
       "   AGER_TYP  ALTERSKATEGORIE_GROB  ANREDE_KZ  CJT_GESAMTTYP  \\\n",
       "0         2                     4          1            5.0   \n",
       "1        -1                     4          1            NaN   \n",
       "2        -1                     4          2            2.0   \n",
       "3         1                     4          1            2.0   \n",
       "4        -1                     3          1            6.0   \n",
       "\n",
       "   FINANZ_MINIMALIST  FINANZ_SPARER  FINANZ_VORSORGER  FINANZ_ANLEGER  \\\n",
       "0                  5              1                 5               1   \n",
       "1                  5              1                 5               1   \n",
       "2                  5              1                 5               1   \n",
       "3                  5              1                 5               2   \n",
       "4                  3              1                 4               4   \n",
       "\n",
       "   FINANZ_UNAUFFAELLIGER  FINANZ_HAUSBAUER    ...     PLZ8_ANTG1  PLZ8_ANTG2  \\\n",
       "0                      2                 2    ...            3.0         3.0   \n",
       "1                      3                 2    ...            NaN         NaN   \n",
       "2                      4                 4    ...            2.0         3.0   \n",
       "3                      1                 2    ...            3.0         2.0   \n",
       "4                      5                 2    ...            2.0         4.0   \n",
       "\n",
       "   PLZ8_ANTG3  PLZ8_ANTG4  PLZ8_BAUMAX  PLZ8_HHZ  PLZ8_GBZ  ARBEIT  \\\n",
       "0         1.0         0.0          1.0       5.0       5.0     1.0   \n",
       "1         NaN         NaN          NaN       NaN       NaN     NaN   \n",
       "2         3.0         1.0          3.0       3.0       2.0     3.0   \n",
       "3         1.0         0.0          1.0       3.0       4.0     1.0   \n",
       "4         2.0         1.0          2.0       3.0       3.0     3.0   \n",
       "\n",
       "   ORTSGR_KLS9  RELAT_AB  \n",
       "0          2.0       1.0  \n",
       "1          NaN       NaN  \n",
       "2          5.0       3.0  \n",
       "3          3.0       1.0  \n",
       "4          5.0       1.0  \n",
       "\n",
       "[5 rows x 85 columns]"
      ]
     },
     "execution_count": 111,
     "metadata": {},
     "output_type": "execute_result"
    }
   ],
   "source": [
    "# Load in the customer demographics data.\n",
    "customers = azdias = pd.read_csv('Udacity_CUSTOMERS_Subset.csv', sep=';')\n",
    "customers.head()\n"
   ]
  },
  {
   "cell_type": "code",
   "execution_count": 133,
   "metadata": {},
   "outputs": [
    {
     "name": "stderr",
     "output_type": "stream",
     "text": [
      "/opt/conda/lib/python3.6/site-packages/ipykernel_launcher.py:36: SettingWithCopyWarning: \n",
      "A value is trying to be set on a copy of a slice from a DataFrame.\n",
      "Try using .loc[row_indexer,col_indexer] = value instead\n",
      "\n",
      "See the caveats in the documentation: http://pandas.pydata.org/pandas-docs/stable/indexing.html#indexing-view-versus-copy\n"
     ]
    }
   ],
   "source": [
    "#apply the same feature wrangling, selection, and engineering steps to the customer demographics\n",
    "#using the clean_data()\n",
    "customers_clean, customers_over_mean = clean_data(customers)"
   ]
  },
  {
   "cell_type": "code",
   "execution_count": 121,
   "metadata": {},
   "outputs": [
    {
     "name": "stdout",
     "output_type": "stream",
     "text": [
      "(139424, 130)\n"
     ]
    },
    {
     "data": {
      "text/html": [
       "<div>\n",
       "<style scoped>\n",
       "    .dataframe tbody tr th:only-of-type {\n",
       "        vertical-align: middle;\n",
       "    }\n",
       "\n",
       "    .dataframe tbody tr th {\n",
       "        vertical-align: top;\n",
       "    }\n",
       "\n",
       "    .dataframe thead th {\n",
       "        text-align: right;\n",
       "    }\n",
       "</style>\n",
       "<table border=\"1\" class=\"dataframe\">\n",
       "  <thead>\n",
       "    <tr style=\"text-align: right;\">\n",
       "      <th></th>\n",
       "      <th>ALTERSKATEGORIE_GROB</th>\n",
       "      <th>ANREDE_KZ</th>\n",
       "      <th>FINANZ_MINIMALIST</th>\n",
       "      <th>FINANZ_SPARER</th>\n",
       "      <th>FINANZ_VORSORGER</th>\n",
       "      <th>FINANZ_ANLEGER</th>\n",
       "      <th>FINANZ_UNAUFFAELLIGER</th>\n",
       "      <th>FINANZ_HAUSBAUER</th>\n",
       "      <th>GREEN_AVANTGARDE</th>\n",
       "      <th>HEALTH_TYP</th>\n",
       "      <th>...</th>\n",
       "      <th>CAMEO_DEUG_2015_4</th>\n",
       "      <th>CAMEO_DEUG_2015_5</th>\n",
       "      <th>CAMEO_DEUG_2015_6</th>\n",
       "      <th>CAMEO_DEUG_2015_7</th>\n",
       "      <th>CAMEO_DEUG_2015_8</th>\n",
       "      <th>CAMEO_DEUG_2015_9</th>\n",
       "      <th>CAMEO_INTL_2015_household</th>\n",
       "      <th>CAMEO_INTL_2015_status</th>\n",
       "      <th>PRAEGENDE_JUGENDJAHRE_decade</th>\n",
       "      <th>PRAEGENDE_JUGENDJAHRE_movement</th>\n",
       "    </tr>\n",
       "  </thead>\n",
       "  <tbody>\n",
       "    <tr>\n",
       "      <th>0</th>\n",
       "      <td>4.0</td>\n",
       "      <td>1</td>\n",
       "      <td>5</td>\n",
       "      <td>1</td>\n",
       "      <td>5</td>\n",
       "      <td>1</td>\n",
       "      <td>2</td>\n",
       "      <td>2</td>\n",
       "      <td>1</td>\n",
       "      <td>1.0</td>\n",
       "      <td>...</td>\n",
       "      <td>0</td>\n",
       "      <td>0</td>\n",
       "      <td>0</td>\n",
       "      <td>0</td>\n",
       "      <td>0</td>\n",
       "      <td>0</td>\n",
       "      <td>3.0</td>\n",
       "      <td>3.0</td>\n",
       "      <td>2.0</td>\n",
       "      <td>1.0</td>\n",
       "    </tr>\n",
       "    <tr>\n",
       "      <th>2</th>\n",
       "      <td>4.0</td>\n",
       "      <td>2</td>\n",
       "      <td>5</td>\n",
       "      <td>1</td>\n",
       "      <td>5</td>\n",
       "      <td>1</td>\n",
       "      <td>4</td>\n",
       "      <td>4</td>\n",
       "      <td>1</td>\n",
       "      <td>2.0</td>\n",
       "      <td>...</td>\n",
       "      <td>0</td>\n",
       "      <td>1</td>\n",
       "      <td>0</td>\n",
       "      <td>0</td>\n",
       "      <td>0</td>\n",
       "      <td>0</td>\n",
       "      <td>4.0</td>\n",
       "      <td>4.0</td>\n",
       "      <td>2.0</td>\n",
       "      <td>1.0</td>\n",
       "    </tr>\n",
       "    <tr>\n",
       "      <th>3</th>\n",
       "      <td>4.0</td>\n",
       "      <td>1</td>\n",
       "      <td>5</td>\n",
       "      <td>1</td>\n",
       "      <td>5</td>\n",
       "      <td>2</td>\n",
       "      <td>1</td>\n",
       "      <td>2</td>\n",
       "      <td>0</td>\n",
       "      <td>2.0</td>\n",
       "      <td>...</td>\n",
       "      <td>1</td>\n",
       "      <td>0</td>\n",
       "      <td>0</td>\n",
       "      <td>0</td>\n",
       "      <td>0</td>\n",
       "      <td>0</td>\n",
       "      <td>4.0</td>\n",
       "      <td>4.0</td>\n",
       "      <td>1.0</td>\n",
       "      <td>0.0</td>\n",
       "    </tr>\n",
       "    <tr>\n",
       "      <th>4</th>\n",
       "      <td>3.0</td>\n",
       "      <td>1</td>\n",
       "      <td>3</td>\n",
       "      <td>1</td>\n",
       "      <td>4</td>\n",
       "      <td>4</td>\n",
       "      <td>5</td>\n",
       "      <td>2</td>\n",
       "      <td>0</td>\n",
       "      <td>3.0</td>\n",
       "      <td>...</td>\n",
       "      <td>0</td>\n",
       "      <td>0</td>\n",
       "      <td>0</td>\n",
       "      <td>1</td>\n",
       "      <td>0</td>\n",
       "      <td>0</td>\n",
       "      <td>1.0</td>\n",
       "      <td>1.0</td>\n",
       "      <td>4.0</td>\n",
       "      <td>0.0</td>\n",
       "    </tr>\n",
       "    <tr>\n",
       "      <th>5</th>\n",
       "      <td>3.0</td>\n",
       "      <td>1</td>\n",
       "      <td>5</td>\n",
       "      <td>1</td>\n",
       "      <td>5</td>\n",
       "      <td>1</td>\n",
       "      <td>2</td>\n",
       "      <td>3</td>\n",
       "      <td>1</td>\n",
       "      <td>3.0</td>\n",
       "      <td>...</td>\n",
       "      <td>0</td>\n",
       "      <td>1</td>\n",
       "      <td>0</td>\n",
       "      <td>0</td>\n",
       "      <td>0</td>\n",
       "      <td>0</td>\n",
       "      <td>4.0</td>\n",
       "      <td>4.0</td>\n",
       "      <td>2.0</td>\n",
       "      <td>1.0</td>\n",
       "    </tr>\n",
       "  </tbody>\n",
       "</table>\n",
       "<p>5 rows × 130 columns</p>\n",
       "</div>"
      ],
      "text/plain": [
       "   ALTERSKATEGORIE_GROB  ANREDE_KZ  FINANZ_MINIMALIST  FINANZ_SPARER  \\\n",
       "0                   4.0          1                  5              1   \n",
       "2                   4.0          2                  5              1   \n",
       "3                   4.0          1                  5              1   \n",
       "4                   3.0          1                  3              1   \n",
       "5                   3.0          1                  5              1   \n",
       "\n",
       "   FINANZ_VORSORGER  FINANZ_ANLEGER  FINANZ_UNAUFFAELLIGER  FINANZ_HAUSBAUER  \\\n",
       "0                 5               1                      2                 2   \n",
       "2                 5               1                      4                 4   \n",
       "3                 5               2                      1                 2   \n",
       "4                 4               4                      5                 2   \n",
       "5                 5               1                      2                 3   \n",
       "\n",
       "   GREEN_AVANTGARDE  HEALTH_TYP               ...                \\\n",
       "0                 1         1.0               ...                 \n",
       "2                 1         2.0               ...                 \n",
       "3                 0         2.0               ...                 \n",
       "4                 0         3.0               ...                 \n",
       "5                 1         3.0               ...                 \n",
       "\n",
       "   CAMEO_DEUG_2015_4  CAMEO_DEUG_2015_5  CAMEO_DEUG_2015_6  CAMEO_DEUG_2015_7  \\\n",
       "0                  0                  0                  0                  0   \n",
       "2                  0                  1                  0                  0   \n",
       "3                  1                  0                  0                  0   \n",
       "4                  0                  0                  0                  1   \n",
       "5                  0                  1                  0                  0   \n",
       "\n",
       "   CAMEO_DEUG_2015_8  CAMEO_DEUG_2015_9  CAMEO_INTL_2015_household  \\\n",
       "0                  0                  0                        3.0   \n",
       "2                  0                  0                        4.0   \n",
       "3                  0                  0                        4.0   \n",
       "4                  0                  0                        1.0   \n",
       "5                  0                  0                        4.0   \n",
       "\n",
       "   CAMEO_INTL_2015_status  PRAEGENDE_JUGENDJAHRE_decade  \\\n",
       "0                     3.0                           2.0   \n",
       "2                     4.0                           2.0   \n",
       "3                     4.0                           1.0   \n",
       "4                     1.0                           4.0   \n",
       "5                     4.0                           2.0   \n",
       "\n",
       "   PRAEGENDE_JUGENDJAHRE_movement  \n",
       "0                             1.0  \n",
       "2                             1.0  \n",
       "3                             0.0  \n",
       "4                             0.0  \n",
       "5                             1.0  \n",
       "\n",
       "[5 rows x 130 columns]"
      ]
     },
     "execution_count": 121,
     "metadata": {},
     "output_type": "execute_result"
    }
   ],
   "source": [
    "print(customers_clean.shape)\n",
    "customers_clean.head()"
   ]
  },
  {
   "cell_type": "code",
   "execution_count": 114,
   "metadata": {},
   "outputs": [
    {
     "data": {
      "text/html": [
       "<div>\n",
       "<style scoped>\n",
       "    .dataframe tbody tr th:only-of-type {\n",
       "        vertical-align: middle;\n",
       "    }\n",
       "\n",
       "    .dataframe tbody tr th {\n",
       "        vertical-align: top;\n",
       "    }\n",
       "\n",
       "    .dataframe thead th {\n",
       "        text-align: right;\n",
       "    }\n",
       "</style>\n",
       "<table border=\"1\" class=\"dataframe\">\n",
       "  <thead>\n",
       "    <tr style=\"text-align: right;\">\n",
       "      <th></th>\n",
       "      <th>ALTERSKATEGORIE_GROB</th>\n",
       "      <th>ANREDE_KZ</th>\n",
       "      <th>FINANZ_MINIMALIST</th>\n",
       "      <th>FINANZ_SPARER</th>\n",
       "      <th>FINANZ_VORSORGER</th>\n",
       "      <th>FINANZ_ANLEGER</th>\n",
       "      <th>FINANZ_UNAUFFAELLIGER</th>\n",
       "      <th>FINANZ_HAUSBAUER</th>\n",
       "      <th>GREEN_AVANTGARDE</th>\n",
       "      <th>HEALTH_TYP</th>\n",
       "      <th>...</th>\n",
       "      <th>CAMEO_DEUG_2015_4</th>\n",
       "      <th>CAMEO_DEUG_2015_5</th>\n",
       "      <th>CAMEO_DEUG_2015_6</th>\n",
       "      <th>CAMEO_DEUG_2015_7</th>\n",
       "      <th>CAMEO_DEUG_2015_8</th>\n",
       "      <th>CAMEO_DEUG_2015_9</th>\n",
       "      <th>CAMEO_INTL_2015_household</th>\n",
       "      <th>CAMEO_INTL_2015_status</th>\n",
       "      <th>PRAEGENDE_JUGENDJAHRE_decade</th>\n",
       "      <th>PRAEGENDE_JUGENDJAHRE_movement</th>\n",
       "    </tr>\n",
       "  </thead>\n",
       "  <tbody>\n",
       "    <tr>\n",
       "      <th>0</th>\n",
       "      <td>4.0</td>\n",
       "      <td>1.0</td>\n",
       "      <td>5.0</td>\n",
       "      <td>1.0</td>\n",
       "      <td>5.0</td>\n",
       "      <td>1.0</td>\n",
       "      <td>2.0</td>\n",
       "      <td>2.0</td>\n",
       "      <td>1.0</td>\n",
       "      <td>1.0</td>\n",
       "      <td>...</td>\n",
       "      <td>0.0</td>\n",
       "      <td>0.0</td>\n",
       "      <td>0.0</td>\n",
       "      <td>0.0</td>\n",
       "      <td>0.0</td>\n",
       "      <td>0.0</td>\n",
       "      <td>3.0</td>\n",
       "      <td>3.0</td>\n",
       "      <td>2.0</td>\n",
       "      <td>1.0</td>\n",
       "    </tr>\n",
       "    <tr>\n",
       "      <th>2</th>\n",
       "      <td>4.0</td>\n",
       "      <td>2.0</td>\n",
       "      <td>5.0</td>\n",
       "      <td>1.0</td>\n",
       "      <td>5.0</td>\n",
       "      <td>1.0</td>\n",
       "      <td>4.0</td>\n",
       "      <td>4.0</td>\n",
       "      <td>1.0</td>\n",
       "      <td>2.0</td>\n",
       "      <td>...</td>\n",
       "      <td>0.0</td>\n",
       "      <td>1.0</td>\n",
       "      <td>0.0</td>\n",
       "      <td>0.0</td>\n",
       "      <td>0.0</td>\n",
       "      <td>0.0</td>\n",
       "      <td>4.0</td>\n",
       "      <td>4.0</td>\n",
       "      <td>2.0</td>\n",
       "      <td>1.0</td>\n",
       "    </tr>\n",
       "    <tr>\n",
       "      <th>3</th>\n",
       "      <td>4.0</td>\n",
       "      <td>1.0</td>\n",
       "      <td>5.0</td>\n",
       "      <td>1.0</td>\n",
       "      <td>5.0</td>\n",
       "      <td>2.0</td>\n",
       "      <td>1.0</td>\n",
       "      <td>2.0</td>\n",
       "      <td>0.0</td>\n",
       "      <td>2.0</td>\n",
       "      <td>...</td>\n",
       "      <td>1.0</td>\n",
       "      <td>0.0</td>\n",
       "      <td>0.0</td>\n",
       "      <td>0.0</td>\n",
       "      <td>0.0</td>\n",
       "      <td>0.0</td>\n",
       "      <td>4.0</td>\n",
       "      <td>4.0</td>\n",
       "      <td>1.0</td>\n",
       "      <td>0.0</td>\n",
       "    </tr>\n",
       "    <tr>\n",
       "      <th>4</th>\n",
       "      <td>3.0</td>\n",
       "      <td>1.0</td>\n",
       "      <td>3.0</td>\n",
       "      <td>1.0</td>\n",
       "      <td>4.0</td>\n",
       "      <td>4.0</td>\n",
       "      <td>5.0</td>\n",
       "      <td>2.0</td>\n",
       "      <td>0.0</td>\n",
       "      <td>3.0</td>\n",
       "      <td>...</td>\n",
       "      <td>0.0</td>\n",
       "      <td>0.0</td>\n",
       "      <td>0.0</td>\n",
       "      <td>1.0</td>\n",
       "      <td>0.0</td>\n",
       "      <td>0.0</td>\n",
       "      <td>1.0</td>\n",
       "      <td>1.0</td>\n",
       "      <td>4.0</td>\n",
       "      <td>0.0</td>\n",
       "    </tr>\n",
       "    <tr>\n",
       "      <th>5</th>\n",
       "      <td>3.0</td>\n",
       "      <td>1.0</td>\n",
       "      <td>5.0</td>\n",
       "      <td>1.0</td>\n",
       "      <td>5.0</td>\n",
       "      <td>1.0</td>\n",
       "      <td>2.0</td>\n",
       "      <td>3.0</td>\n",
       "      <td>1.0</td>\n",
       "      <td>3.0</td>\n",
       "      <td>...</td>\n",
       "      <td>0.0</td>\n",
       "      <td>1.0</td>\n",
       "      <td>0.0</td>\n",
       "      <td>0.0</td>\n",
       "      <td>0.0</td>\n",
       "      <td>0.0</td>\n",
       "      <td>4.0</td>\n",
       "      <td>4.0</td>\n",
       "      <td>2.0</td>\n",
       "      <td>1.0</td>\n",
       "    </tr>\n",
       "  </tbody>\n",
       "</table>\n",
       "<p>5 rows × 130 columns</p>\n",
       "</div>"
      ],
      "text/plain": [
       "   ALTERSKATEGORIE_GROB  ANREDE_KZ  FINANZ_MINIMALIST  FINANZ_SPARER  \\\n",
       "0                   4.0        1.0                5.0            1.0   \n",
       "2                   4.0        2.0                5.0            1.0   \n",
       "3                   4.0        1.0                5.0            1.0   \n",
       "4                   3.0        1.0                3.0            1.0   \n",
       "5                   3.0        1.0                5.0            1.0   \n",
       "\n",
       "   FINANZ_VORSORGER  FINANZ_ANLEGER  FINANZ_UNAUFFAELLIGER  FINANZ_HAUSBAUER  \\\n",
       "0               5.0             1.0                    2.0               2.0   \n",
       "2               5.0             1.0                    4.0               4.0   \n",
       "3               5.0             2.0                    1.0               2.0   \n",
       "4               4.0             4.0                    5.0               2.0   \n",
       "5               5.0             1.0                    2.0               3.0   \n",
       "\n",
       "   GREEN_AVANTGARDE  HEALTH_TYP               ...                \\\n",
       "0               1.0         1.0               ...                 \n",
       "2               1.0         2.0               ...                 \n",
       "3               0.0         2.0               ...                 \n",
       "4               0.0         3.0               ...                 \n",
       "5               1.0         3.0               ...                 \n",
       "\n",
       "   CAMEO_DEUG_2015_4  CAMEO_DEUG_2015_5  CAMEO_DEUG_2015_6  CAMEO_DEUG_2015_7  \\\n",
       "0                0.0                0.0                0.0                0.0   \n",
       "2                0.0                1.0                0.0                0.0   \n",
       "3                1.0                0.0                0.0                0.0   \n",
       "4                0.0                0.0                0.0                1.0   \n",
       "5                0.0                1.0                0.0                0.0   \n",
       "\n",
       "   CAMEO_DEUG_2015_8  CAMEO_DEUG_2015_9  CAMEO_INTL_2015_household  \\\n",
       "0                0.0                0.0                        3.0   \n",
       "2                0.0                0.0                        4.0   \n",
       "3                0.0                0.0                        4.0   \n",
       "4                0.0                0.0                        1.0   \n",
       "5                0.0                0.0                        4.0   \n",
       "\n",
       "   CAMEO_INTL_2015_status  PRAEGENDE_JUGENDJAHRE_decade  \\\n",
       "0                     3.0                           2.0   \n",
       "2                     4.0                           2.0   \n",
       "3                     4.0                           1.0   \n",
       "4                     1.0                           4.0   \n",
       "5                     4.0                           2.0   \n",
       "\n",
       "   PRAEGENDE_JUGENDJAHRE_movement  \n",
       "0                             1.0  \n",
       "2                             1.0  \n",
       "3                             0.0  \n",
       "4                             0.0  \n",
       "5                             1.0  \n",
       "\n",
       "[5 rows x 130 columns]"
      ]
     },
     "execution_count": 114,
     "metadata": {},
     "output_type": "execute_result"
    }
   ],
   "source": [
    "# applying imputation on the missing values (strategy='mean')\n",
    "imputer_mean = Imputer(missing_values=np.nan, strategy='mean', axis=0)\n",
    "customers_clean_imputed = pd.DataFrame(imputer_mean.fit_transform(customers_clean))\n",
    "# restoring the data frame\n",
    "customers_clean_imputed.columns = customers_clean.columns\n",
    "customers_clean_imputed.index = customers_clean.index\n",
    "customers_clean_imputed.head()"
   ]
  },
  {
   "cell_type": "code",
   "execution_count": 115,
   "metadata": {},
   "outputs": [],
   "source": [
    "# scaling the customers data \n",
    "scaler = StandardScaler()\n",
    "customers_clean_imputed_scaled = pd.DataFrame(scaler.fit_transform(customers_clean_imputed))\n",
    "# restoring the data frame\n",
    "customers_clean_imputed_scaled.columns = customers_clean.columns\n",
    "customers_clean_imputed_scaled.index = customers_clean.index"
   ]
  },
  {
   "cell_type": "code",
   "execution_count": 116,
   "metadata": {},
   "outputs": [],
   "source": [
    "# applying PCA to the data with only 62 components\n",
    "pca, customers_clean_imputed_scaled_pca = do_pca (62, customers_clean_imputed_scaled)"
   ]
  },
  {
   "cell_type": "code",
   "execution_count": 117,
   "metadata": {},
   "outputs": [],
   "source": [
    "#fit the k-means model with 17 clusters and obtain\n",
    "# clusteaar predictions for the customers demographics data.\n",
    "\n",
    "#instiate the model\n",
    "k_means = KMeans(n_clusters=17) \n",
    "# fit the model and predict cluster labels\n",
    "predict_labels_customers = k_means.fit_predict(customers_clean_imputed_scaled_pca)"
   ]
  },
  {
   "cell_type": "markdown",
   "metadata": {},
   "source": [
    "### Step 3.3: Compare Customer Data to Demographics Data\n",
    "\n",
    "At this point, you have clustered data based on demographics of the general population of Germany, and seen how the customer data for a mail-order sales company maps onto those demographic clusters. In this final substep, you will compare the two cluster distributions to see where the strongest customer base for the company is.\n",
    "\n",
    "Consider the proportion of persons in each cluster for the general population, and the proportions for the customers. If we think the company's customer base to be universal, then the cluster assignment proportions should be fairly similar between the two. If there are only particular segments of the population that are interested in the company's products, then we should see a mismatch from one to the other. If there is a higher proportion of persons in a cluster for the customer data compared to the general population (e.g. 5% of persons are assigned to a cluster for the general population, but 15% of the customer data is closest to that cluster's centroid) then that suggests the people in that cluster to be a target audience for the company. On the other hand, the proportion of the data in a cluster being larger in the general population than the customer data (e.g. only 2% of customers closest to a population centroid that captures 6% of the data) suggests that group of persons to be outside of the target demographics.\n",
    "\n",
    "Take a look at the following points in this step:\n",
    "\n",
    "- Compute the proportion of data points in each cluster for the general population and the customer data. Visualizations will be useful here: both for the individual dataset proportions, but also to visualize the ratios in cluster representation between groups. Seaborn's [`countplot()`](https://seaborn.pydata.org/generated/seaborn.countplot.html) or [`barplot()`](https://seaborn.pydata.org/generated/seaborn.barplot.html) function could be handy.\n",
    "  - Recall the analysis you performed in step 1.1.3 of the project, where you separated out certain data points from the dataset if they had more than a specified threshold of missing values. If you found that this group was qualitatively different from the main bulk of the data, you should treat this as an additional data cluster in this analysis. Make sure that you account for the number of data points in this subset, for both the general population and customer datasets, when making your computations!\n",
    "- Which cluster or clusters are overrepresented in the customer dataset compared to the general population? Select at least one such cluster and infer what kind of people might be represented by that cluster. Use the principal component interpretations from step 2.3 or look at additional components to help you make this inference. Alternatively, you can use the `.inverse_transform()` method of the PCA and StandardScaler objects to transform centroids back to the original data space and interpret the retrieved values directly.\n",
    "- Perform a similar investigation for the underrepresented clusters. Which cluster or clusters are underrepresented in the customer dataset compared to the general population, and what kinds of people are typified by these clusters?"
   ]
  },
  {
   "cell_type": "code",
   "execution_count": 200,
   "metadata": {},
   "outputs": [],
   "source": [
    "# generating a cluster for the missing data points for the general popuation and customer data set\n",
    "\n",
    "# array with missing values\n",
    "azdias_over_mean_array = np.full((azdias_over_mean.shape[0],), -1)\n",
    "\n",
    "# join predicted labels for general population with array of missing values\n",
    "predict_all_labels_azdias = np.concatenate([predict_labels_azdias, azdias_over_mean_array])\n",
    "\n",
    "# array with missing values\n",
    "customers_over_mean_array = np.full((customers_over_mean.shape[0],), -1)\n",
    "#j oin predicted labels for customer population with array of missing values\n",
    "predict_all_labels_customers = np.concatenate([predict_labels_customers, customers_over_mean_array])\n",
    "\n",
    "#(inspiration: https://github.com/MiguelAMartinez/identify-customer-segments-Arvato/blob/master/Identify_Customer_Segments.ipynb)"
   ]
  },
  {
   "cell_type": "code",
   "execution_count": 242,
   "metadata": {},
   "outputs": [],
   "source": [
    "# proportion of data points in each cluster for the customer data\n",
    "customer_cluster = pd.Series(predict_all_labels_customers).value_counts(normalize=True)\n",
    "customer_cluster = pd.DataFrame(customer_cluster,columns=['proportion'])\n",
    "# proportion of data points in each cluster for the general population\n",
    "general_cluster = pd.Series(predict_all_labels_azdias).value_counts(normalize=True)\n",
    "general_cluster = pd.DataFrame(general_cluster,columns=['proportion'])"
   ]
  },
  {
   "cell_type": "code",
   "execution_count": 243,
   "metadata": {},
   "outputs": [
    {
     "data": {
      "image/png": "[encoded data removed]",
      "text/plain": [
       "<matplotlib.figure.Figure at 0x7fa79459aac8>"
      ]
     },
     "metadata": {
      "needs_background": "light"
     },
     "output_type": "display_data"
    }
   ],
   "source": [
    "# plotting the proportion of data points in each cluster for the general population and the customer data\n",
    "fig = plt.subplots(nrows=1, ncols=1, figsize=(20,10))\n",
    "    \n",
    "plt.subplot(1, 2, 1)\n",
    "sns.barplot(x=customer_cluster.index, y=customer_cluster.proportion, hue=None, data=None, color=base_color)\n",
    "plt.title('Customer Data Clusters')\n",
    "plt.xlabel('cluster')\n",
    "\n",
    "plt.subplot(1, 2, 2)\n",
    "sns.barplot(x=general_cluster.index, y=general_cluster.proportion, hue=None, data=None, color=base_color)\n",
    "plt.title('General Poputlation Clusters')\n",
    "plt.xlabel('cluster')\n",
    "\n",
    "plt.show()"
   ]
  },
  {
   "cell_type": "code",
   "execution_count": 314,
   "metadata": {},
   "outputs": [
    {
     "name": "stdout",
     "output_type": "stream",
     "text": [
      "clusters that are overrepresented (in &) in the customer dataset:\n",
      " 10    8.353662\n",
      "-1     7.997330\n",
      " 14    3.087890\n",
      " 7     1.832620\n",
      " 8     1.407126\n",
      " 0     1.176078\n",
      " 2     0.712042\n",
      " 11    0.673960\n",
      " 13    0.118994\n",
      "Name: proportion, dtype: float64\n",
      "\n",
      "\n",
      "clusters that are underrepresented (in &) in the customer dataset:\n",
      "5    -0.615157\n",
      "6    -1.147825\n",
      "16   -2.002801\n",
      "1    -2.337599\n",
      "3    -3.134842\n",
      "4    -3.326619\n",
      "12   -3.643303\n",
      "15   -4.487925\n",
      "9    -4.663629\n",
      "Name: proportion, dtype: float64\n"
     ]
    }
   ],
   "source": [
    "# What kinds of people are part of a cluster that is overrepresented in the\n",
    "# customer data compared to the general population?\n",
    "representation_data_customer = (customer_cluster.proportion - general_cluster.proportion)*100\n",
    "print('clusters that are overrepresented (in &) in the customer dataset:' + \"\\n\" + '{}'.format(representation_data_customer.sort_values(ascending=False).head(9)))\n",
    "print('\\n')\n",
    "print('clusters that are underrepresented (in &) in the customer dataset:' + \"\\n\" + '{}'.format(representation_data_customer.sort_values(ascending=False).tail(9)))"
   ]
  },
  {
   "cell_type": "markdown",
   "metadata": {},
   "source": [
    "I will have a look at **cluster 10** (which is mostclusters that are most overrepresented in the customer dataset) and **cluster 9** (which is mostclusters that are most underrepresented in the customer dataset).\n",
    "By doing so, I will compare the two clusters in Terms of **Gender** (ANREDE_KZ), **Age** (ALTERSKATEGORIE_GROB), **net income** (HH_EINKOMMEN_SCORE), **tradional-minded** (SEMIO_TRADV), **Distance to city center** (downtown) (INNENSTADT)."
   ]
  },
  {
   "cell_type": "code",
   "execution_count": 415,
   "metadata": {},
   "outputs": [
    {
     "data": {
      "text/plain": [
       "ALTERSKATEGORIE_GROB              3.980198\n",
       "ANREDE_KZ                         0.973056\n",
       "FINANZ_MINIMALIST                 4.960549\n",
       "FINANZ_SPARER                     1.071986\n",
       "FINANZ_VORSORGER                  4.903662\n",
       "FINANZ_ANLEGER                    0.910692\n",
       "FINANZ_UNAUFFAELLIGER             1.713946\n",
       "FINANZ_HAUSBAUER                  2.269688\n",
       "GREEN_AVANTGARDE                  0.982011\n",
       "HEALTH_TYP                        1.220487\n",
       "RETOURTYP_BK_S                    4.234403\n",
       "SEMIO_SOZ                         4.943449\n",
       "SEMIO_FAM                         4.457919\n",
       "SEMIO_REL                         3.509210\n",
       "SEMIO_MAT                         4.695736\n",
       "SEMIO_VERT                        6.746365\n",
       "SEMIO_LUST                        6.665094\n",
       "SEMIO_ERL                         3.532655\n",
       "SEMIO_KULT                        4.632973\n",
       "SEMIO_RAT                         1.949562\n",
       "SEMIO_KRIT                        2.558513\n",
       "SEMIO_DOM                         2.691773\n",
       "SEMIO_KAEM                        1.601031\n",
       "SEMIO_PFLICHT                     2.268974\n",
       "SEMIO_TRADV                       2.572574\n",
       "SOHO_KZ                           0.011543\n",
       "ANZ_PERSONEN                      2.338416\n",
       "ANZ_TITEL                         0.009609\n",
       "HH_EINKOMMEN_SCORE                1.992378\n",
       "W_KEIT_KIND_HH                    4.558065\n",
       "                                    ...   \n",
       "SHOPPER_TYP_1.0                   0.021180\n",
       "SHOPPER_TYP_2.0                   0.016632\n",
       "SHOPPER_TYP_3.0                   0.593583\n",
       "VERS_TYP_1.0                      0.990416\n",
       "VERS_TYP_2.0                      0.006004\n",
       "ZABEOTYP_1                        0.635828\n",
       "ZABEOTYP_2                        0.004674\n",
       "ZABEOTYP_3                        0.365003\n",
       "ZABEOTYP_4                       -0.006221\n",
       "ZABEOTYP_5                       -0.002276\n",
       "ZABEOTYP_6                        0.002992\n",
       "GEBAEUDETYP_1.0                   0.764340\n",
       "GEBAEUDETYP_2.0                   0.029910\n",
       "GEBAEUDETYP_3.0                   0.084876\n",
       "GEBAEUDETYP_4.0                   0.004063\n",
       "GEBAEUDETYP_6.0                   0.000789\n",
       "GEBAEUDETYP_8.0                   0.116022\n",
       "CAMEO_DEUG_2015_1                 0.291176\n",
       "CAMEO_DEUG_2015_2                 0.241734\n",
       "CAMEO_DEUG_2015_3                 0.116647\n",
       "CAMEO_DEUG_2015_4                 0.108471\n",
       "CAMEO_DEUG_2015_5                 0.067404\n",
       "CAMEO_DEUG_2015_6                 0.105621\n",
       "CAMEO_DEUG_2015_7                 0.029287\n",
       "CAMEO_DEUG_2015_8                 0.027979\n",
       "CAMEO_DEUG_2015_9                 0.009469\n",
       "CAMEO_INTL_2015_household         3.890873\n",
       "CAMEO_INTL_2015_status            3.890873\n",
       "PRAEGENDE_JUGENDJAHRE_decade      2.199546\n",
       "PRAEGENDE_JUGENDJAHRE_movement    0.983890\n",
       "Name: 10, Length: 130, dtype: float64"
      ]
     },
     "execution_count": 415,
     "metadata": {},
     "output_type": "execute_result"
    }
   ],
   "source": [
    "# applying .inverse_transform() to transform centroids back to the original data\n",
    "cluster_features = scaler.inverse_transform(pca.inverse_transform(k_means.cluster_centers_))\n",
    "cluster_features = pd.DataFrame(original_data_features, columns=customers_clean_imputed_scaled.columns)\n",
    "# I will have a closer look at cluster 10 ()\n",
    "cluster_features.loc[10]"
   ]
  },
  {
   "cell_type": "markdown",
   "metadata": {},
   "source": [
    "Overrepresentation of an cluster (compared to the general popultation suggests that the people in that cluster to be a target audience for the company.\n",
    "cluster 10 represents men who are over 46 years old, with a very high income, who live 5 - 10 km to the city center and who are very high affinity to a traditional-mined type."
   ]
  },
  {
   "cell_type": "code",
   "execution_count": 395,
   "metadata": {},
   "outputs": [
    {
     "data": {
      "text/plain": [
       "ALTERSKATEGORIE_GROB              2.614717\n",
       "ANREDE_KZ                         1.443464\n",
       "FINANZ_MINIMALIST                 4.280822\n",
       "FINANZ_SPARER                     1.424717\n",
       "FINANZ_VORSORGER                  4.638254\n",
       "FINANZ_ANLEGER                    1.621155\n",
       "FINANZ_UNAUFFAELLIGER             1.759391\n",
       "FINANZ_HAUSBAUER                  2.785521\n",
       "GREEN_AVANTGARDE                  0.427778\n",
       "HEALTH_TYP                        2.120290\n",
       "RETOURTYP_BK_S                    3.829281\n",
       "SEMIO_SOZ                         4.143150\n",
       "SEMIO_FAM                         4.252717\n",
       "SEMIO_REL                         4.337170\n",
       "SEMIO_MAT                         3.807897\n",
       "SEMIO_VERT                        4.397546\n",
       "SEMIO_LUST                        5.082418\n",
       "SEMIO_ERL                         4.808148\n",
       "SEMIO_KULT                        4.212526\n",
       "SEMIO_RAT                         3.968052\n",
       "SEMIO_KRIT                        4.378030\n",
       "SEMIO_DOM                         4.402130\n",
       "SEMIO_KAEM                        4.051955\n",
       "SEMIO_PFLICHT                     4.414273\n",
       "SEMIO_TRADV                       3.426937\n",
       "SOHO_KZ                           0.013560\n",
       "ANZ_PERSONEN                      2.351668\n",
       "ANZ_TITEL                         0.018532\n",
       "HH_EINKOMMEN_SCORE                3.383725\n",
       "W_KEIT_KIND_HH                    4.176080\n",
       "                                    ...   \n",
       "SHOPPER_TYP_1.0                   0.287149\n",
       "SHOPPER_TYP_2.0                   0.131604\n",
       "SHOPPER_TYP_3.0                   0.201338\n",
       "VERS_TYP_1.0                      0.297479\n",
       "VERS_TYP_2.0                      0.482130\n",
       "ZABEOTYP_1                        0.364401\n",
       "ZABEOTYP_2                        0.000185\n",
       "ZABEOTYP_3                        0.442027\n",
       "ZABEOTYP_4                        0.124200\n",
       "ZABEOTYP_5                        0.001370\n",
       "ZABEOTYP_6                        0.067816\n",
       "GEBAEUDETYP_1.0                   0.678465\n",
       "GEBAEUDETYP_2.0                   0.010944\n",
       "GEBAEUDETYP_3.0                   0.156386\n",
       "GEBAEUDETYP_4.0                   0.000999\n",
       "GEBAEUDETYP_6.0                   0.001797\n",
       "GEBAEUDETYP_8.0                   0.151410\n",
       "CAMEO_DEUG_2015_1                 0.122878\n",
       "CAMEO_DEUG_2015_2                 0.157135\n",
       "CAMEO_DEUG_2015_3                 0.142273\n",
       "CAMEO_DEUG_2015_4                 0.147484\n",
       "CAMEO_DEUG_2015_5                 0.093276\n",
       "CAMEO_DEUG_2015_6                 0.146301\n",
       "CAMEO_DEUG_2015_7                 0.072490\n",
       "CAMEO_DEUG_2015_8                 0.081738\n",
       "CAMEO_DEUG_2015_9                 0.032883\n",
       "CAMEO_INTL_2015_household         3.402592\n",
       "CAMEO_INTL_2015_status            3.402592\n",
       "PRAEGENDE_JUGENDJAHRE_decade      2.723870\n",
       "PRAEGENDE_JUGENDJAHRE_movement    0.445810\n",
       "Name: 9, Length: 130, dtype: float64"
      ]
     },
     "execution_count": 395,
     "metadata": {},
     "output_type": "execute_result"
    }
   ],
   "source": [
    "# I will have a closer look at cluster 9\n",
    "cluster_features.loc[9]"
   ]
  },
  {
   "cell_type": "markdown",
   "metadata": {},
   "source": [
    "Underrepresentation of an cluster (compared to the general popultation) suggests that the group of persons are outside of the target demographic\n",
    "cluster 9 represents men who are between 30-46 years old, with a high income, who live 5 - 10 km to the city centerand who are not as traditional minded as the target group (high affinity).\n",
    "\n",
    "All in all, men in Cluster 9 are younger, no so traditional, and have a lower income than men in target group of the company (cluster 10)."
   ]
  },
  {
   "cell_type": "markdown",
   "metadata": {},
   "source": [
    "### Discussion 3.3: Compare Customer Data to Demographics Data\n",
    "\n",
    "I compared the most under- and overrepresented clusters 9 and 10 (compared to the general popultation) in Terms of **Gender** (ANREDE_KZ), **Age** (ALTERSKATEGORIE_GROB), **net income** (HH_EINKOMMEN_SCORE), **tradional-minded** (SEMIO_TRADV), **Distance to city center** (downtown) (INNENSTADT).\n",
    "\n",
    "#### Cluster 10:\n",
    "Overrepresentation of an cluster (compared to the general popultation) suggests that the people in that cluster to be a target audience for the company.\n",
    "cluster 10 represents men who are over 46 years old, with a very high income, who live 5 - 10 km to the city center and who are very high affinity to a traditional-mined type.\n",
    "\n",
    "#### Cluster 9:\n",
    "Underrepresentation of an cluster (compared to the general popultation) suggests that the group of persons are outside of the target demographic of the company.\n",
    "cluster 9 represents men who are between 30-46 years old, with a high income, who live 5 - 10 km to the city centerand who are not as traditional minded as the target group (high affinity).\n",
    "\n",
    "All in all, men in Cluster 9 (who are not interesting for the company) are younger, not so traditional, and have a lower income than men in target group of the company (cluster 10)\n"
   ]
  }
 ],
 "metadata": {
  "kernelspec": {
   "display_name": "Python 3",
   "language": "python",
   "name": "python3"
  },
  "language_info": {
   "codemirror_mode": {
    "name": "ipython",
    "version": 3
   },
   "file_extension": ".py",
   "mimetype": "text/x-python",
   "name": "python",
   "nbconvert_exporter": "python",
   "pygments_lexer": "ipython3",
   "version": "3.6.3"
  }
 },
 "nbformat": 4,
 "nbformat_minor": 2
}
